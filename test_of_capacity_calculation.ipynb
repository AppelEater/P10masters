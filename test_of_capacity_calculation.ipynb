{
 "cells": [
  {
   "cell_type": "code",
   "execution_count": 2,
   "id": "8b613e49",
   "metadata": {},
   "outputs": [],
   "source": [
    "import jax\n",
    "import jax.numpy as jnp\n",
    "import numpy as np\n",
    "import jax.random as jrandom\n",
    "\n",
    "\n",
    "import Project_library as pl"
   ]
  },
  {
   "cell_type": "code",
   "execution_count": 3,
   "id": "e76dec84",
   "metadata": {},
   "outputs": [],
   "source": [
    "@jax.jit\n",
    "def create_user(id, lat_range, longi_range, key : jax.typing.ArrayLike) -> pl.User:\n",
    "    \"\"\"Creates a list of users with random latitude and longitude.\"\"\"\n",
    "    # Generate a random key for the user\n",
    "    key, subkey = jrandom.split(key, 2)\n",
    "\n",
    "    latitude = jrandom.uniform(key, minval=lat_range[0], maxval=lat_range[1])\n",
    "    key = jrandom.split(key, 1)[0]\n",
    "    # Split the key for the next random number generation\n",
    "    longitude = jrandom.uniform(key, minval=longi_range[0], maxval=longi_range[1])\n",
    "\n",
    "    position = pl.spherical_to_cartesian(6378,latitude, longitude)\n",
    "\n",
    "    return pl.User(\n",
    "        latitude=latitude,\n",
    "        longitude=longitude,\n",
    "        position=position,\n",
    "        id=id\n",
    "    )\n",
    "\n",
    "\n",
    "create_users = jax.vmap(create_user, in_axes=(0, None, None, 0))"
   ]
  },
  {
   "cell_type": "code",
   "execution_count": 4,
   "id": "1d174f9a",
   "metadata": {},
   "outputs": [
    {
     "name": "stdout",
     "output_type": "stream",
     "text": [
      "[-0.05235988  0.05235988] [-0.05235988  0.05235988]\n",
      "[445890.12]\n",
      "[444903]\n",
      "(444903, 2)\n"
     ]
    },
    {
     "data": {
      "text/plain": [
       "User(id=[     0      1      2 ... 444900 444901 444902] \n",
       " lat=[-0.02275351  0.00825531 -0.04514982 ... -0.03094647 -0.01136237\n",
       " -0.01934456] \n",
       " lon=[-0.04484668  0.013107   -0.00148282 ... -0.00045968 -0.02093906\n",
       " -0.00912976])"
      ]
     },
     "execution_count": 4,
     "metadata": {},
     "output_type": "execute_result"
    }
   ],
   "source": [
    "# Specify dummy values for the evaluation\n",
    "satellite_position = np.array([600+6378, 0, 0])\n",
    "\n",
    "# Define users in area below the satellite\n",
    "lat, long = pl.generate_latitude_longitude_divisions(1,1,[jnp.deg2rad(-3),jnp.deg2rad(3)],\n",
    "                                          [jnp.deg2rad(-3),jnp.deg2rad(3)])\n",
    "\n",
    "print(lat,long)\n",
    "\n",
    "print(pl.calculate_area_on_sphere(6378, lat, long))\n",
    "\n",
    "# Generate users in the latitude and longitude divisions\n",
    "key = jax.random.PRNGKey(0)\n",
    "users_amount = jax.random.poisson(key, 1*pl.calculate_area_on_sphere(6378, lat, long))\n",
    "user_ids = jnp.arange(users_amount.item())\n",
    "\n",
    "print(users_amount)\n",
    "users = []\n",
    "\n",
    "key = jrandom.split(key, (users_amount.item()))\n",
    "\n",
    "print(key.shape)\n",
    "\n",
    "users = create_users(user_ids, lat, long, key)\n",
    "\n",
    "users"
   ]
  },
  {
   "cell_type": "code",
   "execution_count": 5,
   "id": "466dd5e0",
   "metadata": {},
   "outputs": [
    {
     "name": "stdout",
     "output_type": "stream",
     "text": [
      "[687.3965  608.8337  671.42163 ... 634.5302  620.6911  616.73566] [1.0353241 1.3923224 1.0822653 ... 1.2235554 1.2996889 1.3263669]\n",
      "[6369.9375 6377.235  6371.4937 ... 6374.9453 6376.19   6376.541 ] [-285.86224     83.59119     -9.447804  ...   -2.9304507 -133.53098\n",
      "  -58.217896 ] [-145.10938    52.651756 -287.8677   ... -197.34505   -72.46763\n",
      " -123.371925]\n"
     ]
    }
   ],
   "source": [
    "# Calculate the distance between users and the satellite\n",
    "distances = pl.calculate_distances(users.position[0], users.position[1], users.position[2], satellite_position)\n",
    "\n",
    "# Calculate the elevation angles of the users\n",
    "elevations = pl.calculate_elevations(users.position[0], users.position[1], users.position[2], satellite_position)\n",
    "\n",
    "print(distances, elevations)\n",
    "print(users.position[0], users.position[1], users.position[2])"
   ]
  },
  {
   "cell_type": "code",
   "execution_count": 11,
   "id": "f9695bda",
   "metadata": {},
   "outputs": [
    {
     "data": {
      "text/plain": [
       "Array(3957885.5, dtype=float32)"
      ]
     },
     "execution_count": 11,
     "metadata": {},
     "output_type": "execute_result"
    }
   ],
   "source": [
    "# Caculate the path loss\n",
    "@jax.jit\n",
    "def calculate_path_loss(distance: float, frequency: float) -> float:\n",
    "    \"\"\"Calculate the path loss using the free space path loss formula.\n",
    "    \n",
    "    Args:\n",
    "        distance (float): The distance between the user and the satellite in m.\n",
    "        frequency (float): The frequency of the signal in MHz.\n",
    "    \"\"\"\n",
    "    # Calculate the path loss using the free space path loss formula\n",
    "    path_loss = 32.45 + 20 * jnp.log10(frequency) + 20 * jnp.log10(distance*1000)\n",
    "\n",
    "    return path_loss\n",
    "\n",
    "# Calculate the gain from the user to the satellite\n",
    "@jax.jit\n",
    "def calculate_gain_fixed(elevation:float, frequency:float) -> float:\n",
    "    \"\"\"Calculate the gain from the user to the satellite.\n",
    "    \n",
    "    Args:\n",
    "        elevation (float): The elevation angle of the satellite in degrees.\n",
    "        frequency (float): The frequency of the signal in MHz.\n",
    "        \n",
    "    return:\n",
    "        float: The gain from the user to the satellite in dB.\n",
    "    \"\"\"\n",
    "\n",
    "    user_gain = 0.0\n",
    "    satellite_gain = 30.0\n",
    "    # Values from 3gpp TR 38.811 and 38.821\n",
    "\n",
    "    return satellite_gain, user_gain\n",
    "\n",
    "def calculate_noise(sky_temperature : float, Bandwidth :float , Kb : float) -> float:\n",
    "    \"\"\"Calculate the noise using the formula N = k * T * B.\n",
    "    \n",
    "    Args:\n",
    "        sky_temperature (float): The sky temperature in Kelvin.\n",
    "        Bandwidth (float): The bandwidth in Hz.\n",
    "        Kb (float): The Boltzmann constant in J/K.\n",
    "        \n",
    "    return:\n",
    "        float: The noise in dBm.\n",
    "    \"\"\"\n",
    "    # Calculate the noise using the formula N = k * T * B\n",
    "    noise = 10 * jnp.log10(Kb * sky_temperature * Bandwidth)\n",
    "    return noise\n",
    "\n",
    "# Calculate the SNR\n",
    "@jax.jit\n",
    "def calculate_snr(power : float, frequency : float, bandwidth : float, distance: float, elevation: float) -> float:\n",
    "    \"\"\"Calculate the SNR using the path loss and gain.\"\"\"\n",
    "    # Calculate the SNR using the formula SNR = gain - path_loss - nois\n",
    "\n",
    "    gain_tx, gain_rx = calculate_gain_fixed(elevation, None)\n",
    "    path_loss = calculate_path_loss(distance, frequency)\n",
    "    noise = calculate_noise(300, bandwidth, 1.38e-23)\n",
    "\n",
    "    power_db = 10 * jnp.log10(power)\n",
    "\n",
    "    snr = power_db + gain_tx + gain_rx - path_loss - noise\n",
    "\n",
    "    return snr\n",
    "\n",
    "# Calculate the capacity of each channel with a uniform distribution of bandwidths\n",
    "@jax.jit\n",
    "def calculate_capacity(snr: float, bandwidth: float) -> float:\n",
    "    \"\"\"Calculate the capacity of a channel using the Shannon formula.\n",
    "    \n",
    "    args:\n",
    "        snr (float): The signal-to-noise ratio in dB.\n",
    "        bandwidth (float): The bandwidth of the channel in Hz.\n",
    "    \"\"\"\n",
    "    # Calculate the capacity using the Shannon formula\n",
    "    capacity = bandwidth * jnp.log2(1 + jnp.power(10,snr/10))\n",
    "\n",
    "    return capacity\n",
    "\n",
    "\n",
    "bandwidth = 1e6\n",
    "power = 0.2 # W\n",
    "snr = calculate_snr(0.2, 2, bandwidth, distances[0], elevations[0])\n",
    "calculate_capacity(snr, 1e6)\n"
   ]
  },
  {
   "cell_type": "code",
   "execution_count": null,
   "id": "af28f436",
   "metadata": {},
   "outputs": [],
   "source": [
    "calculate_capacities = jax.vmap(calculate_capacity, in_axes=(0, None))\n",
    "calculate_capacities(\n",
    "    calculate_snrs(\n",
    "        calculate_path_loss(distances, 2e9), \n",
    "        calculate_gain_fixed(elevations, 2e9), \n",
    "        calculate_noise(100, 1e6/len(users), 1.38e-23)\n",
    "    ), \n",
    "    jnp.array(1e6/len(users))\n",
    ")"
   ]
  },
  {
   "cell_type": "code",
   "execution_count": null,
   "id": "25bffa47",
   "metadata": {},
   "outputs": [],
   "source": []
  }
 ],
 "metadata": {
  "kernelspec": {
   "display_name": "venv",
   "language": "python",
   "name": "python3"
  },
  "language_info": {
   "codemirror_mode": {
    "name": "ipython",
    "version": 3
   },
   "file_extension": ".py",
   "mimetype": "text/x-python",
   "name": "python",
   "nbconvert_exporter": "python",
   "pygments_lexer": "ipython3",
   "version": "3.10.11"
  }
 },
 "nbformat": 4,
 "nbformat_minor": 5
}
