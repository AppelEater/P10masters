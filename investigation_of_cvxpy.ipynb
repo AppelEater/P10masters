{
 "cells": [
  {
   "cell_type": "code",
   "execution_count": 2,
   "id": "1496fbc5",
   "metadata": {},
   "outputs": [
    {
     "name": "stdout",
     "output_type": "stream",
     "text": [
      "Beam schedule (time slots × cells):\n",
      " [[0 0 0 1]\n",
      " [0 0 0 0]\n",
      " [0 0 0 0]\n",
      " [0 0 0 0]\n",
      " [0 0 0 0]\n",
      " [0 0 0 0]\n",
      " [0 0 0 1]\n",
      " [1 0 0 0]\n",
      " [0 1 0 0]\n",
      " [0 0 1 0]]\n"
     ]
    }
   ],
   "source": [
    "import cvxpy as cp\n",
    "import numpy as np\n",
    "\n",
    "# Problem setup (normalized units)\n",
    "M = 10        # Number of time slots\n",
    "K = 4         # Number of cells (users)\n",
    "tau = 1.0     # Slot duration (normalized to 1)\n",
    "B = 1.0       # Bandwidth (normalized to 1 Hz)\n",
    "SNR_dB = np.array([10, 12, 11, 9])  # SNRs per user\n",
    "SNR = 10 ** (SNR_dB / 10)           # Convert to linear scale\n",
    "\n",
    "# Normalized rate per beam (in bits per time slot)\n",
    "R_k = B * np.log2(1 + SNR)  # Unit: bits/second in normalized terms\n",
    "\n",
    "# Set normalized demands in bits (low values now make sense)\n",
    "d_k = np.array([1.0, 2.0, 3.0, 4.0])  # Reasonable given normalized R_k\n",
    "\n",
    "# Binary decision variable: x[i, k] = 1 if cell k is served at time i\n",
    "x = cp.Variable((M, K), boolean=True)\n",
    "\n",
    "# Constraints\n",
    "constraints = []\n",
    "\n",
    "# (C1) Meet demand for each user\n",
    "for k in range(K):\n",
    "    constraints.append(cp.sum(x[:, k]) * R_k[k] * tau >= d_k[k])\n",
    "\n",
    "# (C2) Only one beam active per time slot\n",
    "for i in range(M):\n",
    "    constraints.append(cp.sum(x[i, :]) <= 1)\n",
    "\n",
    "# Objective: feasibility only\n",
    "objective = cp.Minimize(0)\n",
    "problem = cp.Problem(objective, constraints)\n",
    "\n",
    "# Solve the problem\n",
    "problem.solve(solver=cp.ECOS_BB)\n",
    "\n",
    "# Output schedule\n",
    "if x.value is not None:\n",
    "    schedule = np.round(x.value).astype(int)\n",
    "    print(\"Beam schedule (time slots × cells):\\n\", schedule)\n",
    "else:\n",
    "    print(\"Problem is infeasible\")\n"
   ]
  }
 ],
 "metadata": {
  "kernelspec": {
   "display_name": "venv",
   "language": "python",
   "name": "python3"
  },
  "language_info": {
   "codemirror_mode": {
    "name": "ipython",
    "version": 3
   },
   "file_extension": ".py",
   "mimetype": "text/x-python",
   "name": "python",
   "nbconvert_exporter": "python",
   "pygments_lexer": "ipython3",
   "version": "3.10.11"
  }
 },
 "nbformat": 4,
 "nbformat_minor": 5
}
