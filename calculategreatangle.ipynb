{
 "cells": [
  {
   "cell_type": "code",
   "execution_count": 2,
   "id": "c4bde486",
   "metadata": {},
   "outputs": [],
   "source": [
    "import Project_library\n",
    "import jax\n",
    "import jax.numpy as jnp"
   ]
  },
  {
   "cell_type": "code",
   "execution_count": 3,
   "id": "0329bc01",
   "metadata": {},
   "outputs": [],
   "source": [
    "min_observation = jnp.deg2rad(30)\n",
    "# Calculate the visible area, given the minimum observational angle\n",
    "\n",
    "# Only works when at equator\n",
    "def visible_angle(min_observation, satellite_position : jnp.ndarray) -> tuple[float, float, float, float, float, float]:\n",
    "    \"\"\"Calculate the visible angle area of a satellite given its position.\n",
    "\n",
    "    Args:\n",
    "        min_observation (float): The minimum observational angle in radians.\n",
    "        satellite_position (jnp.ndarray): The position of the satellite in Cartesian coordinates.\n",
    "\n",
    "    Returns:\n",
    "        tuple: A tuple containing the visible area and the radius of the visible area.\n",
    "    \"\"\"\n",
    "    # Calculate the distance from the satellite to the center of the Earth\n",
    "    distance = jnp.linalg.norm(satellite_position)\n",
    "    # Calculate the radius of the Earth\n",
    "    earth_radius = 6371  # in km\n",
    "\n",
    "    #\n",
    "    bing = jnp.sin(min_observation+jnp.pi/2)\n",
    "\n",
    "    print(bing)\n",
    "\n",
    "    # Calculate the angle of the satellite\n",
    "    alpha = jnp.arcsin(earth_radius*bing/distance)\n",
    "    # Calculate the angle from the center of the earth\n",
    "    lat_width = jnp.pi/2 - alpha - min_observation\n",
    "\n",
    "    # Calculate the spherical value of the satellite\n",
    "    radius, longitude, latitude = pl.cartesian_to_spherical(*satellite_position)\n",
    "    \n",
    "    # Define the ranges of the visible area\n",
    "    lat_range = (latitude.item() - lat_width, latitude.item() + lat_width)\n",
    "    lon_range = (longitude.item() - lat_width, longitude.item() + lat_width)\n",
    "\n",
    "    print(longitude, latitude, lat_range, lon_range)\n",
    "\n",
    "\n",
    "    return lat_range, lon_range, radius, alpha, distance, lat_width"
   ]
  },
  {
   "cell_type": "code",
   "execution_count": 23,
   "id": "a727fc7e",
   "metadata": {},
   "outputs": [],
   "source": [
    "#@jax.jit\n",
    "def calculate_if_cell_within_visible_area(\n",
    "        cell_latitude_list: float,\n",
    "        cell_longitude_list: float,\n",
    "        satellite_latitude: float,\n",
    "        satellite_longitude: float,\n",
    "        satellite_height: float,\n",
    "        alpha : float,\n",
    "        earth_radius: float = 6371.0) -> bool:\n",
    "    \"\"\"Check if a cell is within the visible area of a satellite.\n",
    "\n",
    "    \"\"\"\n",
    "    \n",
    "    phi_s, lam_s, alpha = jnp.deg2rad(jnp.asarray([satellite_latitude, satellite_longitude, alpha]))\n",
    "    cos_alpha  = jnp.cos(alpha)\n",
    "\n",
    "    # Make into a tensor\n",
    "    phi_c  = jnp.deg2rad(cell_latitude_list)[:, None]          # (N,1)\n",
    "    lam_c  = jnp.deg2rad(cell_longitude_list)[None, :]          # (1,M)\n",
    "\n",
    "    sin_phi_s, cos_phi_s = jnp.sin(phi_s), jnp.cos(phi_s)\n",
    "    sin_phi_c, cos_phi_c = jnp.sin(phi_c), jnp.cos(phi_c)\n",
    "\n",
    "    # Calculate the angle from the center of the earth\n",
    "    cos_dsigma = (sin_phi_s * sin_phi_c +\n",
    "                  cos_phi_s * cos_phi_c * jnp.cos(lam_c - lam_s))\n",
    "    \n",
    "    # Calculate the conditional\n",
    "    return cos_dsigma >= cos_alpha\n",
    "    \n",
    "\n",
    "visible_area = calculate_if_cell_within_visible_area(cell_latitude_list=jnp.deg2rad(jnp.linspace(-10,10,100)),\n",
    "                                    cell_longitude_list=jnp.deg2rad(jnp.linspace(-10,10,100)),\n",
    "                                    satellite_latitude=jnp.deg2rad(0),\n",
    "                                    satellite_longitude=jnp.deg2rad(0),\n",
    "                                    satellite_height=6000,\n",
    "                                    alpha=jnp.deg2rad(10),\n",
    "                                    earth_radius=6371.0\n",
    ")\n",
    "\n"
   ]
  },
  {
   "cell_type": "code",
   "execution_count": 24,
   "id": "04b009af",
   "metadata": {},
   "outputs": [
    {
     "data": {
      "text/plain": [
       "<matplotlib.image.AxesImage at 0x1ea619e64d0>"
      ]
     },
     "execution_count": 24,
     "metadata": {},
     "output_type": "execute_result"
    },
    {
     "data": {
      "image/png": "[encoded data removed]",
      "text/plain": [
       "<Figure size 640x480 with 1 Axes>"
      ]
     },
     "metadata": {},
     "output_type": "display_data"
    }
   ],
   "source": [
    "import matplotlib.pyplot as plt\n",
    "plt.imshow(visible_area, cmap='gray')"
   ]
  }
 ],
 "metadata": {
  "kernelspec": {
   "display_name": ".venv",
   "language": "python",
   "name": "python3"
  },
  "language_info": {
   "codemirror_mode": {
    "name": "ipython",
    "version": 3
   },
   "file_extension": ".py",
   "mimetype": "text/x-python",
   "name": "python",
   "nbconvert_exporter": "python",
   "pygments_lexer": "ipython3",
   "version": "3.10.0"
  }
 },
 "nbformat": 4,
 "nbformat_minor": 5
}
