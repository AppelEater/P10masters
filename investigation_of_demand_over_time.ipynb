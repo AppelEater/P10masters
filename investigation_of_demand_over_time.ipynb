{
 "cells": [
  {
   "cell_type": "code",
   "execution_count": 1,
   "id": "01161341",
   "metadata": {},
   "outputs": [],
   "source": [
    "import jax\n",
    "import jax.numpy as jnp\n",
    "import jax.random as jrandom\n",
    "import matplotlib.pyplot as plt\n",
    "\n",
    "import Project_library as pl"
   ]
  },
  {
   "cell_type": "markdown",
   "id": "715d4901",
   "metadata": {},
   "source": [
    "## Auto Regressive model for data demand change"
   ]
  },
  {
   "cell_type": "code",
   "execution_count": 2,
   "id": "d0470e22",
   "metadata": {},
   "outputs": [
    {
     "data": {
      "image/png": "[encoded data removed]",
      "text/plain": [
       "<Figure size 640x480 with 1 Axes>"
      ]
     },
     "metadata": {},
     "output_type": "display_data"
    }
   ],
   "source": [
    "def ar1_process(demand_over_time: jnp.ndarray, variability : float, time_slots : int, ar_weight : float, key : jnp.ndarray) -> jnp.ndarray:\n",
    "    white_noise = jrandom.normal(key, demand_over_time.shape)  # Generate white noise\n",
    "\n",
    "     # Add the initial demand to the white noise\n",
    "\n",
    "    for i in range(1, time_slots):\n",
    "        demand_over_time = demand_over_time.at[i].set(ar_weight * demand_over_time[i-1] + white_noise[i]+ demand_over_time[0])\n",
    "\n",
    "    return demand_over_time\n",
    "\n",
    "\n",
    "# Demanded bit rate changes with time\n",
    "# Demand is intialised\n",
    "for k in range(1, 10):\n",
    "    demand = jnp.array([jrandom.randint(jrandom.PRNGKey(k), (1), minval=200, maxval = 750)])\n",
    "    \n",
    "    # The reconfiguration period is 30 seconds\n",
    "    reconfiguration_period = 30\n",
    "    # The number of reconfigurations is 10\n",
    "    time_slots = 10\n",
    "\n",
    "    time_slot_duration =int( reconfiguration_period / time_slots)\n",
    "\n",
    "    # Setup array with demand over time\n",
    "    demand_over_time = jnp.zeros((time_slots, demand.shape[0]))\n",
    "\n",
    "    demand_over_time = demand_over_time.at[0].set(demand[0].item())\n",
    "\n",
    "    #print(demand_over_time)\n",
    "\n",
    "    key, subkey = jrandom.split(jrandom.PRNGKey(k))\n",
    "    # Calculate the AR(1) process for the demand\n",
    "\n",
    "    demand_over_time = ar1_process(demand_over_time, 1, time_slots, 0.01, subkey)\n",
    "\n",
    "    plt.plot(demand_over_time)"
   ]
  },
  {
   "cell_type": "markdown",
   "id": "89801897",
   "metadata": {},
   "source": [
    "## Markov Distribution"
   ]
  },
  {
   "cell_type": "code",
   "execution_count": 3,
   "id": "33efaeb6",
   "metadata": {},
   "outputs": [],
   "source": [
    "import contextlib\n",
    "@contextlib.contextmanager\n",
    "def timing_function(indent):\n",
    "    \"\"\"\n",
    "    A context manager to time a block of code.\n",
    "    \"\"\"\n",
    "    import time\n",
    "    start_time = time.time()\n",
    "    yield\n",
    "    end_time = time.time()\n",
    "    elapsed_time = end_time - start_time\n",
    "    print(f\"{' ' * indent}Elapsed time: {elapsed_time:.2f} seconds\")"
   ]
  },
  {
   "cell_type": "code",
   "execution_count": 4,
   "id": "afe1ee6f",
   "metadata": {},
   "outputs": [
    {
     "data": {
      "text/plain": [
       "(Array([0, 1, 1, 1, 0, 0, 1, 1, 1, 1], dtype=int32), 10)"
      ]
     },
     "execution_count": 4,
     "metadata": {},
     "output_type": "execute_result"
    }
   ],
   "source": [
    "def markov_step(state, key, A):\n",
    "    key, subkey = jrandom.split(key)\n",
    "    probs = A[state]  # Transition probabilities from current state\n",
    "    next_state = jrandom.choice(subkey, A.shape[0], p=probs)\n",
    "    return next_state, next_state\n",
    "\n",
    "# Function for state change given A\n",
    "def user_state_change(state_change_matrix : jnp.ndarray, state : int, time_series : jnp.ndarray, key : jnp.ndarray) -> jnp.ndarray:\n",
    "    # Create a copy of the state change matrix\n",
    "    \n",
    "    key = jrandom.split(key, time_series.shape[0]-1)\n",
    "\n",
    "    def scan_fn(state,key):\n",
    "        return markov_step(state, key, state_change_matrix)\n",
    "    \n",
    "    _, states = jax.lax.scan(scan_fn, state, key)\n",
    "\n",
    "    return jnp.concatenate([jnp.array([state]), states])\n",
    "\n",
    "seed = 42\n",
    "\n",
    "key = jrandom.PRNGKey(seed)\n",
    "\n",
    "time_series = jnp.zeros((time_slots, 1))\n",
    "# Create a state change matrix\n",
    "\n",
    "state_change_matrix = jnp.array([[0.1, 0.9], \n",
    "                                 [0.3, 0.7]])\n",
    "\n",
    "# Intial state is 0\n",
    "state = 0\n",
    "time_series = user_state_change(state_change_matrix, state, time_series, key)\n",
    "\n",
    "time_series, time_series.shape[0]"
   ]
  },
  {
   "cell_type": "code",
   "execution_count": 5,
   "id": "5b15fb3e",
   "metadata": {},
   "outputs": [
    {
     "data": {
      "text/plain": [
       "[Array([1, 0, 0, 1, 0, 1, 1, 1, 1, 0], dtype=int32),\n",
       " Array([1, 1, 1, 1, 0, 1, 1, 1, 1, 0], dtype=int32),\n",
       " Array([1, 1, 1, 0, 1, 1, 0, 1, 1, 0], dtype=int32),\n",
       " Array([1, 1, 0, 1, 1, 0, 0, 1, 1, 1], dtype=int32),\n",
       " Array([1, 0, 1, 1, 1, 0, 1, 0, 1, 1], dtype=int32),\n",
       " Array([1, 0, 1, 1, 0, 0, 1, 1, 1, 1], dtype=int32),\n",
       " Array([1, 0, 0, 1, 1, 0, 1, 1, 1, 0], dtype=int32),\n",
       " Array([1, 0, 1, 0, 1, 1, 1, 0, 1, 1], dtype=int32),\n",
       " Array([1, 0, 1, 1, 1, 1, 0, 1, 1, 1], dtype=int32),\n",
       " Array([1, 1, 0, 1, 1, 0, 1, 0, 0, 1], dtype=int32),\n",
       " Array([1, 1, 1, 0, 1, 1, 0, 0, 1, 0], dtype=int32),\n",
       " Array([1, 0, 1, 0, 1, 1, 1, 1, 1, 0], dtype=int32),\n",
       " Array([1, 1, 1, 1, 1, 1, 1, 1, 1, 1], dtype=int32)]"
      ]
     },
     "execution_count": 5,
     "metadata": {},
     "output_type": "execute_result"
    }
   ],
   "source": [
    "seed = 10\n",
    "\n",
    "key = jrandom.PRNGKey(seed)\n",
    "# Number of users in a cell\n",
    "num_users = jrandom.choice(key, jnp.arange(10,20))\n",
    "\n",
    "user_rate = 100e3 # 100 kbps\n",
    "\n",
    "time_series = jnp.zeros((time_slots, 1))\n",
    "\n",
    "series = []\n",
    "\n",
    "# Loop over the number of users, can compute the demand based on the state change of the users.\n",
    "for i in range(num_users):\n",
    "    key, subkey = jrandom.split(key)\n",
    "    # Create a state change matrix\n",
    "    state_change_matrix = jnp.array([[0.3, 0.7], \n",
    "                                     [0.3, 0.7]])\n",
    "    # Intial state is 1\n",
    "    state = 1\n",
    "    series.append(user_state_change(state_change_matrix, state, time_series, key))\n",
    "\n",
    "series"
   ]
  },
  {
   "cell_type": "code",
   "execution_count": 6,
   "id": "31fb40f5",
   "metadata": {},
   "outputs": [
    {
     "data": {
      "text/plain": [
       "Text(0.5, 1.0, 'Demand Over Time')"
      ]
     },
     "execution_count": 6,
     "metadata": {},
     "output_type": "execute_result"
    },
    {
     "data": {
      "image/png": "[encoded data removed]",
      "text/plain": [
       "<Figure size 640x480 with 1 Axes>"
      ]
     },
     "metadata": {},
     "output_type": "display_data"
    }
   ],
   "source": [
    "# Sum along the columns to get the total demand\n",
    "total_demand = jnp.sum(jnp.array(series), axis=0)\n",
    "total_demand = total_demand.flatten()*100e3\n",
    "\n",
    "total_demand\n",
    "# Plot the demand over time\n",
    "plt.plot(total_demand, label='Total Demand')\n",
    "plt.xlabel('Time Slots')\n",
    "plt.ylabel('Demand (bps)')\n",
    "plt.title('Demand Over Time')"
   ]
  },
  {
   "cell_type": "code",
   "execution_count": 7,
   "id": "7f5fe0c4",
   "metadata": {},
   "outputs": [
    {
     "name": "stdout",
     "output_type": "stream",
     "text": [
      "5.5641456\n",
      "[-0.0930663  -0.08497357 -0.07688085 -0.06878813 -0.06069541 -0.05260269\n",
      " -0.04450996 -0.03641725 -0.02832452 -0.0202318  -0.01213908 -0.00404635\n",
      "  0.00404637  0.01213909  0.02023181  0.02832453  0.03641725  0.04450997\n",
      "  0.05260269  0.06069542  0.06878814  0.07688086  0.08497358  0.0930663 ]\n",
      "[-0.09314887 -0.08522131 -0.07729375 -0.06936619 -0.06143862 -0.05351105\n",
      " -0.04558349 -0.03765593 -0.02972837 -0.0218008  -0.01387324 -0.00594567\n",
      "  0.00198189  0.00990945  0.01783702  0.02576458  0.03369214  0.0416197\n",
      "  0.04954727  0.05747483  0.0654024   0.07332997  0.08125752  0.0891851\n",
      "  0.09711266  0.10504021  0.11296779  0.12089534  0.12882291  0.13675047\n",
      "  0.14467804  0.1526056   0.16053316  0.16846073  0.17638828  0.18431586\n",
      "  0.19224341  0.20017098  0.20809855  0.21602611  0.22395366  0.23188123\n",
      "  0.2398088   0.24773636  0.2556639   0.2635915   0.27151906  0.2794466\n",
      "  0.28737417]\n"
     ]
    }
   ],
   "source": [
    "earth_radius = 6371  # in kilometers\n",
    "\n",
    "satellite_height = 600  # in meters\n",
    "\n",
    "# Place a satellite at the\n",
    "satellite_position = jnp.array([ satellite_height + earth_radius ,0, 0])  # in kilometers\n",
    "\n",
    "# Calculate the viewing angle\n",
    "lat_range, lon_range, _, _,_, angle_of_interest = pl.visible_angle(jnp.deg2rad(40), satellite_position)\n",
    "\n",
    "lon_range = jnp.array(lon_range)\n",
    "lon_range = lon_range.at[1].set(lon_range[1]+(lon_range[1]-lon_range[0]))\n",
    "\n",
    "# Define the grid size and resolution, with 50 km size at the equator\n",
    "grid_size = 50  # in kilometers\n",
    "# Leading to an angle of \n",
    "angle_of_cell_size = grid_size/earth_radius\n",
    "\n",
    "# Calculate the number of cells in the grid\n",
    "num_cells_lat = int((lat_range[1] - lat_range[0]) / angle_of_cell_size)\n",
    "num_cells_lon = int((lon_range[1] - lon_range[0]) / angle_of_cell_size)\n",
    "\n",
    "# Create a grid of cells\n",
    "mesh_grid = pl.generate_latitude_longitude_points(num_cells_lat, num_cells_lon, lat_range, lon_range)\n",
    "\n",
    "# Recover list of lat and lon points\n",
    "lat_points, long_points = mesh_grid[0][:,0], mesh_grid[1][0,:]\n",
    "\n",
    "print(jnp.rad2deg(angle_of_interest))\n",
    "\n",
    "print(lat_points)\n",
    "print(long_points)"
   ]
  },
  {
   "cell_type": "code",
   "execution_count": null,
   "id": "876b8c84",
   "metadata": {},
   "outputs": [
    {
     "name": "stdout",
     "output_type": "stream",
     "text": [
      "[[False False False ... False False False]\n",
      " [False False False ... False False False]\n",
      " [False False False ... False False False]\n",
      " ...\n",
      " [False False False ... False False False]\n",
      " [False False False ... False False False]\n",
      " [False False False ... False False False]]\n"
     ]
    }
   ],
   "source": [
    "visible_area_of_sat_one = pl.calculate_if_cells_within_visible_area(jnp.rad2deg(lat_points),jnp.rad2deg(long_points), 0, 0, 6000, jnp.rad2deg(angle_of_interest))\n",
    "\n",
    "print(visible_area_of_sat_one)"
   ]
  },
  {
   "cell_type": "code",
   "execution_count": 9,
   "id": "dd29c0d2",
   "metadata": {},
   "outputs": [
    {
     "data": {
      "text/plain": [
       "<matplotlib.image.AxesImage at 0x1f66f3aaa70>"
      ]
     },
     "execution_count": 9,
     "metadata": {},
     "output_type": "execute_result"
    },
    {
     "data": {
      "image/png": "[encoded data removed]",
      "text/plain": [
       "<Figure size 640x480 with 1 Axes>"
      ]
     },
     "metadata": {},
     "output_type": "display_data"
    }
   ],
   "source": [
    "import matplotlib.pyplot as plt\n",
    "plt.imshow(visible_area_of_sat_one, cmap='gray')\n",
    "\n"
   ]
  },
  {
   "cell_type": "code",
   "execution_count": 10,
   "id": "a648f60e",
   "metadata": {},
   "outputs": [
    {
     "name": "stdout",
     "output_type": "stream",
     "text": [
      "[[False False False ... False False False]\n",
      " [False False False ... False False False]\n",
      " [False False False ... False False False]\n",
      " ...\n",
      " [False False False ... False False False]\n",
      " [False False False ... False False False]\n",
      " [False False False ... False False False]]\n"
     ]
    }
   ],
   "source": [
    "visible_area_of_sat_two = pl.calculate_if_cells_within_visible_area(jnp.rad2deg(lat_points),jnp.rad2deg(long_points), 0, 7.6, 6000, jnp.rad2deg(angle_of_interest))\n",
    "\n",
    "print(visible_area_of_sat_two)"
   ]
  },
  {
   "cell_type": "code",
   "execution_count": 11,
   "id": "74fa6fee",
   "metadata": {},
   "outputs": [
    {
     "data": {
      "text/plain": [
       "<matplotlib.image.AxesImage at 0x1f6725bf310>"
      ]
     },
     "execution_count": 11,
     "metadata": {},
     "output_type": "execute_result"
    },
    {
     "data": {
      "image/png": "[encoded data removed]",
      "text/plain": [
       "<Figure size 640x480 with 1 Axes>"
      ]
     },
     "metadata": {},
     "output_type": "display_data"
    }
   ],
   "source": [
    "plt.imshow(visible_area_of_sat_two, cmap='gray')"
   ]
  },
  {
   "cell_type": "code",
   "execution_count": 12,
   "id": "0e18657a",
   "metadata": {},
   "outputs": [
    {
     "data": {
      "text/plain": [
       "<matplotlib.image.AxesImage at 0x1f672633100>"
      ]
     },
     "execution_count": 12,
     "metadata": {},
     "output_type": "execute_result"
    },
    {
     "data": {
      "image/png": "[encoded data removed]",
      "text/plain": [
       "<Figure size 640x480 with 1 Axes>"
      ]
     },
     "metadata": {},
     "output_type": "display_data"
    }
   ],
   "source": [
    "# The intersection between the two visible areas\n",
    "intersection = jnp.logical_and(visible_area_of_sat_one, visible_area_of_sat_two)\n",
    "plt.imshow(intersection, cmap='gray')"
   ]
  },
  {
   "cell_type": "markdown",
   "id": "9dcd87ba",
   "metadata": {},
   "source": [
    "### Distribute the users across cells according to a random process, optimise the allocation.\n",
    "### Check what happens over time"
   ]
  },
  {
   "cell_type": "code",
   "execution_count": 13,
   "id": "645e9c9a",
   "metadata": {},
   "outputs": [],
   "source": [
    "mesh_grid_comb = jnp.stack(mesh_grid, axis=-1)\n",
    "mesh_grid_comb.shape\n",
    "\n",
    "seed = 10\n",
    "\n",
    "key = jrandom.PRNGKey(seed)\n",
    "\n",
    "base_user_demand = 100e3\n",
    "\n",
    "# Set a high vs low density for the cells\n",
    "\n",
    "cells = []\n",
    "\n",
    "\n",
    "for i in range(mesh_grid_comb.shape[0]):\n",
    "    cells_row = []\n",
    "    for j in range(mesh_grid_comb.shape[1]):\n",
    "        \n",
    "        density = jrandom.choice(key, jnp.array([3, 8]))\n",
    "\n",
    "        key, subkey = jrandom.split(key)\n",
    "        user_list = []\n",
    "        #print([pl.User(mesh_grid_comb[i,j,0], mesh_grid_comb[i,j,1], x, jrandom.choice(key, jnp.array([0,1]), p=jnp.array([0.1,0.9]))) for x in range(density)])\n",
    "        for x in range(density):\n",
    "            key, subkey = jrandom.split(key)\n",
    "            #print(jrandom.choice(key, jnp.array([0,1]), p=jnp.array([0.1,0.9])))\n",
    "            user_list.append(pl.User(mesh_grid_comb[i,j,0], mesh_grid_comb[i,j,1], x, jrandom.choice(key, jnp.array([0,1])*base_user_demand, p=jnp.array([0.25,0.75]))))\n",
    "        \n",
    "        cells_row.append(pl.square_cell(\n",
    "            lat = mesh_grid_comb[i,j,0], \n",
    "            longi = mesh_grid_comb[i,j,1],\n",
    "            lat_width=[],\n",
    "            longi_width=[],\n",
    "            density=density,\n",
    "            id=i*mesh_grid_comb.shape[1]+j,\n",
    "            users= user_list,\n",
    "            users_amount=density\n",
    "        ))\n",
    "\n",
    "        key, subkey = jrandom.split(key)\n",
    "    cells.append(cells_row)"
   ]
  },
  {
   "cell_type": "code",
   "execution_count": 14,
   "id": "75ee7fc9",
   "metadata": {},
   "outputs": [
    {
     "name": "stdout",
     "output_type": "stream",
     "text": [
      "49\n",
      "24\n"
     ]
    }
   ],
   "source": [
    "print(len(cells[0]))\n",
    "print(len(cells))"
   ]
  },
  {
   "cell_type": "markdown",
   "id": "f3d83685",
   "metadata": {},
   "source": [
    "### Lets try to run the optimisation on the single satellite, and the cells it can see."
   ]
  },
  {
   "cell_type": "code",
   "execution_count": 15,
   "id": "95338bd0",
   "metadata": {},
   "outputs": [
    {
     "data": {
      "text/plain": [
       "Array(500000., dtype=float32, weak_type=True)"
      ]
     },
     "execution_count": 15,
     "metadata": {},
     "output_type": "execute_result"
    }
   ],
   "source": [
    "import pulp\n",
    "\n",
    "def calculate_demand_of_cell(cell : pl.square_cell) -> float:\n",
    "    # Calculate the demand of the cell based on the users in it\n",
    "    demand = 0\n",
    "    for user in cell.users:\n",
    "        demand += user.demand\n",
    "\n",
    "    return demand\n",
    "\n",
    "calculate_demand_of_cell(cells[0][0])"
   ]
  },
  {
   "cell_type": "code",
   "execution_count": 16,
   "id": "b1286a9e",
   "metadata": {},
   "outputs": [
    {
     "data": {
      "text/plain": [
       "Array([200000., 200000., 600000., 500000., 500000., 700000., 500000.,\n",
       "       200000., 200000., 400000., 300000., 600000., 500000., 500000.,\n",
       "       600000., 300000., 200000., 600000., 500000., 300000., 400000.,\n",
       "       600000., 600000., 700000., 200000., 200000., 300000., 300000.,\n",
       "       500000., 300000., 300000., 300000., 100000., 300000., 200000.,\n",
       "       100000., 100000., 500000., 200000., 300000., 600000., 500000.,\n",
       "       600000., 300000., 300000., 300000., 700000., 700000., 300000.,\n",
       "       300000., 600000., 300000., 700000., 200000., 800000., 300000.,\n",
       "       300000., 300000., 100000., 600000., 500000., 600000., 300000.,\n",
       "       200000., 300000., 300000., 300000., 600000., 200000., 600000.,\n",
       "       500000., 600000., 400000., 700000., 500000., 500000., 200000.,\n",
       "       200000., 600000., 200000., 800000., 500000., 300000., 400000.,\n",
       "       800000., 800000., 300000., 300000., 500000., 600000., 700000.,\n",
       "       600000., 200000., 800000., 300000., 200000., 200000., 700000.,\n",
       "       200000., 200000., 700000., 200000., 100000., 600000., 300000.,\n",
       "       200000., 300000., 300000., 300000., 700000., 200000., 100000.,\n",
       "       700000., 600000., 600000., 200000., 700000., 200000., 200000.,\n",
       "       100000., 600000., 200000., 500000., 600000., 200000., 300000.,\n",
       "       600000., 600000., 200000., 500000., 700000., 700000., 200000.,\n",
       "       800000., 300000., 600000., 500000., 100000., 300000., 300000.,\n",
       "       700000., 600000., 300000., 300000., 700000., 700000., 600000.,\n",
       "       700000., 800000., 200000., 700000., 300000., 600000., 100000.,\n",
       "       700000., 500000., 700000., 200000., 700000., 500000., 200000.,\n",
       "       300000., 600000., 700000., 200000., 600000., 600000., 500000.,\n",
       "       500000., 200000., 200000., 300000., 500000., 300000., 300000.,\n",
       "            0., 700000., 700000., 600000., 200000., 600000., 800000.,\n",
       "       500000., 700000., 300000., 500000., 300000., 300000., 200000.,\n",
       "       200000., 600000., 800000., 500000., 700000., 600000., 500000.,\n",
       "       200000., 200000., 500000.,      0., 500000., 200000., 100000.,\n",
       "       500000., 300000., 700000., 300000., 300000., 500000., 600000.,\n",
       "       200000., 100000., 600000., 100000., 300000., 700000., 500000.,\n",
       "       800000., 300000., 600000., 700000., 300000., 700000., 500000.,\n",
       "       200000., 700000., 700000., 200000., 500000., 600000., 600000.,\n",
       "       500000., 200000., 400000., 400000., 500000., 200000., 700000.,\n",
       "       300000., 600000., 300000., 600000., 300000., 700000., 600000.,\n",
       "       700000., 600000., 500000., 600000., 200000., 700000., 200000.,\n",
       "       300000., 600000., 700000., 200000., 200000., 800000., 500000.,\n",
       "       100000., 200000., 600000., 400000., 300000., 200000., 100000.,\n",
       "       100000., 300000., 200000., 300000., 300000., 200000., 800000.,\n",
       "       300000., 300000., 400000., 500000., 100000., 100000., 200000.,\n",
       "       600000., 100000., 300000., 300000., 300000., 200000., 500000.,\n",
       "       400000., 700000., 100000., 300000., 700000., 100000., 300000.,\n",
       "       300000., 200000., 600000., 300000., 600000., 300000., 600000.,\n",
       "       300000., 300000., 300000., 300000., 400000., 200000., 100000.,\n",
       "       100000.,      0., 300000., 700000., 100000., 500000., 600000.,\n",
       "       500000., 600000., 600000., 400000., 300000., 300000., 600000.,\n",
       "       800000., 600000., 600000., 700000., 300000., 200000., 600000.,\n",
       "       200000., 300000., 500000., 600000., 700000., 300000., 300000.,\n",
       "       200000., 500000., 400000., 200000., 700000., 800000., 600000.,\n",
       "       800000., 600000., 600000., 300000., 700000., 300000., 500000.,\n",
       "       500000., 700000., 600000., 600000., 700000., 500000., 200000.,\n",
       "       500000., 600000., 700000., 300000., 500000., 300000., 800000.,\n",
       "       800000., 200000., 600000., 200000., 300000., 700000., 700000.,\n",
       "       800000., 600000., 500000., 200000., 200000., 100000., 200000.,\n",
       "       200000., 600000., 600000., 500000., 600000., 200000., 200000.,\n",
       "       200000., 500000., 100000., 600000., 200000., 200000., 700000.,\n",
       "            0., 700000., 200000., 600000., 100000., 500000., 300000.,\n",
       "       200000., 800000., 200000., 300000., 100000., 800000., 600000.,\n",
       "       300000., 100000., 500000., 200000., 200000., 300000., 200000.,\n",
       "       300000., 100000., 700000., 700000., 500000., 300000., 100000.,\n",
       "       300000., 100000., 600000., 600000., 300000., 700000., 500000.,\n",
       "       600000., 500000., 300000., 300000., 600000., 100000., 500000.,\n",
       "       500000., 300000., 200000., 600000., 500000., 200000., 500000.,\n",
       "       300000., 200000., 800000., 500000., 700000., 300000., 600000.,\n",
       "       600000., 300000., 200000., 300000., 700000., 800000., 600000.,\n",
       "       100000.,      0., 500000., 200000., 700000., 300000., 300000.],      dtype=float32)"
      ]
     },
     "execution_count": 16,
     "metadata": {},
     "output_type": "execute_result"
    }
   ],
   "source": [
    "demand_list = []\n",
    "\n",
    "for i in range(len(cells)):\n",
    "   \n",
    "    for j in range(len(cells[i])):\n",
    "        if visible_area_of_sat_one[i,j]:\n",
    "            demand = calculate_demand_of_cell(cells[i][j])\n",
    "            demand_list.append(demand) \n",
    "\n",
    "\n",
    "demand = jnp.array(demand_list)\n",
    "demand"
   ]
  },
  {
   "cell_type": "code",
   "execution_count": 17,
   "id": "a9aa16c1",
   "metadata": {},
   "outputs": [
    {
     "name": "stdout",
     "output_type": "stream",
     "text": [
      "[6971    0    0]\n"
     ]
    },
    {
     "data": {
      "text/plain": [
       "[<matplotlib.lines.Line2D at 0x1f67f1bd7b0>]"
      ]
     },
     "execution_count": 17,
     "metadata": {},
     "output_type": "execute_result"
    },
    {
     "data": {
      "image/png": "[encoded data removed]",
      "text/plain": [
       "<Figure size 640x480 with 1 Axes>"
      ]
     },
     "metadata": {},
     "output_type": "display_data"
    }
   ],
   "source": [
    "# calculate the distance from the first satellite to the cells\n",
    "\n",
    "distance = []\n",
    "\n",
    "for x in range(len(cells)):\n",
    "    for y in range(len(cells[x])):\n",
    "        if visible_area_of_sat_one[x,y]:\n",
    "            position = pl.spherical_to_cartesian(earth_radius, cells[x][y].lat, cells[x][y].longi)\n",
    "            distance.append(pl.calculate_distance(position[0], position[1],position[2], satellite_position))\n",
    "\n",
    "print(satellite_position)\n",
    "\n",
    "distance = jnp.array(distance)\n",
    "distance\n",
    "plt.plot(distance)"
   ]
  },
  {
   "cell_type": "code",
   "execution_count": 18,
   "id": "6a12939a",
   "metadata": {},
   "outputs": [
    {
     "data": {
      "text/plain": [
       "Array([17586924., 17826280., 17962172., 17989566., 17907542., 17719092.,\n",
       "       17430940., 17455506., 18016110., 18497448., 18883532., 19160584.,\n",
       "       19318132., 19349908., 19254760., 19036450., 18703348., 18267704.,\n",
       "       17744650., 17899554., 18607290., 19247392., 19799348., 20243680.,\n",
       "       20563426., 20745552., 20782348., 20672286., 20420044., 20036090.,\n",
       "       19535632., 18937090., 18260632., 17526636., 18135152., 18984666.,\n",
       "       19784784., 20512006., 21141940., 21650996., 22018368., 22228016.,\n",
       "       22270438., 22143672., 21853552., 21413004., 20840686., 20159006.,\n",
       "       19392322., 18564662., 17698722., 18144890., 19119336., 20068176.,\n",
       "       20966742., 21787672., 22502008., 23081442., 23500890., 23740732.,\n",
       "       23789306., 23644188., 23312548., 22810256., 22159934., 21388682.,\n",
       "       20525380., 19598402., 18633930., 17654718., 17927954., 19000762.,\n",
       "       20074326., 21125374., 22126134., 23044950., 23848194., 24502346.,\n",
       "       24977240., 25249366., 25304528., 25139788., 24763818., 24195880.,\n",
       "       23463192., 22597844., 21633940., 20604286., 19538780., 18462992.,\n",
       "       17397696., 17500472., 18638290., 19802640., 20973804., 22126500.,\n",
       "       23229700., 24247562., 25141192., 25871798., 26403766., 26709138.,\n",
       "       26771092., 26586096., 26164552., 25529232., 24712376., 23751646.,\n",
       "       22686422., 21554312., 20388778., 19218258., 18065042., 18059644.,\n",
       "       19275520., 20525496., 21788878., 23038168., 24239478., 25352896.,\n",
       "       26334524., 27139760., 27727766., 28066024., 28134652., 27929710.,\n",
       "       27463236., 26761904., 25862972., 24809830., 23647200., 22417234.,\n",
       "       21157044., 19897402., 18662246., 17469292., 18533864., 19818224.,\n",
       "       21143820., 22489062., 23824950., 25114742., 26314912., 27376816.,\n",
       "       28250682., 28890452., 29258976., 29333910., 29110398., 28602416.,\n",
       "       27840294., 26866256., 25729014., 24478166., 23160300., 21815596.,\n",
       "       20477014., 19169780., 17912022., 17629212., 18906448., 20246124.,\n",
       "       21633164., 23045264., 24452162., 25815118., 27087376., 28216436.,\n",
       "       29147864., 29831156., 30225336., 30305428., 30066352., 29523420.,\n",
       "       28710146., 27673210., 26465762., 25141932., 23751584., 22337734.,\n",
       "       20934940., 19569238., 18259328., 17851808., 19163468., 20542042.,\n",
       "       21972384., 23431962., 24889542., 26304870., 27628912., 28806406.,\n",
       "       29779688., 30494578., 30907496., 30991398., 30740940., 30172480.,\n",
       "       29322162., 28239602., 26981700., 25605406., 24163336., 22700260.,\n",
       "       21251932., 19845110., 18498558., 17965272., 19294656., 20693314.,\n",
       "       22146168., 23630368., 25114406., 26557006., 27908240., 29111218.,\n",
       "       30106350., 30837928., 31260676., 31346640., 31090170., 30508268.,\n",
       "       29638390., 28531956., 27247518., 25843824., 24374738., 22886100.,\n",
       "       21414194., 19986044., 18620576., 17965272., 19294656., 20693314.,\n",
       "       22146168., 23630368., 25114406., 26557006., 27908240., 29111218.,\n",
       "       30106350., 30837928., 31260676., 31346640., 31090170., 30508268.,\n",
       "       29638390., 28531956., 27247518., 25843824., 24374738., 22886100.,\n",
       "       21414194., 19986044., 18620576., 17851808., 19163468., 20542042.,\n",
       "       21972384., 23431962., 24889542., 26304870., 27628912., 28806406.,\n",
       "       29779688., 30494578., 30907496., 30991398., 30740940., 30172480.,\n",
       "       29322162., 28239602., 26981700., 25605406., 24163336., 22700260.,\n",
       "       21251932., 19845110., 18498558., 17629212., 18906448., 20246124.,\n",
       "       21633164., 23045264., 24452162., 25815118., 27087376., 28216436.,\n",
       "       29147864., 29831156., 30225336., 30305428., 30066352., 29523420.,\n",
       "       28710146., 27673210., 26465762., 25141932., 23751584., 22337734.,\n",
       "       20934940., 19569238., 18259328., 18533864., 19818224., 21143820.,\n",
       "       22489062., 23824950., 25114742., 26314912., 27376816., 28250682.,\n",
       "       28890452., 29258976., 29333910., 29110398., 28602416., 27840294.,\n",
       "       26866256., 25729014., 24478166., 23160300., 21815596., 20477014.,\n",
       "       19169780., 17912022., 18059644., 19275520., 20525496., 21788878.,\n",
       "       23038168., 24239478., 25352896., 26334524., 27139760., 27727766.,\n",
       "       28066024., 28134652., 27929710., 27463236., 26761904., 25862972.,\n",
       "       24809830., 23647200., 22417234., 21157044., 19897402., 18662246.,\n",
       "       17469292., 17500472., 18638290., 19802640., 20973804., 22126500.,\n",
       "       23229700., 24247562., 25141192., 25871798., 26403766., 26709138.,\n",
       "       26771092., 26586096., 26164552., 25529232., 24712314., 23751646.,\n",
       "       22686422., 21554312., 20388778., 19218258., 18065042., 17927904.,\n",
       "       19000762., 20074326., 21125374., 22126134., 23044950., 23848194.,\n",
       "       24502280., 24977240., 25249366., 25304528., 25139788., 24763818.,\n",
       "       24195880., 23463192., 22597844., 21633940., 20604286., 19538780.,\n",
       "       18462992., 17397696., 18144890., 19119336., 20068176., 20966742.,\n",
       "       21787672., 22502008., 23081442., 23500890., 23740732., 23789306.,\n",
       "       23644188., 23312548., 22810256., 22159934., 21388682., 20525380.,\n",
       "       19598402., 18633930., 17654718., 18135152., 18984666., 19784784.,\n",
       "       20512006., 21141940., 21650996., 22018368., 22228016., 22270438.,\n",
       "       22143672., 21853492., 21413004., 20840686., 20159006., 19392322.,\n",
       "       18564662., 17698722., 17899554., 18607290., 19247392., 19799348.,\n",
       "       20243680., 20563426., 20745552., 20782348., 20672286., 20420044.,\n",
       "       20036090., 19535632., 18937090., 18260632., 17526636., 17455506.,\n",
       "       18016110., 18497448., 18883532., 19160584., 19318132., 19349908.,\n",
       "       19254760., 19036450., 18703348., 18267704., 17744650., 17586924.,\n",
       "       17826280., 17962172., 17989566., 17907542., 17719092., 17430940.],      dtype=float32)"
      ]
     },
     "execution_count": 18,
     "metadata": {},
     "output_type": "execute_result"
    }
   ],
   "source": [
    "# Satellite paramterse\n",
    "satellite_height = 600  # in km\n",
    "number_of_beams_per_satellite = 19\n",
    "satellite_bandwidth = 30e6 # in Hz n256\n",
    "satellite_bandwidth_per_beam = satellite_bandwidth # in Hz\n",
    "sky_temperature = 290 # in K\n",
    "satellite_gain = 30 # in dBi\n",
    "satellite_central_frequency = 2 # in GHz\n",
    "satellite_power_per_beam = 75.4 # in W\n",
    "\n",
    "# Full frequency reuse\n",
    "\n",
    "snr = jax.vmap(pl.calculate_snr, in_axes=(None,None,None,0,None))(satellite_power_per_beam, satellite_gain, satellite_bandwidth, distance, 0)\n",
    "\n",
    "rates = jax.vmap(pl.calculate_capacity, in_axes=(0,None))(snr, satellite_bandwidth)\n",
    "\n",
    "rates"
   ]
  },
  {
   "cell_type": "code",
   "execution_count": 19,
   "id": "7882b094",
   "metadata": {},
   "outputs": [
    {
     "data": {
      "text/plain": [
       "1"
      ]
     },
     "execution_count": 19,
     "metadata": {},
     "output_type": "execute_result"
    }
   ],
   "source": [
    "# Setup the optimization window\n",
    "import numpy as np\n",
    "\n",
    "\n",
    "window = 30\n",
    "time_step = 0.25\n",
    "\n",
    "R = np.array(rates)\n",
    "D = np.array(demand)\n",
    "\n",
    "T = int(window/time_step)\n",
    "I = np.arange(T)\n",
    "B = number_of_beams_per_satellite\n",
    "cell_visible_ids = np.arange(len(distance))\n",
    "\n",
    "problem = pulp.LpProblem(\"Satellite_optimization\", pulp.LpMaximize)\n",
    "\n",
    "t = pulp.LpVariable(\"t\", lowBound=0, cat='Continuous')\n",
    "x = pulp.LpVariable.dicts(\"x\", (I, cell_visible_ids), cat='Binary')\n",
    "\n",
    "# Objective\n",
    "problem += t \n",
    "\n",
    "# Constraints\n",
    "for k in cell_visible_ids:\n",
    "    problem += t <= (R[k] / (T * D[k]+1)) * pulp.lpSum(x[i][k] for i in I)\n",
    "\n",
    "for i in I:\n",
    "    problem += B >= pulp.lpSum(x[i][k] for k in cell_visible_ids) \n",
    "\n",
    "\n",
    "problem.solve(pulp.PULP_CBC_CMD(msg=True, maxNodes= 1000))\n"
   ]
  },
  {
   "cell_type": "code",
   "execution_count": 31,
   "id": "904ea902",
   "metadata": {},
   "outputs": [
    {
     "name": "stdout",
     "output_type": "stream",
     "text": [
      "Set parameter NodeLimit to value 1000\n",
      "Set parameter MIPGap to value 0.0001\n",
      "Starting Optimisation\n",
      "Gurobi Optimizer version 12.0.2 build v12.0.2rc0 (win64 - Windows 10.0 (19045.2))\n",
      "\n",
      "CPU model: Intel(R) Core(TM) i5-8265U CPU @ 1.60GHz, instruction set [SSE2|AVX|AVX2]\n",
      "Thread count: 4 physical cores, 8 logical processors, using up to 8 threads\n",
      "\n",
      "Non-default parameters:\n",
      "NodeLimit  1000\n",
      "\n",
      "Optimize a model with 582 rows, 55441 columns and 111342 nonzeros\n",
      "Model fingerprint: 0x1d7204e4\n",
      "Variable types: 1 continuous, 55440 integer (55440 binary)\n",
      "Coefficient statistics:\n",
      "  Matrix range     [2e-01, 3e+07]\n",
      "  Objective range  [1e+00, 1e+00]\n",
      "  Bounds range     [1e+00, 1e+00]\n",
      "  RHS range        [2e+01, 2e+01]\n",
      "Found heuristic solution: objective -0.0000000\n",
      "Presolve time: 0.50s\n",
      "Presolved: 582 rows, 55441 columns, 111342 nonzeros\n",
      "Variable types: 1 continuous, 55440 integer (55440 binary)\n",
      "\n",
      "Root relaxation: objective 2.182117e+00, 5392 iterations, 3.24 seconds (2.33 work units)\n",
      "Total elapsed time = 5.89s (DegenMoves)\n",
      "\n",
      "    Nodes    |    Current Node    |     Objective Bounds      |     Work\n",
      " Expl Unexpl |  Obj  Depth IntInf | Incumbent    BestBd   Gap | It/Node Time\n",
      "\n",
      "     0     0    2.18212    0  566   -0.00000    2.18212      -     -    9s\n",
      "H    0     0                       1.5209342    2.18212  43.5%     -   10s\n",
      "H    0     0                       1.5217192    2.18212  43.4%     -   10s\n",
      "H    0     0                       1.5820554    2.18212  37.9%     -   10s\n",
      "H    0     0                       1.6282316    2.18212  34.0%     -   10s\n",
      "H    0     0                       1.6401900    2.18212  33.0%     -   10s\n",
      "H    0     0                       1.6869732    2.18212  29.4%     -   10s\n",
      "H    0     0                       1.7054802    2.18212  27.9%     -   11s\n",
      "H    0     0                       1.7247865    2.18212  26.5%     -   11s\n",
      "H    0     0                       1.7318623    2.18212  26.0%     -   11s\n",
      "H    0     0                       1.8004004    2.18212  21.2%     -   11s\n",
      "H    0     0                       1.9204123    2.18212  13.6%     -   11s\n",
      "H    0     0                       1.9249366    2.18212  13.4%     -   11s\n",
      "H    0     0                       1.9273705    2.18212  13.2%     -   11s\n",
      "H    0     0                       1.9300250    2.18212  13.1%     -   11s\n",
      "H    0     0                       1.9300250    2.18212  13.1%     -   11s\n",
      "H    0     0                       1.9505984    2.18212  11.9%     -   11s\n",
      "H    0     0                       1.9538780    2.18212  11.7%     -   11s\n",
      "H    0     0                       1.9552660    2.18212  11.6%     -   12s\n",
      "H    0     0                       1.9584073    2.18212  11.4%     -   12s\n",
      "H    0     0                       1.9584074    2.18212  11.4%     -   12s\n",
      "H    0     0                       1.9584074    2.18212  11.4%     -   14s\n",
      "     0     0    2.12791    0  492    1.95841    2.12791  8.66%     -   16s\n",
      "     0     0    2.09304    0  415    1.95841    2.09304  6.87%     -   29s\n",
      "     0     0    2.05771    0  332    1.95841    2.05771  5.07%     -   33s\n",
      "     0     0    2.03197    0  242    1.95841    2.03197  3.76%     -   35s\n",
      "     0     0    2.02985    0  256    1.95841    2.02985  3.65%     -   35s\n",
      "     0     0    2.02985    0  257    1.95841    2.02985  3.65%     -   35s\n",
      "     0     0    2.00274    0  174    1.95841    2.00274  2.26%     -   39s\n",
      "H    0     0                       1.9584075    2.00274  2.26%     -   51s\n",
      "     0     0    1.99829    0  146    1.95841    1.99829  2.04%     -   56s\n",
      "     0     0    1.99829    0  140    1.95841    1.99829  2.04%     -   56s\n",
      "     0     0    1.98996    0  153    1.95841    1.98996  1.61%     -   60s\n",
      "     0     0    1.98728    0  132    1.95841    1.98728  1.47%     -   66s\n",
      "     0     0    1.98728    0  133    1.95841    1.98728  1.47%     -   66s\n",
      "     0     0    1.98590    0  113    1.95841    1.98590  1.40%     -   69s\n",
      "     0     0    1.98590    0  113    1.95841    1.98590  1.40%     -   70s\n",
      "     0     0    1.98590    0  110    1.95841    1.98590  1.40%     -   73s\n",
      "     0     0    1.98590    0   39    1.95841    1.98590  1.40%     -   76s\n",
      "     0     2    1.98590    0   39    1.95841    1.98590  1.40%     -   78s\n",
      "     3     2    1.98590    2   53    1.95841    1.98590  1.40%  2721   82s\n",
      "     7     4    1.98590    4   51    1.95841    1.98590  1.40%  1167   86s\n",
      "     9     7    1.97930    5   38    1.95841    1.98590  1.40%   936   90s\n",
      "    14    14    1.97930    6   36    1.95841    1.98590  1.40%   609   98s\n",
      "    21    19    1.97930    7   35    1.95841    1.98590  1.40%   419  105s\n",
      "    30    27    1.97930    9   46    1.95841    1.98590  1.40%   303  115s\n",
      "    34    31    1.97930   10   47    1.95841    1.98590  1.40%   267  125s\n",
      "    38    44    1.97930   11   47    1.95841    1.98590  1.40%   240  135s\n",
      "    51    75    1.97930   21   47    1.95841    1.98590  1.40%   180  140s\n",
      "    82   215    1.97930   31   48    1.95841    1.98590  1.40%   115  145s\n",
      "   222   641    1.97930   66   47    1.95841    1.98590  1.40%  48.8  152s\n",
      "   650   826    1.97486  223   53    1.95841    1.98590  1.40%  27.1  159s\n",
      "   835  1013    1.97463  286   51    1.95841    1.98590  1.40%  26.1  167s\n",
      "\n",
      "Cutting planes:\n",
      "  MIR: 427\n",
      "  RLT: 34\n",
      "\n",
      "Explored 1022 nodes (131538 simplex iterations) in 167.13 seconds (81.01 work units)\n",
      "Thread count was 8 (of 8 available processors)\n",
      "\n",
      "Solution count 10: 1.95841 1.95841 1.95841 ... 1.92737\n",
      "\n",
      "Node limit reached\n",
      "Best objective 1.958407460916e+00, best bound 1.985898029568e+00, gap 1.4037%\n",
      "No feasible solution found.\n"
     ]
    }
   ],
   "source": [
    "# Lets attempt a rewrite in Gurobi\n",
    "import numpy as np\n",
    "import gurobipy as gp\n",
    "from gurobipy import GRB\n",
    "\n",
    "\n",
    "node_limit = 1000\n",
    "\n",
    "window = 30\n",
    "time_step = 0.25\n",
    "\n",
    "R = np.array(rates)\n",
    "D = np.array(demand)\n",
    "\n",
    "T = int(window/time_step)\n",
    "I = list(range(T)) \n",
    "B = number_of_beams_per_satellite\n",
    "K = list(range(len(distance)))\n",
    "\n",
    "problem = gp.Model(\"Satellite_optimization\")\n",
    "\n",
    "t = problem.addVar(name=\"t\", lb=0, vtype=gp.GRB.CONTINUOUS)\n",
    "x = problem.addVars(I, K, vtype=gp.GRB.BINARY, name=\"x\")\n",
    "\n",
    "# Objective\n",
    "problem.setObjective(t, gp.GRB.MAXIMIZE)\n",
    "\n",
    "# precompute the weight for each cell k\n",
    "weights = {k: R[k] / (T * D[k] + 1.0) for k in K}\n",
    "\n",
    "# Constraints\n",
    "\n",
    "for k in K:\n",
    "    problem.addConstr(t <= weights[k] * gp.quicksum(x[i, k] for i in I),\n",
    "                      name=f\"Demand Constraint {k}\")\n",
    "    \n",
    "for i in I:\n",
    "    problem.addConstr(gp.quicksum(x[i, k] for k in K) <= B,\n",
    "                    name=f\"beam_capacity_time_{i}\")\n",
    "    \n",
    "\n",
    "# Gurobi parameters\n",
    "problem.Params.NodeLimit = node_limit\n",
    "problem.Params.MIPGap    = 1e-4     # tighten or loosen tolerance\n",
    "# set node limit \n",
    "\n",
    "\n",
    "print(\"Starting Optimisation\")\n",
    "\n",
    "problem.optimize()\n",
    "\n",
    " # Extract solution\n",
    "if problem.Status in {GRB.OPTIMAL, GRB.TIME_LIMIT, GRB.SUBOPTIMAL}:\n",
    "    sol_t = t.X\n",
    "    sol_x = {(i, k): x[i, k].X for i in I for k in K if x[i, k].X > 0.5}\n",
    "    print(f\"  t = {sol_t:.6f}\")\n",
    "    print(f\"  Active allocations (i,k): {list(sol_x.keys())}\")\n",
    "else:\n",
    "    print(\"No feasible solution found.\")\n",
    "\n",
    "\n"
   ]
  },
  {
   "cell_type": "code",
   "execution_count": null,
   "id": "e2ceb9ab",
   "metadata": {},
   "outputs": [
    {
     "name": "stdout",
     "output_type": "stream",
     "text": [
      "C/D for each area: [2.19836545e+00 2.22828507e+00 1.99579692e+00 2.09878278e+00\n",
      " 2.08921313e+00 2.10941553e+00 2.03360963e+00 2.18193841e+00\n",
      " 2.25201368e+00 2.31218100e+00 2.09817028e+00 2.12895370e+00\n",
      " 2.25378203e+00 2.25748944e+00 2.13941789e+00 2.11516118e+00\n",
      " 2.33791852e+00 2.02974486e+00 2.07020926e+00 1.98883939e+00\n",
      " 2.32591128e+00 2.13859916e+00 2.19992757e+00 2.16896582e+00\n",
      " 2.57042837e+00 2.59319401e+00 2.30914974e+00 2.29692078e+00\n",
      " 2.04200435e+00 2.22623229e+00 2.17062569e+00 2.10412121e+00\n",
      " 3.04343867e+00 2.43425512e+00 2.26689410e+00 3.16411090e+00\n",
      " 3.29746389e+00 2.05120063e+00 2.64274240e+00 2.40566611e+00\n",
      " 2.14067459e+00 2.22280169e+00 2.16518164e+00 2.46040797e+00\n",
      " 2.42817235e+00 2.37922263e+00 1.98482728e+00 2.15989351e+00\n",
      " 2.15470243e+00 2.06274033e+00 1.96652472e+00 2.01609898e+00\n",
      " 2.04850030e+00 2.50852203e+00 1.96563196e+00 2.42085242e+00\n",
      " 2.50022316e+00 2.56460476e+00 1.95840752e+00 1.97839427e+00\n",
      " 1.98244214e+00 1.97034883e+00 2.59028316e+00 2.85128188e+00\n",
      " 2.46221495e+00 2.37652016e+00 2.28059769e+00 2.17760015e+00\n",
      " 2.32924128e+00 1.96163535e+00 2.09159470e+00 2.11119580e+00\n",
      " 2.09107566e+00 2.01194048e+00 2.21261334e+00 2.30449486e+00\n",
      " 1.98734951e+00 2.04186225e+00 2.08143663e+00 2.10411382e+00\n",
      " 2.10871077e+00 2.09498239e+00 2.06365156e+00 2.01632333e+00\n",
      " 2.19967437e+00 2.11854792e+00 2.40377116e+00 2.28936505e+00\n",
      " 2.27952433e+00 2.05144358e+00 2.07115436e+00 2.18755913e+00\n",
      " 2.32978630e+00 2.06277490e+00 2.33042264e+00 2.76581240e+00\n",
      " 2.90371275e+00 2.02063012e+00 2.09509945e+00 2.15598321e+00\n",
      " 2.20031381e+00 2.22576141e+00 2.23092437e+00 2.21550798e+00\n",
      " 2.18037939e+00 2.12743592e+00 2.05936456e+00 1.97930384e+00\n",
      " 2.52071357e+00 2.05279160e+00 2.54859734e+00 3.20304298e+00\n",
      " 2.15060019e+00 2.00662708e+00 2.14172435e+00 2.56568694e+00\n",
      " 2.07513118e+00 2.87977099e+00 2.01995659e+00 2.11274123e+00\n",
      " 2.19454360e+00 2.26164675e+00 2.31064725e+00 2.33883524e+00\n",
      " 2.34455442e+00 2.32747579e+00 2.28860307e+00 2.23015857e+00\n",
      " 2.15524769e+00 2.06748581e+00 1.97060001e+00 2.13497472e+00\n",
      " 2.64463043e+00 2.07264590e+00 2.07358289e+00 2.18366146e+00\n",
      " 2.16228414e+00 3.30303741e+00 2.34931326e+00 2.49878478e+00\n",
      " 1.98541260e+00 2.09289503e+00 2.19290924e+00 2.28140140e+00\n",
      " 2.01790595e+00 2.06360388e+00 2.03187323e+00 2.09527922e+00\n",
      " 2.12263322e+00 2.38353467e+00 1.98859239e+00 2.23885465e+00\n",
      " 2.14408445e+00 2.03984714e+00 2.20574284e+00 2.18155956e+00\n",
      " 2.19396567e+00 2.39622259e+00 2.13238358e+00 2.05674124e+00\n",
      " 2.36330605e+00 2.24956942e+00 2.10322428e+00 2.19478703e+00\n",
      " 2.03768015e+00 2.15125966e+00 2.25728130e+00 2.35136962e+00\n",
      " 2.42898870e+00 2.48592973e+00 2.51877809e+00 2.52545238e+00\n",
      " 2.00442338e+00 2.46028495e+00 2.39251232e+00 2.76732096e+17\n",
      " 2.20548010e+00 2.09516096e+00 1.97929871e+00 2.79221678e+00\n",
      " 2.03534126e+00 2.03846240e+00 2.13025498e+00 2.12521529e+00\n",
      " 2.12927413e+00 2.05420423e+00 2.44137597e+00 2.60355139e+00\n",
      " 2.07412839e+00 2.19207239e+00 2.30240941e+00 2.10046721e+00\n",
      " 1.98531258e+00 2.17818427e+00 2.14635372e+00 2.06609321e+00\n",
      " 2.56174493e+00 2.51437330e+00 2.44351363e+00 2.82396024e+17\n",
      " 2.24847484e+00 2.13378382e+00 2.01361132e+00 2.27002621e+00\n",
      " 2.36132574e+00 2.12626171e+00 2.05539536e+00 1.99614131e+00\n",
      " 2.25104308e+00 2.01185012e+00 2.76827097e+00 1.96919739e+00\n",
      " 2.09286714e+00 2.21308374e+00 2.32568669e+00 2.07937264e+00\n",
      " 2.00709009e+00 2.24859905e+00 2.60505652e+00 2.17685008e+00\n",
      " 2.22072649e+00 2.54235554e+00 2.11702776e+00 2.37766290e+00\n",
      " 2.27062654e+00 2.15365195e+00 2.03122830e+00 2.86076260e+00\n",
      " 2.14141941e+00 2.22067165e+00 2.06895280e+00 2.09594846e+00\n",
      " 2.41183209e+00 2.15555358e+00 2.30689240e+00 1.96919739e+00\n",
      " 2.09286714e+00 2.21308374e+00 2.32568669e+00 2.02161241e+00\n",
      " 2.50886250e+00 2.14152265e+00 2.60505652e+00 2.23904562e+00\n",
      " 2.15903950e+00 2.17916179e+00 2.05822158e+00 2.37766290e+00\n",
      " 2.27062654e+00 2.15365195e+00 2.03122830e+00 2.86076260e+00\n",
      " 2.37935495e+00 2.22067165e+00 1.99506176e+00 2.23147607e+00\n",
      " 2.39543343e+00 2.13979602e+00 2.19723845e+00 3.90532708e+00\n",
      " 2.07412839e+00 2.19207239e+00 2.30240941e+00 2.40053368e+00\n",
      " 2.48164058e+00 2.54121494e+00 2.57562470e+00 2.58261633e+00\n",
      " 2.56174493e+00 2.51437330e+00 2.44351363e+00 2.35330009e+00\n",
      " 1.96741569e+00 2.13378382e+00 2.01361132e+00 2.36461043e+00\n",
      " 2.12519312e+00 3.30751824e+00 3.08309293e+00 2.20365143e+00\n",
      " 2.10071635e+00 3.37435389e+00 2.40368485e+00 2.56058478e+00\n",
      " 2.03768015e+00 2.15125990e+00 2.25728130e+00 2.35136962e+00\n",
      " 2.08199024e+00 2.48592973e+00 2.51877809e+00 2.16467357e+00\n",
      " 2.50552940e+00 2.46028495e+00 2.39251232e+00 2.30610085e+00\n",
      " 2.20548034e+00 2.09516096e+00 1.97929871e+00 2.48197055e+00\n",
      " 2.03534126e+00 2.17435980e+00 2.02881432e+00 2.05931830e+00\n",
      " 2.20202494e+00 2.20248127e+00 2.81113267e+00 1.98541248e+00\n",
      " 2.09289527e+00 2.63149124e+17 2.28140140e+00 2.01790595e+00\n",
      " 2.40753770e+00 2.43824792e+00 2.03707719e+00 2.42586637e+00\n",
      " 1.98627889e+00 2.32002449e+00 2.23885465e+00 2.14408445e+00\n",
      " 2.03984714e+00 2.25169587e+00 2.04521227e+00 1.99082088e+00\n",
      " 2.12997556e+00 2.13238358e+00 2.00662708e+00 2.40944004e+00\n",
      " 1.99553418e+00 2.72360969e+00 2.55979633e+00 2.01995659e+00\n",
      " 2.11274123e+00 2.19454360e+00 2.26164675e+00 2.31064701e+00\n",
      " 2.33883524e+00 2.34455442e+00 2.32747579e+00 2.28860307e+00\n",
      " 2.23015857e+00 2.15524769e+00 2.06748581e+00 1.97060001e+00\n",
      " 2.17945337e+00 2.05693483e+00 2.21082234e+00 1.99952626e+00\n",
      " 2.42629075e+00 2.04172182e+00 2.17446709e+00 2.12171149e+00\n",
      " 2.03911972e+00 2.15118766e+00 2.21235228e+00 2.02063012e+00\n",
      " 2.09509945e+00 2.15598321e+00 2.20031381e+00 2.22576141e+00\n",
      " 2.23092437e+00 2.21550798e+00 2.18037939e+00 2.12743592e+00\n",
      " 2.05935955e+00 1.97930384e+00 2.20562434e+00 2.69428897e+00\n",
      " 2.26541972e+00 2.05909896e+00 2.15060019e+00 2.05423903e+00\n",
      " 2.11119580e+00 2.00743246e+00 2.64067173e+00 2.76576662e+00\n",
      " 3.84082508e+00 1.98734951e+00 2.04185677e+00 2.08143663e+00\n",
      " 2.10411382e+00 2.10871077e+00 2.09498215e+00 2.06365156e+00\n",
      " 2.01632333e+00 2.93289900e+00 2.25978446e+00 3.60565662e+00\n",
      " 2.00319433e+00 2.44234753e+00 2.30787396e+00 2.07115436e+00\n",
      " 1.81448899e+17 2.04850030e+00 2.50852203e+00 2.03843331e+00\n",
      " 3.63127875e+00 2.25020075e+00 2.56460476e+00 1.95840752e+00\n",
      " 1.97839439e+00 1.98244214e+00 1.97034883e+00 3.88542461e+00\n",
      " 2.13846159e+00 2.15443802e+00 2.37652016e+00 3.42089677e+00\n",
      " 1.95984030e+00 2.32924128e+00 2.20683956e+00 2.01501679e+00\n",
      " 2.37308335e+00 2.19830942e+00 3.41866755e+00 2.01351810e+00\n",
      " 2.06199956e+00 2.20183682e+00 2.46977949e+00 3.71173978e+00\n",
      " 2.46040797e+00 3.64224863e+00 2.08181977e+00 2.02617788e+00\n",
      " 2.23988962e+00 2.07774878e+00 2.16587710e+00 1.96652472e+00\n",
      " 2.08828139e+00 2.06747675e+00 2.13859916e+00 2.19992757e+00\n",
      " 3.37394667e+00 2.05634260e+00 2.07455516e+00 2.30914974e+00\n",
      " 2.58403563e+00 1.98528194e+00 2.00360918e+00 2.44195390e+00\n",
      " 2.20932722e+00 2.02895904e+00 2.19082952e+00 2.00010991e+00\n",
      " 2.10187936e+00 1.98186934e+00 2.09817028e+00 2.12895370e+00\n",
      " 2.14645910e+00 2.14998984e+00 2.40684509e+00 2.11516118e+00\n",
      " 2.00393009e+00 2.09317422e+00 1.97162783e+00 2.93115401e+00\n",
      " 1.78262789e+17 2.09558678e+00 2.24869561e+00 2.13185024e+00\n",
      " 1.96878803e+00 2.42096400e+00]\n",
      "C/D mean: 2558417603318418.5\n"
     ]
    },
    {
     "data": {
      "image/png": "[encoded data removed]",
      "text/plain": [
       "<Figure size 1200x600 with 2 Axes>"
      ]
     },
     "metadata": {},
     "output_type": "display_data"
    }
   ],
   "source": [
    "schedule_gurobi = np.zeros((len(I), len(K)))  # rows = time steps, columns = cells\n",
    "\n",
    "for i_idx, i in enumerate(I):\n",
    "    for k_idx, k in enumerate(K):\n",
    "        if x[i, k].X > 0.5:\n",
    "            schedule_gurobi[i_idx, k_idx] = 1\n",
    "\n",
    "# Calculate the C/D for each area\n",
    "C_D = np.zeros(len(demand))\n",
    "for i in range(len(demand)):\n",
    "    C_D[i] = rates[i] * np.sum(schedule_gurobi[:, i]) / (demand[i]*T+1e-10)  # Avoid division by zero\n",
    "print(\"C/D for each area:\", C_D)\n",
    "print(\"C/D mean:\", np.mean(C_D))\n",
    "\n",
    "plt.figure(figsize=(12, 6))\n",
    "plt.imshow(schedule_gurobi.T, aspect='auto', cmap='Greys', interpolation='none')\n",
    "plt.xlabel(\"Time index (i)\")\n",
    "plt.ylabel(\"Cell ID (k)\")\n",
    "plt.title(\"Beam allocation schedule\")\n",
    "plt.colorbar(label=\"Allocated (1 = yes)\")\n",
    "plt.show()\n",
    "\n"
   ]
  },
  {
   "cell_type": "code",
   "execution_count": 20,
   "id": "4101cdad",
   "metadata": {},
   "outputs": [
    {
     "name": "stdout",
     "output_type": "stream",
     "text": [
      "Status: Optimal\n",
      "Optimal t: 1.8042496\n",
      "Selected (i, k) pairs where x[i][k] = 1:\n"
     ]
    }
   ],
   "source": [
    "# Results\n",
    "print(\"Status:\", pulp.LpStatus[problem.status])\n",
    "print(\"Optimal t:\", pulp.value(t))\n",
    "print(\"Selected (i, k) pairs where x[i][k] = 1:\")"
   ]
  },
  {
   "cell_type": "code",
   "execution_count": 21,
   "id": "0e7cb520",
   "metadata": {},
   "outputs": [],
   "source": [
    "schedule = np.zeros((T, cell_visible_ids.shape[0]))\n",
    "for i in I:\n",
    "    for k in cell_visible_ids:\n",
    "        if pulp.value(x[i][k]) == 1:\n",
    "            schedule[i][k] = 1"
   ]
  },
  {
   "cell_type": "code",
   "execution_count": 22,
   "id": "179f8959",
   "metadata": {},
   "outputs": [
    {
     "data": {
      "text/plain": [
       "Text(0.5, 1.0, 'Beam Allocation Schedule')"
      ]
     },
     "execution_count": 22,
     "metadata": {},
     "output_type": "execute_result"
    },
    {
     "data": {
      "image/png": "[encoded data removed]",
      "text/plain": [
       "<Figure size 640x480 with 2 Axes>"
      ]
     },
     "metadata": {},
     "output_type": "display_data"
    }
   ],
   "source": [
    "plt.imshow(schedule, cmap='gray', aspect='auto', interpolation='none')\n",
    "plt.colorbar(label='Beam allocation (0 or 1)')\n",
    "plt.title(\"Beam Allocation Schedule\")"
   ]
  },
  {
   "cell_type": "code",
   "execution_count": null,
   "id": "137eba76",
   "metadata": {},
   "outputs": [
    {
     "name": "stdout",
     "output_type": "stream",
     "text": [
      "C/D for each area: [0.41752407 0.45299229 0.42638019 0.53524578 0.53524578 0.5329752\n",
      " 0.70465469 0.52190506 0.52425015 0.71696323 0.54949731 0.55929852\n",
      " 0.5668841  0.57205689 0.38311991 0.76623982 0.65377933 0.42516309\n",
      " 0.74573141 0.54949731 0.53772241 0.69900024 0.44945592 0.54250592\n",
      " 0.41958916 0.76647055 0.78447694 0.79950738 0.69529152 0.61435556\n",
      " 0.61738741 0.61738741 0.52659047 0.60838008 0.79950738 0.58835769\n",
      " 0.57485288 0.55945224 0.72334123 0.6991536  0.71418202 0.74275386\n",
      " 0.77016282 0.79588175 0.46088472 0.63000286 0.64297754 0.8707577\n",
      " 0.75425881 0.88464719 0.88464719 0.65997648 0.6530683  0.73483145\n",
      " 0.84000385 0.70230055 0.79588175 0.57762212 0.74275386 0.71418202\n",
      " 0.51796764 0.72351658 0.56721926 0.59135211 0.81948709 0.63654751\n",
      " 0.87552708 0.77074862 0.91910684 0.70097142 0.94527268 0.95068955\n",
      " 0.81487674 0.56716359 0.80111021 0.6893301  0.67440504 0.6566453\n",
      " 0.63654751 0.61461532 0.59135211 0.75629234 1.08527493 0.69062358\n",
      " 0.59196305 0.54501283 0.76325256 0.59991181 0.62702352 0.87105817\n",
      " 0.90423942 0.70109385 0.96190035 0.73857445 0.85941511 1.01494503\n",
      " 1.02120888 0.76590669 0.86995286 1.00265098 0.63306379 0.82448602\n",
      " 0.60093755 0.67817956 0.65329361 0.83603132 0.51421016 0.38162628\n",
      " 0.62287182 0.38847575 0.43410996 0.42932957 0.80376107 0.54293156\n",
      " 0.66377789 0.83202136 0.61843789 0.99675423 0.5138576  1.05392694\n",
      " 0.92099869 1.02063179 0.93934602 0.61644584 0.54433697 0.69074899\n",
      " 0.52696347 0.5138576  0.49837711 0.61843789 0.92446816 0.44251859\n",
      " 0.47506511 0.40188053 0.76325256 0.54263747 0.459117   0.37814617\n",
      " 0.59991181 0.84456021 0.50051147 0.46746522 0.88122416 0.51072872\n",
      " 0.53040361 0.54801989 0.96513486 0.73901182 0.58293188 1.05676496\n",
      " 1.17418325 1.16586375 0.86218041 1.12599063 0.61652237 0.79560542\n",
      " 0.76609313 0.73435342 0.60102671 0.57201308 0.63342017 0.39994124\n",
      " 0.42541575 0.53563648 0.6991536  0.55706543 0.39423472 0.62702352\n",
      " 0.44251859 0.60102671 0.73873627 0.51714081 0.9271946  0.96520817\n",
      " 0.5829854  0.6750145  0.69015133 0.93417692 1.12959528 1.07580507\n",
      " 1.06763077 1.22693563 0.77144516 0.8744781  0.84455717 0.54086351\n",
      " 0.51714081 0.55405217 0.70119786 0.44251859 0.41801566 0.78846943\n",
      " 0.74275386 0.52436519 0.36167061 0.43321657 0.81948709 0.87105817\n",
      " 0.46223408 0.9791379  1.03428161 0.93333381 0.85630143 0.6701529\n",
      " 0.92719591 1.27473164 0.97893023 0.74611408 0.85967952 1.14623928\n",
      " 0.85270178 0.83908308 1.27473164 0.79473931 0.89353716 0.5708676\n",
      " 0.81666708 1.03428161 0.73435342 0.69335115 0.43552908 0.81948709\n",
      " 0.77016282 0.54250592 0.44935727 0.74593633 0.59691131 0.47741061\n",
      " 1.35635912 0.72151083 0.87553495 1.08172703 1.1417352  1.20010853\n",
      " 1.25523305 1.30529356 1.01129663 1.03701997 0.79119784 1.06412458\n",
      " 0.70941639 1.05493045 2.07403994 1.34839559 1.30529356 0.94142473\n",
      " 1.02866447 0.5708676  0.69539589 1.02145743 0.82458383 0.90423942\n",
      " 0.84873003 0.44768351 0.55945224 0.69900024 0.53772241 0.49273103\n",
      " 0.70230055 0.87552971 0.9347918  0.74756765 0.79560542 0.96520817\n",
      " 0.76588899 0.80693555 0.98686391 1.17522132 1.06415856 0.81958419\n",
      " 0.95378762 1.49736917 0.74868459 1.1127522  1.0927788  1.41887808\n",
      " 1.17522132 0.98686391 0.70606858 0.59569144 0.72390616 1.06080723\n",
      " 0.74756765 0.8012501  0.65664726 0.4096753  0.76647055 0.71696323\n",
      " 0.73266309 0.58835769 0.84000385 0.67440695 0.48095018 0.6606741\n",
      " 1.09603977 1.1659708  1.23626125 1.30529356 1.3710916  1.43138206\n",
      " 1.48369694 0.76280218 0.9995985  1.00930965 1.00930965 1.16619825\n",
      " 1.30766082 1.1127727  1.07353663 1.02831864 0.73422766 1.05965245\n",
      " 0.5829854  0.82202983 0.88089877 0.72142524 0.8992092  0.63000292\n",
      " 0.78447694 0.41212299 0.39142883 0.55929857 0.5996322  0.85730338\n",
      " 0.91910684 0.49238294 1.05392694 1.12599063 0.77144516 0.7170366\n",
      " 1.01129663 1.21618128 1.48369694 1.15509593 0.79273182 1.51618218\n",
      " 2.45048594 1.40027773 1.2129457  1.18909776 1.15509593 1.2717402\n",
      " 1.06415856 1.01129663 0.95604873 0.77144516 1.12599063 0.52696347\n",
      " 0.73857445 0.6893301  0.64297754 0.68529397 0.47939876 0.41752407\n",
      " 0.52849102 0.75584543 0.52146864 0.4898012  0.60083264 0.75198823\n",
      " 0.53724921 0.57478696 0.92020178 0.97893023 1.03701997 1.24888694\n",
      " 1.30766082 1.35896885 1.22524929 1.25064659 0.84250468 1.08322024\n",
      " 1.25064659 1.63366568 1.58546364 1.52560437 1.09277606 1.38269317\n",
      " 1.11877739 0.92020178 1.14957392 0.92099869 0.85941511 0.80111021\n",
      " 0.6530683  0.81117344 0.5668841  0.70465469 0.5329752  0.76274258\n",
      " 0.81914079 0.43998429 0.60767531 0.86995286 1.08867395 0.58293188\n",
      " 0.62278461 1.32642138 1.05493045 1.48366964 1.16619813 1.3862201\n",
      " 1.25064659 1.70288646 1.72116101 1.47528088 1.27716482 1.42931032\n",
      " 1.2129426  1.55493093 1.48366964 1.20563471 0.8526994  0.93417692\n",
      " 0.87439781 0.54433697 0.76120877 0.81023371 0.87996858 0.49148446\n",
      " 0.57205689 0.7106337  0.45878211 0.57467991 0.82318324 0.66348535\n",
      " 0.95068955 0.76590669 0.82192773 0.75483209 1.07580507 1.00295937\n",
      " 1.41883278 1.12302685 0.88314366 1.63365734 1.68500936 1.47528088\n",
      " 0.86992395 1.11847365 1.29087079 1.68500936 1.22524297 1.00930703\n",
      " 1.49736917 1.21614242 1.33728266 1.25510585 0.66047806 0.82192773\n",
      " 0.76590669 0.57041371 0.66348535 0.82318324 0.65677702 0.53524578\n",
      " 0.61170942 0.65677702 0.61738741 0.75826901 0.95068955 0.51060444\n",
      " 0.61644584 0.58709162 0.62755293 1.00295949 1.06412458 1.12302685\n",
      " 1.17752492 1.22524297 1.26375699 1.29087079 1.30488586 1.7398479\n",
      " 1.72116101 1.68500936 1.63365734 1.17752492 1.12302685 0.85129964\n",
      " 1.33728266 1.25510585 1.00644279 0.82192773 0.6564914  0.95068955\n",
      " 0.88464719 0.41159162 0.76623982 0.53524578 0.4568359  0.49033448\n",
      " 0.81914079 0.65997648 0.70895451 1.52241755 1.63301098 1.16586375\n",
      " 0.93417692 0.99481601 1.40657389 1.48366964 2.33239627 1.61725676\n",
      " 1.25064659 1.59645605 1.72116101 1.47528088 1.27716482 1.66752875\n",
      " 1.2129426  1.33279788 1.48366964 1.05493045 1.32642138 0.80072308\n",
      " 0.9993118  1.08867395 0.76120877 0.70895451 0.87996858 0.61435556\n",
      " 0.57205689 0.53297526 0.52849102 0.75584543 0.60838008 0.74636376\n",
      " 0.60083264 0.56399119 1.07449841 1.72436082 0.92020178 1.30524039\n",
      " 1.38269317 1.09277606 0.76280218 1.58546364 1.47029912 1.66752875\n",
      " 1.26375699 1.68500936 1.42931032 1.22524929 1.01922667 0.76280218\n",
      " 1.45703483 1.38269317 1.17471623 1.22693563 0.98534906 0.80587381\n",
      " 1.50397646 0.60083264 0.6530683  0.60838008 0.5668841  0.60398972\n",
      " 0.52190506 0.55929852 0.74954033 0.64297754 0.91910684 0.84408504\n",
      " 1.05392694 0.84449297 0.6000129  0.81947041 1.34839559 1.06415856\n",
      " 1.1127727  1.15509593 1.58546364 1.61726105 1.22524297 1.22524297\n",
      " 1.61726105 1.58546364 1.15509593 1.48369694 1.41887808 1.34839559\n",
      " 0.95604879 0.77144516 0.84449297 1.05392694 0.73857445 0.91910684\n",
      " 0.64297754 0.59963226 0.63919836 0.52190506 0.54949731 0.78447694\n",
      " 0.63000286 0.8992092  0.72142524 1.02771521 0.54801989 0.8744781\n",
      " 0.92719591 1.30529356 1.3710916  1.5336237  0.74184847 1.14420331\n",
      " 0.87464869 1.1775279  1.00930965 1.16619813 1.14420331 1.48369694\n",
      " 1.07353663 0.6855458  0.97897023 0.92719591 1.1659708  1.09603977\n",
      " 0.7707864  0.48095018 0.57806307 0.63000286 0.58835769 0.62799698\n",
      " 0.53772241 0.57485294 0.70230055 0.56284052 0.8012501  0.49837846\n",
      " 0.79560542 0.72390616 0.89353716 1.25523305 0.74014789 1.3710916\n",
      " 1.41887808 1.4570384  1.1127522  1.28345919 1.49736917 1.1127522\n",
      " 1.0927788  1.41887808 1.3710916  0.98686391 0.70606858 0.89353716\n",
      " 0.56303811 0.79560542 0.74756765 0.60093755 0.65664726 1.22902596\n",
      " 0.76647055 0.61453992 0.52425015 0.47953048 0.39794087 0.84873003\n",
      " 0.45211971 0.72151083 1.02145743 1.01411903 0.85630143 0.9000814\n",
      " 1.25523305 0.97897017 0.8668257  1.03701985 1.05493045 1.41883278\n",
      " 1.06412458 1.05493045 0.69134659 1.01129663 0.97897017 0.80693555\n",
      " 0.9000814  0.85630143 0.9271946  0.76609308 0.72151083 0.58129674\n",
      " 0.63654751 0.39794087 0.55945224 0.69900024 0.72334123 0.57762212\n",
      " 0.52681315 0.87105817 0.69335115 0.62944579 1.03428161 0.81666708\n",
      " 1.1417352  0.76588899 1.23626125 0.95604873 1.22366285 1.32642496\n",
      " 1.3372792  1.00295949 1.32642496 0.97893023 0.95604873 1.23626125\n",
      " 1.19138288 0.85630143 0.93333381 1.03428161 0.73435342 0.92446816\n",
      " 0.74662131 0.81948709 0.57762212 0.46500504 0.52436519 0.74275386\n",
      " 0.67583096 0.83603132 1.32755578 0.80136895 0.73873627 0.77571124\n",
      " 0.81129527 0.6334179  0.8744781  1.02859354 1.05165911 0.93417692\n",
      " 1.25510585 1.25510585 1.24556923 1.22693563 1.2000258  0.8744781\n",
      " 1.12607622 1.08172703 0.77571124 0.98498166 0.70119786 0.88503718\n",
      " 0.62702352 0.59135211 0.74275386 0.3495768  0.61215597 0.75629234\n",
      " 0.68561351 0.84456021 0.88979816 0.93493044 0.83926105 0.76609308\n",
      " 1.06080723 0.82202983 0.72385114 1.14957392 0.87439781 0.88063741\n",
      " 0.88063741 0.65579838 1.14957392 0.84449297 0.82202983 1.06080723\n",
      " 0.87553495 0.9791379  0.93493044 0.88979816 0.63342017 1.19982362\n",
      " 0.56722099 0.71418202 0.36175829 0.57243943 0.80376107 0.47506511\n",
      " 0.5689525  0.79240131 0.96201444 0.99675423 0.7707864  0.52696347\n",
      " 0.92099869 0.81650549 0.82192779 1.09590364 1.08867395 0.6044054\n",
      " 0.79044527 0.5138576  0.74756569 0.72151083 0.69335109 0.66377789\n",
      " 0.84456021 0.60282081 0.57243943 0.72351658 0.69062358 0.7266838\n",
      " 0.57243943 0.79988247 0.62702352 0.87105817 0.67817956 0.4673959\n",
      " 0.72142524 0.84408504 0.85941511 0.65246469 0.76590669 0.57442999\n",
      " 1.01494503 1.00265098 0.98476589 0.96190035 0.70109385 0.67817956\n",
      " 0.55996597 0.62702352 0.59991181 0.76325256 0.7266838  0.51796764\n",
      " 0.51796764 0.54263747 0.56721926 0.78846943 0.70241755 0.63654751\n",
      " 0.87552708 0.8992067  0.91910684 0.46731427 0.70895451 0.47534478\n",
      " 0.71301717 0.53171587 0.70097142 0.6893301  0.8992067  0.6566453\n",
      " 0.84873003 0.61461532 0.78846943 0.75629234 0.72351658 0.69062358\n",
      " 0.71418202 0.74275386 0.66013956 0.39794087 0.8193506  0.75600344\n",
      " 0.85730338 0.6530683  0.65997648 0.66348535 0.66348535 0.87996858\n",
      " 0.8707577  0.64297754 0.63000286 0.8193506  0.59691131 0.38508141\n",
      " 0.55706543 0.53563648 0.52436519 0.72334123 0.74593633 0.65697473\n",
      " 0.58835775 0.59963226 0.52146864 0.61435556 0.77173424 0.82318324\n",
      " 0.81914079 0.60838008 0.74954033 0.58835775 0.57485294 0.55945224\n",
      " 0.62000674 0.3495768  0.34950012 0.71696323 0.54949731 0.74572903\n",
      " 0.37792271 0.57205689 0.43100992 0.57467991 0.76274258 0.6478675\n",
      " 0.47939724 0.73266309 0.71696323 0.69900024 0.69587344 0.35232735\n",
      " 0.7106337  0.71366102 1.07049155 0.53297526 0.52849102 0.69587344]\n",
      "C/D mean: 0.8549979087292102\n"
     ]
    }
   ],
   "source": [
    "# Calculate the C/D for each area\n",
    "C_D = np.zeros(len(demand))\n",
    "for i in range(len(demand)):\n",
    "    C_D[i] = rates[i] * np.sum(schedule[:, i]) / (demand[i]*T)\n",
    "print(\"C/D for each area:\", C_D)\n",
    "print(\"C/D mean:\", np.mean(C_D))"
   ]
  },
  {
   "cell_type": "code",
   "execution_count": null,
   "id": "c34237a7",
   "metadata": {},
   "outputs": [
    {
     "data": {
      "text/plain": [
       "Array(18967318., dtype=float32)"
      ]
     },
     "execution_count": 24,
     "metadata": {},
     "output_type": "execute_result"
    }
   ],
   "source": [
    "np.mean(rates)"
   ]
  },
  {
   "cell_type": "code",
   "execution_count": null,
   "id": "e5002257",
   "metadata": {},
   "outputs": [
    {
     "name": "stdout",
     "output_type": "stream",
     "text": [
      "Number of areas with C/D = 0: 0\n",
      "Number of areas with C/D > 1: 912\n"
     ]
    }
   ],
   "source": [
    "# count how many have C/D = 0\n",
    "count = 0\n",
    "for i in range(len(demand)):\n",
    "    if C_D[i] == 0:\n",
    "        count += 1\n",
    "\n",
    "print(\"Number of areas with C/D = 0:\", count)\n",
    "\n",
    "# count how many have C/D > 1\n",
    "count = 0\n",
    "for i in range(len(demand)):\n",
    "    if C_D[i] > 0:\n",
    "        count += 1\n",
    "\n",
    "print(\"Number of areas with C/D > 1:\", count)"
   ]
  },
  {
   "cell_type": "code",
   "execution_count": null,
   "id": "59bb97c5",
   "metadata": {},
   "outputs": [
    {
     "data": {
      "text/plain": [
       "square_cell(lat=Array(-0.13002127, dtype=float32), longi=Array(-0.02758027, dtype=float32), lat_width=[], longi_width=[], density=Array(8, dtype=int32), id=13, users=[User(id=0 \n",
       " lat=-0.13002127408981323 \n",
       " lon=-0.027580270543694496 \n",
       " demand=0.0 \n",
       " position=[0. 0. 0.]), User(id=1 \n",
       " lat=-0.13002127408981323 \n",
       " lon=-0.027580270543694496 \n",
       " demand=0.0 \n",
       " position=[0. 0. 0.]), User(id=2 \n",
       " lat=-0.13002127408981323 \n",
       " lon=-0.027580270543694496 \n",
       " demand=100000.0 \n",
       " position=[0. 0. 0.]), User(id=3 \n",
       " lat=-0.13002127408981323 \n",
       " lon=-0.027580270543694496 \n",
       " demand=100000.0 \n",
       " position=[0. 0. 0.]), User(id=4 \n",
       " lat=-0.13002127408981323 \n",
       " lon=-0.027580270543694496 \n",
       " demand=100000.0 \n",
       " position=[0. 0. 0.]), User(id=5 \n",
       " lat=-0.13002127408981323 \n",
       " lon=-0.027580270543694496 \n",
       " demand=0.0 \n",
       " position=[0. 0. 0.]), User(id=6 \n",
       " lat=-0.13002127408981323 \n",
       " lon=-0.027580270543694496 \n",
       " demand=100000.0 \n",
       " position=[0. 0. 0.]), User(id=7 \n",
       " lat=-0.13002127408981323 \n",
       " lon=-0.027580270543694496 \n",
       " demand=100000.0 \n",
       " position=[0. 0. 0.])], users_amount=Array(8, dtype=int32))"
      ]
     },
     "execution_count": 26,
     "metadata": {},
     "output_type": "execute_result"
    }
   ],
   "source": [
    "# Okay then evolve the demand over time, the cells have been intialised and then since it is a markov process, the demand can be calculated based on the state change of the users.\n",
    "\n",
    "\n",
    "# Create a list of cells that are within the visible area of the satellite\n",
    "cells_within_visible_area = [] \n",
    "for i in range(len(cells)):\n",
    "    for j in range(len(cells[i])):\n",
    "        if visible_area_of_sat_one[i,j]:\n",
    "            cells_within_visible_area.append(cells[i][j])\n",
    "\n",
    "cells_within_visible_area[0]"
   ]
  },
  {
   "cell_type": "code",
   "execution_count": null,
   "id": "c6046c53",
   "metadata": {},
   "outputs": [],
   "source": [
    "test = []\n",
    "\n",
    "A = jnp.array([[0.1, 0.9],\n",
    "            [0.3, 0.7]])\n",
    "\n",
    "# the amount of state changes\n",
    "state_changes = 2\n",
    "\n",
    "# Vectorise the user vector\n",
    "users_state_change = jax.jit(jax.vmap(user_state_change, in_axes=(None, 0, 0, 0)))\n",
    "for k in range(len(cells_within_visible_area)):\n",
    "    time_series = jnp.zeros((cells_within_visible_area[k].density, state_changes+1))\n",
    "    \n",
    "    # The intital state is the demand of the user\n",
    "    states = jnp.array([1 if cells_within_visible_area[k].users[x].demand > 0  else 0 for x in range(cells_within_visible_area[k].density.item())])\n",
    "\n",
    "    # Intialize the keys\n",
    "    key = jrandom.PRNGKey(seed)\n",
    "    seed += 1\n",
    "    keys = jrandom.split(key, (cells_within_visible_area[k].density.item(), 1))[:,0]\n",
    "\n",
    "    # Calcuate the state change\n",
    "    test.append(users_state_change(A, states, time_series, keys))"
   ]
  },
  {
   "cell_type": "code",
   "execution_count": null,
   "id": "9724c11a",
   "metadata": {},
   "outputs": [
    {
     "data": {
      "text/plain": [
       "(120, 912)"
      ]
     },
     "execution_count": 65,
     "metadata": {},
     "output_type": "execute_result"
    }
   ],
   "source": [
    "schedule.shape"
   ]
  },
  {
   "cell_type": "code",
   "execution_count": null,
   "id": "37f15cd4",
   "metadata": {},
   "outputs": [
    {
     "data": {
      "text/plain": [
       "Array([[500000., 700000., 500000.],\n",
       "       [700000., 600000., 700000.],\n",
       "       [500000., 300000., 700000.],\n",
       "       ...,\n",
       "       [800000., 400000., 700000.],\n",
       "       [600000., 700000., 700000.],\n",
       "       [300000., 200000., 300000.]], dtype=float32)"
      ]
     },
     "execution_count": 67,
     "metadata": {},
     "output_type": "execute_result"
    }
   ],
   "source": [
    "# Calculate the demand of the cells over time given test\n",
    "demand_over_time = []\n",
    "for tes in test:\n",
    "    demand_over_time.append(jnp.sum(tes, axis=0)*100e3)\n",
    "\n",
    "demand_over_time = jnp.array(demand_over_time)\n",
    "\n",
    "demand_over_time"
   ]
  },
  {
   "cell_type": "code",
   "execution_count": null,
   "id": "d502f2c9",
   "metadata": {},
   "outputs": [
    {
     "name": "stdout",
     "output_type": "stream",
     "text": [
      "Demand over time 0.9336062669754028\n"
     ]
    }
   ],
   "source": [
    "# Loop over the cells and calculate the over allocation vs under allocation of demand. Over allocation is not too bad under allocation is bad.\n",
    "# Okay lets try and say that there is a demand over and under allocation.\n",
    "\n",
    "# Over allocation is when the demand is less than the capacity\n",
    "# Under allocation is when the demand is over than the capacity\n",
    "\n",
    "#  But first lets just calcualte the difference in average\n",
    "average_demand_over_time = jnp.mean(jnp.divide(jnp.multiply(jnp.mean(schedule, axis=0), rates), jnp.mean(demand_over_time)))\n",
    "\n",
    "print(f\"Demand over time {average_demand_over_time}\")\n",
    "\n"
   ]
  },
  {
   "cell_type": "code",
   "execution_count": null,
   "id": "70054f81",
   "metadata": {},
   "outputs": [],
   "source": []
  }
 ],
 "metadata": {
  "kernelspec": {
   "display_name": "venv",
   "language": "python",
   "name": "python3"
  },
  "language_info": {
   "codemirror_mode": {
    "name": "ipython",
    "version": 3
   },
   "file_extension": ".py",
   "mimetype": "text/x-python",
   "name": "python",
   "nbconvert_exporter": "python",
   "pygments_lexer": "ipython3",
   "version": "3.10.11"
  }
 },
 "nbformat": 4,
 "nbformat_minor": 5
}
