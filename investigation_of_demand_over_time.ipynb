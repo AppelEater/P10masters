{
 "cells": [
  {
   "cell_type": "code",
   "execution_count": 5,
   "id": "01161341",
   "metadata": {},
   "outputs": [],
   "source": [
    "import jax\n",
    "import jax.numpy as jnp\n",
    "import jax.random as jrandom\n",
    "import matplotlib.pyplot as plt\n",
    "\n",
    "import Project_library as pl"
   ]
  },
  {
   "cell_type": "markdown",
   "id": "715d4901",
   "metadata": {},
   "source": [
    "## Auto Regressive model for data demand change"
   ]
  },
  {
   "cell_type": "code",
   "execution_count": 6,
   "id": "d0470e22",
   "metadata": {},
   "outputs": [
    {
     "data": {
      "image/png": "[encoded data removed]",
      "text/plain": [
       "<Figure size 640x480 with 1 Axes>"
      ]
     },
     "metadata": {},
     "output_type": "display_data"
    }
   ],
   "source": [
    "def ar1_process(demand_over_time: jnp.ndarray, variability : float, time_slots : int, ar_weight : float, key : jnp.ndarray) -> jnp.ndarray:\n",
    "    white_noise = jrandom.normal(key, demand_over_time.shape)  # Generate white noise\n",
    "\n",
    "     # Add the initial demand to the white noise\n",
    "\n",
    "    for i in range(1, time_slots):\n",
    "        demand_over_time = demand_over_time.at[i].set(ar_weight * demand_over_time[i-1] + white_noise[i]+ demand_over_time[0])\n",
    "\n",
    "    return demand_over_time\n",
    "\n",
    "\n",
    "# Demanded bit rate changes with time\n",
    "# Demand is intialised\n",
    "for k in range(1, 10):\n",
    "    demand = jnp.array([jrandom.randint(jrandom.PRNGKey(k), (1), minval=200, maxval = 750)])\n",
    "    \n",
    "    # The reconfiguration period is 30 seconds\n",
    "    reconfiguration_period = 30\n",
    "    # The number of reconfigurations is 10\n",
    "    time_slots = 10\n",
    "\n",
    "    time_slot_duration =int( reconfiguration_period / time_slots)\n",
    "\n",
    "    # Setup array with demand over time\n",
    "    demand_over_time = jnp.zeros((time_slots, demand.shape[0]))\n",
    "\n",
    "    demand_over_time = demand_over_time.at[0].set(demand[0].item())\n",
    "\n",
    "    #print(demand_over_time)\n",
    "\n",
    "    key, subkey = jrandom.split(jrandom.PRNGKey(k))\n",
    "    # Calculate the AR(1) process for the demand\n",
    "\n",
    "    demand_over_time = ar1_process(demand_over_time, 1, time_slots, 0.01, subkey)\n",
    "\n",
    "    plt.plot(demand_over_time)"
   ]
  },
  {
   "cell_type": "markdown",
   "id": "89801897",
   "metadata": {},
   "source": [
    "## Markov Distribution"
   ]
  },
  {
   "cell_type": "code",
   "execution_count": 7,
   "id": "afe1ee6f",
   "metadata": {},
   "outputs": [
    {
     "data": {
      "text/plain": [
       "(Array([0, 1, 1, 1, 0, 0, 1, 1, 1, 1], dtype=int32), 10)"
      ]
     },
     "execution_count": 7,
     "metadata": {},
     "output_type": "execute_result"
    }
   ],
   "source": [
    "def markov_step(state, key, A):\n",
    "    key, subkey = jrandom.split(key)\n",
    "    probs = A[state]  # Transition probabilities from current state\n",
    "    next_state = jrandom.choice(subkey, A.shape[0], p=probs)\n",
    "    return next_state, next_state\n",
    "\n",
    "# Function for state change given A\n",
    "def user_state_change(state_change_matrix : jnp.ndarray, state : int, time_series : jnp.ndarray, key : jnp.ndarray) -> jnp.ndarray:\n",
    "    # Create a copy of the state change matrix\n",
    "\n",
    "    key = jrandom.split(key, time_series.shape[0]-1)\n",
    "\n",
    "    def scan_fn(state,key):\n",
    "        return markov_step(state, key, state_change_matrix)\n",
    "\n",
    "    _, states = jax.lax.scan(scan_fn, state, key)\n",
    "\n",
    "    return jnp.concatenate([jnp.array([state]), states])\n",
    "\n",
    "seed = 42\n",
    "\n",
    "key = jrandom.PRNGKey(seed)\n",
    "\n",
    "time_series = jnp.zeros((time_slots, 1))\n",
    "# Create a state change matrix\n",
    "\n",
    "state_change_matrix = jnp.array([[0.1, 0.9], \n",
    "                                 [0.3, 0.7]])\n",
    "\n",
    "# Intial state is 0\n",
    "state = 0\n",
    "time_series = user_state_change(state_change_matrix, state, time_series, key)\n",
    "\n",
    "time_series, time_series.shape[0]"
   ]
  },
  {
   "cell_type": "code",
   "execution_count": 8,
   "id": "5b15fb3e",
   "metadata": {},
   "outputs": [
    {
     "data": {
      "text/plain": [
       "[Array([1, 0, 0, 1, 0, 1, 1, 1, 1, 0], dtype=int32),\n",
       " Array([1, 1, 1, 1, 0, 1, 1, 1, 1, 0], dtype=int32),\n",
       " Array([1, 1, 1, 0, 1, 1, 0, 1, 1, 0], dtype=int32),\n",
       " Array([1, 1, 0, 1, 1, 0, 0, 1, 1, 1], dtype=int32),\n",
       " Array([1, 0, 1, 1, 1, 0, 1, 0, 1, 1], dtype=int32),\n",
       " Array([1, 0, 1, 1, 0, 0, 1, 1, 1, 1], dtype=int32),\n",
       " Array([1, 0, 0, 1, 1, 0, 1, 1, 1, 0], dtype=int32),\n",
       " Array([1, 0, 1, 0, 1, 1, 1, 0, 1, 1], dtype=int32),\n",
       " Array([1, 0, 1, 1, 1, 1, 0, 1, 1, 1], dtype=int32),\n",
       " Array([1, 1, 0, 1, 1, 0, 1, 0, 0, 1], dtype=int32),\n",
       " Array([1, 1, 1, 0, 1, 1, 0, 0, 1, 0], dtype=int32),\n",
       " Array([1, 0, 1, 0, 1, 1, 1, 1, 1, 0], dtype=int32),\n",
       " Array([1, 1, 1, 1, 1, 1, 1, 1, 1, 1], dtype=int32)]"
      ]
     },
     "execution_count": 8,
     "metadata": {},
     "output_type": "execute_result"
    }
   ],
   "source": [
    "seed = 10\n",
    "\n",
    "key = jrandom.PRNGKey(seed)\n",
    "# Number of users in a cell\n",
    "num_users = jrandom.choice(key, jnp.arange(10,20))\n",
    "\n",
    "user_rate = 100e3 # 100 kbps\n",
    "\n",
    "time_series = jnp.zeros((time_slots, 1))\n",
    "\n",
    "series = []\n",
    "\n",
    "# Loop over the number of users, can compute the demand based on the state change of the users.\n",
    "for i in range(num_users):\n",
    "    key, subkey = jrandom.split(key)\n",
    "    # Create a state change matrix\n",
    "    state_change_matrix = jnp.array([[0.3, 0.7], \n",
    "                                     [0.3, 0.7]])\n",
    "    # Intial state is 1\n",
    "    state = 1\n",
    "    series.append(user_state_change(state_change_matrix, state, time_series, key))\n",
    "\n",
    "series"
   ]
  },
  {
   "cell_type": "code",
   "execution_count": 9,
   "id": "31fb40f5",
   "metadata": {},
   "outputs": [
    {
     "data": {
      "text/plain": [
       "Text(0.5, 1.0, 'Demand Over Time')"
      ]
     },
     "execution_count": 9,
     "metadata": {},
     "output_type": "execute_result"
    },
    {
     "data": {
      "image/png": "[encoded data removed]",
      "text/plain": [
       "<Figure size 640x480 with 1 Axes>"
      ]
     },
     "metadata": {},
     "output_type": "display_data"
    }
   ],
   "source": [
    "# Sum along the columns to get the total demand\n",
    "total_demand = jnp.sum(jnp.array(series), axis=0)\n",
    "total_demand = total_demand.flatten()*100e3\n",
    "\n",
    "total_demand\n",
    "# Plot the demand over time\n",
    "plt.plot(total_demand, label='Total Demand')\n",
    "plt.xlabel('Time Slots')\n",
    "plt.ylabel('Demand (bps)')\n",
    "plt.title('Demand Over Time')"
   ]
  },
  {
   "cell_type": "code",
   "execution_count": 10,
   "id": "7f5fe0c4",
   "metadata": {},
   "outputs": [
    {
     "name": "stdout",
     "output_type": "stream",
     "text": [
      "7.6754184\n",
      "[-0.13002127 -0.1221412  -0.11426113 -0.10638105 -0.09850097 -0.09062089\n",
      " -0.08274081 -0.07486074 -0.06698066 -0.05910058 -0.05122051 -0.04334043\n",
      " -0.03546035 -0.02758027 -0.01970019 -0.01182012 -0.00394004  0.00394004\n",
      "  0.01182012  0.0197002   0.02758027  0.03546035  0.04334043  0.05122051\n",
      "  0.05910059  0.06698066  0.07486074  0.08274081  0.0906209   0.09850097\n",
      "  0.10638105  0.11426112  0.12214121  0.13002127]\n",
      "[-0.13002127 -0.1221412  -0.11426113 -0.10638105 -0.09850097 -0.09062089\n",
      " -0.08274082 -0.07486074 -0.06698066 -0.05910058 -0.0512205  -0.04334043\n",
      " -0.03546035 -0.02758027 -0.0197002  -0.01182012 -0.00394004  0.00394004\n",
      "  0.01182011  0.0197002   0.02758027  0.03546035  0.04334042  0.0512205\n",
      "  0.05910057  0.06698066  0.07486074  0.08274081  0.0906209   0.09850097\n",
      "  0.10638104  0.11426111  0.1221412   0.13002127  0.13790135  0.14578143\n",
      "  0.1536615   0.16154158  0.16942166  0.17730175  0.18518183  0.19306189\n",
      "  0.20094196  0.20882206  0.21670215  0.2245822   0.23246229  0.24034235\n",
      "  0.24822244  0.25610253  0.2639826   0.27186266  0.27974275  0.2876228\n",
      "  0.2955029   0.303383    0.31126305  0.31914315  0.3270232   0.3349033\n",
      "  0.34278336  0.35066342  0.35854352  0.3664236   0.37430367  0.38218376\n",
      "  0.39006385  0.3979439 ]\n"
     ]
    }
   ],
   "source": [
    "earth_radius = 6371  # in kilometers\n",
    "\n",
    "satellite_height = 600  # in meters\n",
    "\n",
    "# Place a satellite at the\n",
    "satellite_position = jnp.array([0, 0, satellite_height + earth_radius])  # in kilometers\n",
    "\n",
    "# Calculate the viewing angle\n",
    "lat_range, lon_range, _, _,_, angle_of_interest = pl.visible_angle(jnp.deg2rad(30), satellite_position)\n",
    "\n",
    "lon_range = jnp.array(lon_range)-jnp.pi/2\n",
    "lon_range = lon_range.at[1].set(lon_range[1]+(lon_range[1]-lon_range[0]))\n",
    "\n",
    "# Define the grid size and resolution, with 50 km size at the equator\n",
    "grid_size = 50  # in kilometers\n",
    "# Leading to an angle of \n",
    "angle_of_cell_size = grid_size/earth_radius\n",
    "\n",
    "# Calculate the number of cells in the grid\n",
    "num_cells_lat = int((lat_range[1] - lat_range[0]) / angle_of_cell_size)\n",
    "num_cells_lon = int((lon_range[1] - lon_range[0]) / angle_of_cell_size)\n",
    "\n",
    "# Create a grid of cells\n",
    "mesh_grid = pl.generate_latitude_longitude_points(num_cells_lat, num_cells_lon, lat_range, lon_range)\n",
    "\n",
    "# Recover list of lat and lon points\n",
    "lat_points, long_points = mesh_grid[0][:,0], mesh_grid[1][0,:]\n",
    "\n",
    "print(jnp.rad2deg(angle_of_interest))\n",
    "\n",
    "print(lat_points)\n",
    "print(long_points)\n"
   ]
  },
  {
   "cell_type": "code",
   "execution_count": 11,
   "id": "876b8c84",
   "metadata": {},
   "outputs": [
    {
     "name": "stdout",
     "output_type": "stream",
     "text": [
      "[[False False False ... False False False]\n",
      " [False False False ... False False False]\n",
      " [False False False ... False False False]\n",
      " ...\n",
      " [False False False ... False False False]\n",
      " [False False False ... False False False]\n",
      " [False False False ... False False False]]\n"
     ]
    }
   ],
   "source": [
    "visible_area_of_sat_one = pl.calculate_if_cells_within_visible_area(jnp.rad2deg(lat_points),jnp.rad2deg(long_points), 0, 0, 6000, jnp.rad2deg(angle_of_interest))\n",
    "\n",
    "print(visible_area_of_sat_one)"
   ]
  },
  {
   "cell_type": "code",
   "execution_count": 12,
   "id": "dd29c0d2",
   "metadata": {},
   "outputs": [
    {
     "data": {
      "text/plain": [
       "<matplotlib.image.AxesImage at 0x1eb9d91f580>"
      ]
     },
     "execution_count": 12,
     "metadata": {},
     "output_type": "execute_result"
    },
    {
     "data": {
      "image/png": "[encoded data removed]",
      "text/plain": [
       "<Figure size 640x480 with 1 Axes>"
      ]
     },
     "metadata": {},
     "output_type": "display_data"
    }
   ],
   "source": [
    "import matplotlib.pyplot as plt\n",
    "plt.imshow(visible_area_of_sat_one, cmap='gray')"
   ]
  },
  {
   "cell_type": "code",
   "execution_count": 13,
   "id": "a648f60e",
   "metadata": {},
   "outputs": [
    {
     "name": "stdout",
     "output_type": "stream",
     "text": [
      "[[False False False ... False False False]\n",
      " [False False False ... False False False]\n",
      " [False False False ... False False False]\n",
      " ...\n",
      " [False False False ... False False False]\n",
      " [False False False ... False False False]\n",
      " [False False False ... False False False]]\n"
     ]
    }
   ],
   "source": [
    "visible_area_of_sat_two = pl.calculate_if_cells_within_visible_area(jnp.rad2deg(lat_points),jnp.rad2deg(long_points), 0, 7.6, 6000, jnp.rad2deg(angle_of_interest))\n",
    "\n",
    "print(visible_area_of_sat_two)"
   ]
  },
  {
   "cell_type": "code",
   "execution_count": 14,
   "id": "74fa6fee",
   "metadata": {},
   "outputs": [
    {
     "data": {
      "text/plain": [
       "<matplotlib.image.AxesImage at 0x1eb952721d0>"
      ]
     },
     "execution_count": 14,
     "metadata": {},
     "output_type": "execute_result"
    },
    {
     "data": {
      "image/png": "[encoded data removed]",
      "text/plain": [
       "<Figure size 640x480 with 1 Axes>"
      ]
     },
     "metadata": {},
     "output_type": "display_data"
    }
   ],
   "source": [
    "plt.imshow(visible_area_of_sat_two, cmap='gray')"
   ]
  },
  {
   "cell_type": "code",
   "execution_count": 15,
   "id": "0e18657a",
   "metadata": {},
   "outputs": [
    {
     "data": {
      "text/plain": [
       "<matplotlib.image.AxesImage at 0x1eb9419c0d0>"
      ]
     },
     "execution_count": 15,
     "metadata": {},
     "output_type": "execute_result"
    },
    {
     "data": {
      "image/png": "[encoded data removed]",
      "text/plain": [
       "<Figure size 640x480 with 1 Axes>"
      ]
     },
     "metadata": {},
     "output_type": "display_data"
    }
   ],
   "source": [
    "# The intersection between the two visible areas\n",
    "intersection = jnp.logical_and(visible_area_of_sat_one, visible_area_of_sat_two)\n",
    "plt.imshow(intersection, cmap='gray')"
   ]
  },
  {
   "cell_type": "markdown",
   "id": "9dcd87ba",
   "metadata": {},
   "source": [
    "### Distribute the users across cells according to a random process, optimise the allocation.\n",
    "### Check what happens over time"
   ]
  },
  {
   "cell_type": "code",
   "execution_count": null,
   "id": "645e9c9a",
   "metadata": {},
   "outputs": [],
   "source": [
    "mesh_grid_comb = jnp.stack(mesh_grid, axis=-1)\n",
    "mesh_grid_comb.shape\n",
    "\n",
    "seed = 10\n",
    "\n",
    "key = jrandom.PRNGKey(seed)\n",
    "\n",
    "base_user_demand = 100e3\n",
    "\n",
    "# Set a high vs low density for the cells\n",
    "\n",
    "cells = []\n",
    "\n",
    "\n",
    "for i in range(mesh_grid_comb.shape[0]):\n",
    "    cells_row = []\n",
    "    for j in range(mesh_grid_comb.shape[1]):\n",
    "        density = jrandom.choice(key, jnp.array([3, 8]))\n",
    "\n",
    "        key, subkey = jrandom.split(key)\n",
    "\n",
    "        #print([pl.User(mesh_grid_comb[i,j,0], mesh_grid_comb[i,j,1], x, jrandom.choice(key, jnp.array([0,1]), p=jnp.array([0.1,0.9]))) for x in range(density)])\n",
    "\n",
    "        cells_row.append(pl.square_cell(\n",
    "            lat = mesh_grid_comb[i,j,0], \n",
    "            longi = mesh_grid_comb[i,j,1],\n",
    "            lat_width=[],\n",
    "            longi_width=[],\n",
    "            density=density,\n",
    "            id=i*mesh_grid_comb.shape[1]+j,\n",
    "            users= [pl.User(mesh_grid_comb[i,j,0], mesh_grid_comb[i,j,1], x, jrandom.choice(key, jnp.array([0,1]), p=jnp.array([0.1,0.9]))) for x in range(density)],\n",
    "            users_amount=density\n",
    "        ))\n",
    "\n",
    "        key, subkey = jrandom.split(key)\n",
    "    cells.append(cells_row)"
   ]
  },
  {
   "cell_type": "code",
   "execution_count": 23,
   "id": "75ee7fc9",
   "metadata": {},
   "outputs": [
    {
     "name": "stdout",
     "output_type": "stream",
     "text": [
      "68\n",
      "34\n"
     ]
    }
   ],
   "source": [
    "print(len(cells[0]))\n",
    "print(len(cells))"
   ]
  }
 ],
 "metadata": {
  "kernelspec": {
   "display_name": ".venv",
   "language": "python",
   "name": "python3"
  },
  "language_info": {
   "codemirror_mode": {
    "name": "ipython",
    "version": 3
   },
   "file_extension": ".py",
   "mimetype": "text/x-python",
   "name": "python",
   "nbconvert_exporter": "python",
   "pygments_lexer": "ipython3",
   "version": "3.10.0"
  }
 },
 "nbformat": 4,
 "nbformat_minor": 5
}
