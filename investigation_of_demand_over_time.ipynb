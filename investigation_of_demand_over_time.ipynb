{
 "cells": [
  {
   "cell_type": "code",
   "execution_count": 2,
   "id": "01161341",
   "metadata": {},
   "outputs": [],
   "source": [
    "import jax\n",
    "import jax.numpy as jnp\n",
    "import jax.random as jrandom\n",
    "import matplotlib.pyplot as plt\n",
    "\n",
    "import Project_library as pl"
   ]
  },
  {
   "cell_type": "markdown",
   "id": "715d4901",
   "metadata": {},
   "source": [
    "## Auto Regressive model for data demand change"
   ]
  },
  {
   "cell_type": "code",
   "execution_count": 3,
   "id": "d0470e22",
   "metadata": {},
   "outputs": [
    {
     "data": {
      "image/png": "[encoded data removed]",
      "text/plain": [
       "<Figure size 640x480 with 1 Axes>"
      ]
     },
     "metadata": {},
     "output_type": "display_data"
    }
   ],
   "source": [
    "def ar1_process(demand_over_time: jnp.ndarray, variability : float, time_slots : int, ar_weight : float, key : jnp.ndarray) -> jnp.ndarray:\n",
    "    white_noise = jrandom.normal(key, demand_over_time.shape)  # Generate white noise\n",
    "\n",
    "     # Add the initial demand to the white noise\n",
    "\n",
    "    for i in range(1, time_slots):\n",
    "        demand_over_time = demand_over_time.at[i].set(ar_weight * demand_over_time[i-1] + white_noise[i]+ demand_over_time[0])\n",
    "\n",
    "    return demand_over_time\n",
    "\n",
    "\n",
    "# Demanded bit rate changes with time\n",
    "# Demand is intialised\n",
    "for k in range(1, 10):\n",
    "    demand = jnp.array([jrandom.randint(jrandom.PRNGKey(k), (1), minval=200, maxval = 750)])\n",
    "    \n",
    "    # The reconfiguration period is 30 seconds\n",
    "    reconfiguration_period = 30\n",
    "    # The number of reconfigurations is 10\n",
    "    time_slots = 10\n",
    "\n",
    "    time_slot_duration =int( reconfiguration_period / time_slots)\n",
    "\n",
    "    # Setup array with demand over time\n",
    "    demand_over_time = jnp.zeros((time_slots, demand.shape[0]))\n",
    "\n",
    "    demand_over_time = demand_over_time.at[0].set(demand[0].item())\n",
    "\n",
    "    #print(demand_over_time)\n",
    "\n",
    "    key, subkey = jrandom.split(jrandom.PRNGKey(k))\n",
    "    # Calculate the AR(1) process for the demand\n",
    "\n",
    "    demand_over_time = ar1_process(demand_over_time, 1, time_slots, 0.01, subkey)\n",
    "\n",
    "    plt.plot(demand_over_time)"
   ]
  },
  {
   "cell_type": "markdown",
   "id": "89801897",
   "metadata": {},
   "source": [
    "## Markov Distribution"
   ]
  },
  {
   "cell_type": "code",
   "execution_count": 4,
   "id": "afe1ee6f",
   "metadata": {},
   "outputs": [
    {
     "data": {
      "text/plain": [
       "(Array([0, 1, 1, 1, 0, 0, 1, 1, 1, 1], dtype=int32), 10)"
      ]
     },
     "execution_count": 4,
     "metadata": {},
     "output_type": "execute_result"
    }
   ],
   "source": [
    "def markov_step(state, key, A):\n",
    "    key, subkey = jrandom.split(key)\n",
    "    probs = A[state]  # Transition probabilities from current state\n",
    "    next_state = jrandom.choice(subkey, A.shape[0], p=probs)\n",
    "    return next_state, next_state\n",
    "\n",
    "# Function for state change given A\n",
    "def user_state_change(state_change_matrix : jnp.ndarray, state : int, time_series : jnp.ndarray, key : jnp.ndarray) -> jnp.ndarray:\n",
    "    # Create a copy of the state change matrix\n",
    "\n",
    "    key = jrandom.split(key, time_series.shape[0]-1)\n",
    "\n",
    "    def scan_fn(state,key):\n",
    "        return markov_step(state, key, state_change_matrix)\n",
    "\n",
    "    _, states = jax.lax.scan(scan_fn, state, key)\n",
    "\n",
    "    return jnp.concatenate([jnp.array([state]), states])\n",
    "\n",
    "seed = 42\n",
    "\n",
    "key = jrandom.PRNGKey(seed)\n",
    "\n",
    "time_series = jnp.zeros((time_slots, 1))\n",
    "# Create a state change matrix\n",
    "\n",
    "state_change_matrix = jnp.array([[0.1, 0.9], \n",
    "                                 [0.3, 0.7]])\n",
    "\n",
    "# Intial state is 0\n",
    "state = 0\n",
    "time_series = user_state_change(state_change_matrix, state, time_series, key)\n",
    "\n",
    "time_series, time_series.shape[0]"
   ]
  },
  {
   "cell_type": "code",
   "execution_count": 5,
   "id": "5b15fb3e",
   "metadata": {},
   "outputs": [
    {
     "data": {
      "text/plain": [
       "[Array([1, 0, 0, 1, 0, 1, 1, 1, 1, 0], dtype=int32),\n",
       " Array([1, 1, 1, 1, 0, 1, 1, 1, 1, 0], dtype=int32),\n",
       " Array([1, 1, 1, 0, 1, 1, 0, 1, 1, 0], dtype=int32),\n",
       " Array([1, 1, 0, 1, 1, 0, 0, 1, 1, 1], dtype=int32),\n",
       " Array([1, 0, 1, 1, 1, 0, 1, 0, 1, 1], dtype=int32),\n",
       " Array([1, 0, 1, 1, 0, 0, 1, 1, 1, 1], dtype=int32),\n",
       " Array([1, 0, 0, 1, 1, 0, 1, 1, 1, 0], dtype=int32),\n",
       " Array([1, 0, 1, 0, 1, 1, 1, 0, 1, 1], dtype=int32),\n",
       " Array([1, 0, 1, 1, 1, 1, 0, 1, 1, 1], dtype=int32),\n",
       " Array([1, 1, 0, 1, 1, 0, 1, 0, 0, 1], dtype=int32),\n",
       " Array([1, 1, 1, 0, 1, 1, 0, 0, 1, 0], dtype=int32),\n",
       " Array([1, 0, 1, 0, 1, 1, 1, 1, 1, 0], dtype=int32),\n",
       " Array([1, 1, 1, 1, 1, 1, 1, 1, 1, 1], dtype=int32)]"
      ]
     },
     "execution_count": 5,
     "metadata": {},
     "output_type": "execute_result"
    }
   ],
   "source": [
    "seed = 10\n",
    "\n",
    "key = jrandom.PRNGKey(seed)\n",
    "# Number of users in a cell\n",
    "num_users = jrandom.choice(key, jnp.arange(10,20))\n",
    "\n",
    "user_rate = 100e3 # 100 kbps\n",
    "\n",
    "time_series = jnp.zeros((time_slots, 1))\n",
    "\n",
    "series = []\n",
    "\n",
    "# Loop over the number of users, can compute the demand based on the state change of the users.\n",
    "for i in range(num_users):\n",
    "    key, subkey = jrandom.split(key)\n",
    "    # Create a state change matrix\n",
    "    state_change_matrix = jnp.array([[0.3, 0.7], \n",
    "                                     [0.3, 0.7]])\n",
    "    # Intial state is 1\n",
    "    state = 1\n",
    "    series.append(user_state_change(state_change_matrix, state, time_series, key))\n",
    "\n",
    "series"
   ]
  },
  {
   "cell_type": "code",
   "execution_count": 6,
   "id": "31fb40f5",
   "metadata": {},
   "outputs": [
    {
     "data": {
      "text/plain": [
       "Text(0.5, 1.0, 'Demand Over Time')"
      ]
     },
     "execution_count": 6,
     "metadata": {},
     "output_type": "execute_result"
    },
    {
     "data": {
      "image/png": "[encoded data removed]",
      "text/plain": [
       "<Figure size 640x480 with 1 Axes>"
      ]
     },
     "metadata": {},
     "output_type": "display_data"
    }
   ],
   "source": [
    "# Sum along the columns to get the total demand\n",
    "total_demand = jnp.sum(jnp.array(series), axis=0)\n",
    "total_demand = total_demand.flatten()*100e3\n",
    "\n",
    "total_demand\n",
    "# Plot the demand over time\n",
    "plt.plot(total_demand, label='Total Demand')\n",
    "plt.xlabel('Time Slots')\n",
    "plt.ylabel('Demand (bps)')\n",
    "plt.title('Demand Over Time')"
   ]
  },
  {
   "cell_type": "code",
   "execution_count": 40,
   "id": "7f5fe0c4",
   "metadata": {},
   "outputs": [
    {
     "name": "stdout",
     "output_type": "stream",
     "text": [
      "7.6754184\n",
      "[-0.13002127 -0.1221412  -0.11426113 -0.10638105 -0.09850097 -0.09062089\n",
      " -0.08274081 -0.07486074 -0.06698066 -0.05910058 -0.05122051 -0.04334043\n",
      " -0.03546035 -0.02758027 -0.01970019 -0.01182012 -0.00394004  0.00394004\n",
      "  0.01182012  0.0197002   0.02758027  0.03546035  0.04334043  0.05122051\n",
      "  0.05910059  0.06698066  0.07486074  0.08274081  0.0906209   0.09850097\n",
      "  0.10638105  0.11426112  0.12214121  0.13002127]\n",
      "[-0.13002127 -0.1221412  -0.11426113 -0.10638105 -0.09850097 -0.09062089\n",
      " -0.08274082 -0.07486074 -0.06698066 -0.05910058 -0.0512205  -0.04334043\n",
      " -0.03546035 -0.02758027 -0.0197002  -0.01182012 -0.00394004  0.00394004\n",
      "  0.01182011  0.0197002   0.02758027  0.03546035  0.04334042  0.0512205\n",
      "  0.05910057  0.06698066  0.07486074  0.08274081  0.0906209   0.09850097\n",
      "  0.10638104  0.11426111  0.1221412   0.13002127  0.13790135  0.14578143\n",
      "  0.1536615   0.16154158  0.16942166  0.17730175  0.18518183  0.19306189\n",
      "  0.20094196  0.20882206  0.21670215  0.2245822   0.23246229  0.24034235\n",
      "  0.24822244  0.25610253  0.2639826   0.27186266  0.27974275  0.2876228\n",
      "  0.2955029   0.303383    0.31126305  0.31914315  0.3270232   0.3349033\n",
      "  0.34278336  0.35066342  0.35854352  0.3664236   0.37430367  0.38218376\n",
      "  0.39006385  0.3979439 ]\n"
     ]
    }
   ],
   "source": [
    "earth_radius = 6371  # in kilometers\n",
    "\n",
    "satellite_height = 600  # in meters\n",
    "\n",
    "# Place a satellite at the\n",
    "satellite_position = jnp.array([ satellite_height + earth_radius ,0, 0])  # in kilometers\n",
    "\n",
    "# Calculate the viewing angle\n",
    "lat_range, lon_range, _, _,_, angle_of_interest = pl.visible_angle(jnp.deg2rad(30), satellite_position)\n",
    "\n",
    "lon_range = jnp.array(lon_range)\n",
    "lon_range = lon_range.at[1].set(lon_range[1]+(lon_range[1]-lon_range[0]))\n",
    "\n",
    "# Define the grid size and resolution, with 50 km size at the equator\n",
    "grid_size = 50  # in kilometers\n",
    "# Leading to an angle of \n",
    "angle_of_cell_size = grid_size/earth_radius\n",
    "\n",
    "# Calculate the number of cells in the grid\n",
    "num_cells_lat = int((lat_range[1] - lat_range[0]) / angle_of_cell_size)\n",
    "num_cells_lon = int((lon_range[1] - lon_range[0]) / angle_of_cell_size)\n",
    "\n",
    "# Create a grid of cells\n",
    "mesh_grid = pl.generate_latitude_longitude_points(num_cells_lat, num_cells_lon, lat_range, lon_range)\n",
    "\n",
    "# Recover list of lat and lon points\n",
    "lat_points, long_points = mesh_grid[0][:,0], mesh_grid[1][0,:]\n",
    "\n",
    "print(jnp.rad2deg(angle_of_interest))\n",
    "\n",
    "print(lat_points)\n",
    "print(long_points)"
   ]
  },
  {
   "cell_type": "code",
   "execution_count": 41,
   "id": "876b8c84",
   "metadata": {},
   "outputs": [
    {
     "name": "stdout",
     "output_type": "stream",
     "text": [
      "[[False False False ... False False False]\n",
      " [False False False ... False False False]\n",
      " [False False False ... False False False]\n",
      " ...\n",
      " [False False False ... False False False]\n",
      " [False False False ... False False False]\n",
      " [False False False ... False False False]]\n"
     ]
    }
   ],
   "source": [
    "visible_area_of_sat_one = pl.calculate_if_cells_within_visible_area(jnp.rad2deg(lat_points),jnp.rad2deg(long_points), 0, 0, 6000, jnp.rad2deg(angle_of_interest))\n",
    "\n",
    "print(visible_area_of_sat_one)"
   ]
  },
  {
   "cell_type": "code",
   "execution_count": 106,
   "id": "dd29c0d2",
   "metadata": {},
   "outputs": [
    {
     "data": {
      "text/plain": [
       "<matplotlib.image.AxesImage at 0x23096751f90>"
      ]
     },
     "execution_count": 106,
     "metadata": {},
     "output_type": "execute_result"
    },
    {
     "data": {
      "image/png": "[encoded data removed]",
      "text/plain": [
       "<Figure size 640x480 with 1 Axes>"
      ]
     },
     "metadata": {},
     "output_type": "display_data"
    }
   ],
   "source": [
    "import matplotlib.pyplot as plt\n",
    "plt.imshow(visible_area_of_sat_one, cmap='gray')\n",
    "\n"
   ]
  },
  {
   "cell_type": "code",
   "execution_count": 43,
   "id": "a648f60e",
   "metadata": {},
   "outputs": [
    {
     "name": "stdout",
     "output_type": "stream",
     "text": [
      "[[False False False ... False False False]\n",
      " [False False False ... False False False]\n",
      " [False False False ... False False False]\n",
      " ...\n",
      " [False False False ... False False False]\n",
      " [False False False ... False False False]\n",
      " [False False False ... False False False]]\n"
     ]
    }
   ],
   "source": [
    "visible_area_of_sat_two = pl.calculate_if_cells_within_visible_area(jnp.rad2deg(lat_points),jnp.rad2deg(long_points), 0, 7.6, 6000, jnp.rad2deg(angle_of_interest))\n",
    "\n",
    "print(visible_area_of_sat_two)"
   ]
  },
  {
   "cell_type": "code",
   "execution_count": 44,
   "id": "74fa6fee",
   "metadata": {},
   "outputs": [
    {
     "data": {
      "text/plain": [
       "<matplotlib.image.AxesImage at 0x23090b4e0e0>"
      ]
     },
     "execution_count": 44,
     "metadata": {},
     "output_type": "execute_result"
    },
    {
     "data": {
      "image/png": "[encoded data removed]",
      "text/plain": [
       "<Figure size 640x480 with 1 Axes>"
      ]
     },
     "metadata": {},
     "output_type": "display_data"
    }
   ],
   "source": [
    "plt.imshow(visible_area_of_sat_two, cmap='gray')"
   ]
  },
  {
   "cell_type": "code",
   "execution_count": 45,
   "id": "0e18657a",
   "metadata": {},
   "outputs": [
    {
     "data": {
      "text/plain": [
       "<matplotlib.image.AxesImage at 0x23090d27880>"
      ]
     },
     "execution_count": 45,
     "metadata": {},
     "output_type": "execute_result"
    },
    {
     "data": {
      "image/png": "[encoded data removed]",
      "text/plain": [
       "<Figure size 640x480 with 1 Axes>"
      ]
     },
     "metadata": {},
     "output_type": "display_data"
    }
   ],
   "source": [
    "# The intersection between the two visible areas\n",
    "intersection = jnp.logical_and(visible_area_of_sat_one, visible_area_of_sat_two)\n",
    "plt.imshow(intersection, cmap='gray')"
   ]
  },
  {
   "cell_type": "markdown",
   "id": "9dcd87ba",
   "metadata": {},
   "source": [
    "### Distribute the users across cells according to a random process, optimise the allocation.\n",
    "### Check what happens over time"
   ]
  },
  {
   "cell_type": "code",
   "execution_count": 46,
   "id": "645e9c9a",
   "metadata": {},
   "outputs": [],
   "source": [
    "mesh_grid_comb = jnp.stack(mesh_grid, axis=-1)\n",
    "mesh_grid_comb.shape\n",
    "\n",
    "seed = 10\n",
    "\n",
    "key = jrandom.PRNGKey(seed)\n",
    "\n",
    "base_user_demand = 100e3\n",
    "\n",
    "# Set a high vs low density for the cells\n",
    "\n",
    "cells = []\n",
    "\n",
    "\n",
    "for i in range(mesh_grid_comb.shape[0]):\n",
    "    cells_row = []\n",
    "    for j in range(mesh_grid_comb.shape[1]):\n",
    "        \n",
    "        density = jrandom.choice(key, jnp.array([3, 8]))\n",
    "\n",
    "        key, subkey = jrandom.split(key)\n",
    "        user_list = []\n",
    "        #print([pl.User(mesh_grid_comb[i,j,0], mesh_grid_comb[i,j,1], x, jrandom.choice(key, jnp.array([0,1]), p=jnp.array([0.1,0.9]))) for x in range(density)])\n",
    "        for x in range(density):\n",
    "            key, subkey = jrandom.split(key)\n",
    "            #print(jrandom.choice(key, jnp.array([0,1]), p=jnp.array([0.1,0.9])))\n",
    "            user_list.append(pl.User(mesh_grid_comb[i,j,0], mesh_grid_comb[i,j,1], x, jrandom.choice(key, jnp.array([0,1])*base_user_demand, p=jnp.array([0.1,0.9]))))\n",
    "        \n",
    "        cells_row.append(pl.square_cell(\n",
    "            lat = mesh_grid_comb[i,j,0], \n",
    "            longi = mesh_grid_comb[i,j,1],\n",
    "            lat_width=[],\n",
    "            longi_width=[],\n",
    "            density=density,\n",
    "            id=i*mesh_grid_comb.shape[1]+j,\n",
    "            users= user_list,\n",
    "            users_amount=density\n",
    "        ))\n",
    "\n",
    "        key, subkey = jrandom.split(key)\n",
    "    cells.append(cells_row)"
   ]
  },
  {
   "cell_type": "code",
   "execution_count": 47,
   "id": "75ee7fc9",
   "metadata": {},
   "outputs": [
    {
     "name": "stdout",
     "output_type": "stream",
     "text": [
      "68\n",
      "34\n"
     ]
    }
   ],
   "source": [
    "print(len(cells[0]))\n",
    "print(len(cells))"
   ]
  },
  {
   "cell_type": "markdown",
   "id": "f3d83685",
   "metadata": {},
   "source": [
    "### Lets try to run the optimisation on the single satellite, and the cells it can see."
   ]
  },
  {
   "cell_type": "code",
   "execution_count": 48,
   "id": "95338bd0",
   "metadata": {},
   "outputs": [
    {
     "data": {
      "text/plain": [
       "Array(500000., dtype=float32, weak_type=True)"
      ]
     },
     "execution_count": 48,
     "metadata": {},
     "output_type": "execute_result"
    }
   ],
   "source": [
    "import pulp\n",
    "\n",
    "def calculate_demand_of_cell(cell : pl.square_cell) -> float:\n",
    "    # Calculate the demand of the cell based on the users in it\n",
    "    demand = 0\n",
    "    for user in cell.users:\n",
    "        demand += user.demand\n",
    "\n",
    "    return demand\n",
    "\n",
    "calculate_demand_of_cell(cells[0][0])"
   ]
  },
  {
   "cell_type": "code",
   "execution_count": 49,
   "id": "b1286a9e",
   "metadata": {},
   "outputs": [
    {
     "data": {
      "text/plain": [
       "Array([500000., 700000., 500000., 200000., 800000., 600000., 300000.,\n",
       "       200000., 600000., 300000., 200000., 800000., 200000., 200000.,\n",
       "       300000., 300000., 700000., 800000., 300000., 800000., 200000.,\n",
       "       300000., 700000., 200000., 800000., 300000., 300000., 300000.,\n",
       "       700000., 200000., 200000., 200000., 700000., 200000., 300000.,\n",
       "       800000., 600000., 800000., 300000., 300000., 300000., 300000.,\n",
       "       300000., 300000., 800000., 200000., 800000., 300000., 700000.,\n",
       "       300000., 300000., 800000., 600000., 700000., 300000., 700000.,\n",
       "       300000., 800000., 300000., 300000., 800000., 300000., 200000.,\n",
       "       800000., 300000., 800000., 300000., 700000., 300000., 200000.,\n",
       "       300000., 300000., 700000., 500000., 700000., 800000., 800000.,\n",
       "       800000., 800000., 200000., 800000., 300000., 200000., 300000.,\n",
       "       700000., 800000., 300000., 800000., 200000., 300000., 300000.,\n",
       "       800000., 300000., 600000., 700000., 300000., 300000., 800000.,\n",
       "       700000., 300000., 700000., 700000., 700000., 200000., 800000.,\n",
       "       300000., 700000., 300000., 700000., 800000., 500000., 800000.,\n",
       "       300000., 700000., 200000., 500000., 700000., 300000., 300000.,\n",
       "       300000., 700000., 800000., 700000., 800000., 600000., 700000.,\n",
       "       300000., 600000., 300000., 700000., 300000., 600000., 800000.,\n",
       "       300000., 300000., 200000., 700000., 300000., 200000., 300000.,\n",
       "       800000., 600000., 500000., 600000., 300000., 600000., 700000.,\n",
       "       700000., 300000., 500000., 300000., 300000., 200000., 300000.,\n",
       "       800000., 800000., 600000., 800000., 700000., 700000., 200000.,\n",
       "       300000., 800000., 200000., 300000., 800000., 600000., 800000.,\n",
       "       300000., 700000., 800000., 300000., 700000., 700000., 300000.,\n",
       "       800000., 800000., 200000., 500000., 700000., 700000., 300000.,\n",
       "       700000., 200000., 600000., 300000., 300000., 800000., 800000.,\n",
       "       300000., 300000., 300000., 300000., 200000., 600000., 800000.,\n",
       "       300000., 300000., 300000., 300000., 300000., 700000., 200000.,\n",
       "       800000., 200000., 300000., 200000., 800000., 700000., 700000.,\n",
       "       700000., 700000., 300000., 700000., 800000., 300000., 800000.,\n",
       "       300000., 200000., 800000., 600000., 300000., 300000., 800000.,\n",
       "       700000., 300000., 200000., 800000., 100000., 200000., 700000.,\n",
       "       300000., 300000., 300000., 300000., 300000., 600000., 400000.,\n",
       "       800000., 200000., 300000., 800000., 100000., 300000., 300000.,\n",
       "       200000., 700000., 300000., 700000., 300000., 700000., 300000.,\n",
       "       300000., 800000., 800000., 300000., 800000., 700000., 700000.,\n",
       "       300000., 300000., 600000., 800000., 700000., 700000., 700000.,\n",
       "       600000., 700000., 200000., 800000., 700000., 300000., 300000.,\n",
       "       800000., 200000., 300000., 700000., 600000., 800000., 300000.,\n",
       "       700000., 300000., 200000., 700000., 200000., 300000., 300000.,\n",
       "       300000., 300000., 800000., 300000., 800000., 300000., 700000.,\n",
       "       300000., 300000., 300000., 300000., 300000., 300000., 300000.,\n",
       "       300000., 700000., 700000., 700000., 600000., 700000., 800000.,\n",
       "       800000., 600000., 800000., 700000., 300000., 600000., 700000.,\n",
       "       800000., 300000., 600000., 300000., 800000., 800000., 600000.,\n",
       "       600000., 300000., 300000., 300000., 300000., 300000., 700000.,\n",
       "       800000., 800000., 700000., 300000., 200000., 300000., 800000.,\n",
       "       100000., 700000., 200000., 200000., 800000., 700000., 200000.,\n",
       "       800000., 200000., 700000., 300000., 300000., 200000., 800000.,\n",
       "       200000., 700000., 700000., 500000., 200000., 300000., 700000.,\n",
       "       800000., 700000., 800000., 300000., 300000., 600000., 800000.,\n",
       "       800000., 700000., 700000., 700000., 200000., 800000., 300000.,\n",
       "       700000., 200000., 300000., 300000., 300000., 200000., 300000.,\n",
       "       700000., 600000., 300000., 700000., 700000., 700000., 600000.,\n",
       "       300000., 600000., 300000., 600000., 300000., 300000., 300000.,\n",
       "       700000., 700000., 300000., 300000., 300000., 300000., 800000.,\n",
       "       300000., 800000., 700000., 800000., 300000., 300000., 700000.,\n",
       "       200000., 700000., 600000., 300000., 300000., 700000., 700000.,\n",
       "       200000., 600000., 300000., 200000., 700000., 300000., 500000.,\n",
       "       600000., 300000., 700000., 600000., 300000., 200000., 300000.,\n",
       "       800000., 800000., 700000., 700000., 800000., 300000., 200000.,\n",
       "       800000., 300000., 300000., 700000., 300000., 700000., 200000.,\n",
       "       300000., 800000., 700000., 300000., 700000., 300000., 300000.,\n",
       "       800000., 800000., 600000., 500000., 200000., 300000., 700000.,\n",
       "       800000., 700000., 700000., 200000., 700000., 300000., 300000.,\n",
       "       800000., 300000., 300000., 600000., 600000., 800000., 600000.,\n",
       "       800000., 200000., 200000., 600000., 300000., 300000., 300000.,\n",
       "       300000., 800000., 800000., 500000., 300000., 300000., 700000.,\n",
       "       200000., 700000., 300000., 300000., 300000., 300000., 200000.,\n",
       "       700000., 700000., 300000., 800000., 600000., 300000., 300000.,\n",
       "       300000., 200000., 800000., 300000., 300000., 100000., 300000.,\n",
       "       200000., 800000., 300000., 700000., 800000., 300000., 400000.,\n",
       "       700000., 300000., 200000., 300000., 700000., 700000., 300000.,\n",
       "       800000., 600000., 300000., 600000., 800000., 800000., 600000.,\n",
       "       300000., 800000., 700000., 700000., 800000., 300000., 100000.,\n",
       "       200000., 300000., 300000., 200000., 300000., 300000., 500000.,\n",
       "       300000., 800000., 300000., 700000., 200000., 700000., 600000.,\n",
       "       300000., 300000., 500000., 300000., 700000., 200000., 100000.,\n",
       "       700000., 600000., 800000., 200000., 700000., 800000., 800000.,\n",
       "       800000., 600000., 300000., 700000., 300000., 800000., 300000.,\n",
       "       700000., 300000., 200000., 200000., 800000., 300000., 300000.,\n",
       "       200000., 800000., 300000., 300000., 800000., 300000., 300000.,\n",
       "       300000., 600000., 700000., 200000., 300000., 800000., 300000.,\n",
       "       800000., 200000., 700000., 200000., 800000., 300000., 200000.,\n",
       "       300000., 200000., 300000., 300000., 800000., 800000., 300000.,\n",
       "       300000., 700000., 300000., 800000., 800000., 800000., 700000.,\n",
       "       800000., 200000., 300000., 800000., 300000., 600000., 800000.,\n",
       "       300000., 300000., 200000., 300000., 700000., 200000., 200000.,\n",
       "       700000., 200000., 200000., 700000., 700000., 700000., 300000.,\n",
       "       800000., 700000., 600000., 300000., 800000., 300000., 300000.,\n",
       "       300000., 200000., 700000., 300000., 800000., 200000., 300000.,\n",
       "       300000., 600000., 800000., 200000., 300000., 800000., 800000.,\n",
       "       700000., 800000., 100000., 300000., 700000., 600000., 700000.,\n",
       "       300000., 300000., 300000., 800000., 300000., 800000., 200000.,\n",
       "       200000., 300000., 200000., 700000., 600000., 200000., 300000.,\n",
       "       200000., 800000., 300000., 600000., 800000., 700000., 200000.,\n",
       "       200000., 700000., 800000., 200000., 700000., 800000., 300000.,\n",
       "       800000., 300000., 300000., 800000., 700000., 300000., 200000.,\n",
       "       700000., 300000., 200000., 300000., 700000., 300000., 800000.,\n",
       "       800000., 300000., 300000., 600000., 300000., 200000., 200000.,\n",
       "       300000., 300000., 800000., 700000., 300000., 800000., 300000.,\n",
       "       700000., 300000., 200000., 700000., 800000., 300000., 700000.,\n",
       "       300000., 100000., 700000., 800000., 800000., 800000., 800000.,\n",
       "       200000., 700000., 700000., 800000., 300000., 300000., 300000.,\n",
       "       300000., 300000., 800000., 300000., 300000., 600000., 300000.,\n",
       "       600000., 300000., 200000., 200000., 300000., 300000., 700000.,\n",
       "       300000., 700000., 300000., 300000., 300000., 700000., 800000.,\n",
       "       300000., 800000., 700000., 300000., 200000., 800000., 800000.,\n",
       "       800000., 300000., 200000., 200000., 300000., 700000., 300000.,\n",
       "       300000., 300000., 800000., 100000., 800000., 300000., 300000.,\n",
       "       800000., 300000., 800000., 700000., 700000., 300000., 300000.,\n",
       "       800000., 300000., 700000., 200000., 600000., 300000., 300000.,\n",
       "       800000., 800000., 300000., 200000., 200000., 600000., 800000.,\n",
       "       300000., 800000., 200000., 300000., 300000., 300000., 800000.,\n",
       "       300000., 200000., 300000., 800000., 300000., 200000., 700000.,\n",
       "       700000., 700000., 200000., 800000., 300000., 300000., 300000.,\n",
       "       300000., 600000., 600000., 700000., 800000., 800000., 300000.,\n",
       "       300000., 800000., 800000., 600000., 800000., 300000., 700000.,\n",
       "       800000., 300000., 300000., 300000., 300000., 800000., 300000.,\n",
       "       800000., 800000., 200000., 800000., 300000., 200000., 300000.,\n",
       "       200000., 300000., 300000., 300000., 300000., 300000., 300000.,\n",
       "       700000., 300000., 300000., 500000., 300000., 800000., 200000.,\n",
       "       200000., 200000., 300000., 300000., 800000., 200000., 300000.,\n",
       "       200000., 300000., 600000., 600000., 200000., 300000., 300000.,\n",
       "       700000., 600000., 200000., 700000., 200000., 800000., 300000.,\n",
       "       300000., 200000., 800000., 600000., 800000., 200000., 700000.,\n",
       "       300000., 300000., 300000., 200000., 300000., 300000., 800000.,\n",
       "       800000., 600000., 300000., 700000., 700000., 300000., 300000.,\n",
       "       300000., 300000., 300000., 300000., 300000., 100000., 800000.,\n",
       "       600000., 300000.], dtype=float32)"
      ]
     },
     "execution_count": 49,
     "metadata": {},
     "output_type": "execute_result"
    }
   ],
   "source": [
    "demand_list = []\n",
    "\n",
    "for i in range(len(cells)):\n",
    "   \n",
    "    for j in range(len(cells[i])):\n",
    "        if visible_area_of_sat_one[i,j]:\n",
    "            demand = calculate_demand_of_cell(cells[i][j])\n",
    "            demand_list.append(demand) \n",
    "\n",
    "\n",
    "demand = jnp.array(demand_list)\n",
    "demand"
   ]
  },
  {
   "cell_type": "code",
   "execution_count": 50,
   "id": "a9aa16c1",
   "metadata": {},
   "outputs": [
    {
     "name": "stdout",
     "output_type": "stream",
     "text": [
      "[6971    0    0]\n"
     ]
    },
    {
     "data": {
      "text/plain": [
       "[<matplotlib.lines.Line2D at 0x230810cfdc0>]"
      ]
     },
     "execution_count": 50,
     "metadata": {},
     "output_type": "execute_result"
    },
    {
     "data": {
      "image/png": "[encoded data removed]",
      "text/plain": [
       "<Figure size 640x480 with 1 Axes>"
      ]
     },
     "metadata": {},
     "output_type": "display_data"
    }
   ],
   "source": [
    "# calculate the distance from the first satellite to the cells\n",
    "\n",
    "distance = []\n",
    "\n",
    "for x in range(len(cells)):\n",
    "    for y in range(len(cells[x])):\n",
    "        if visible_area_of_sat_one[x,y]:\n",
    "            position = pl.spherical_to_cartesian(earth_radius, cells[x][y].lat, cells[x][y].longi)\n",
    "            distance.append(pl.calculate_distance(position[0], position[1],position[2], satellite_position))\n",
    "\n",
    "print(satellite_position)\n",
    "\n",
    "distance = jnp.array(distance)\n",
    "distance\n",
    "plt.plot(distance)"
   ]
  },
  {
   "cell_type": "code",
   "execution_count": 89,
   "id": "6a12939a",
   "metadata": {},
   "outputs": [
    {
     "data": {
      "text/plain": [
       "Array([12525722., 12683784., 12791406., 12845898., 12845898., 12791406.,\n",
       "       12683784., 12525722., 12582004., 12905338., 13187936., 13423165.,\n",
       "       13605218., 13729366., 13792317., 13792317., 13729366., 13605218.,\n",
       "       13423165., 13187936., 12905338., 12582004., 12584765., 13020142.,\n",
       "       13426854., 13796470., 14120585., 14391133., 14601122., 14744534.,\n",
       "       14817298., 14817298., 14744534., 14601122., 14391133., 14120585.,\n",
       "       13796470., 13426854., 13020142., 12584765., 12855276., 13369570.,\n",
       "       13862931., 14325872., 14748311., 15120069., 15431461., 15673639.,\n",
       "       15839435., 15923649., 15923649., 15839435., 15673639., 15431461.,\n",
       "       15120069., 14748311., 14325872., 13862931., 13369570., 12855276.,\n",
       "       12431224., 13023299., 13613262., 14192450., 14750768., 15277140.,\n",
       "       15759487., 16185721., 16543923., 16823314., 17014908., 17112412.,\n",
       "       17112412., 17014908., 16823314., 16543923., 16185721., 15759487.,\n",
       "       15277140., 14750768., 14192450., 13613262., 13023299., 12431224.,\n",
       "       12431224., 13080308., 13738546., 14397884., 15048564., 15679047.,\n",
       "       16276310., 16826252., 17314206., 17725786., 18047718., 18269010.,\n",
       "       18381760., 18381760., 18269010., 18047718., 17725786., 17314206.,\n",
       "       16826252., 16276310., 15679047., 15048564., 14397884., 13738546.,\n",
       "       13080308., 12431224., 13023299., 13738546., 14467699., 15202084.,\n",
       "       15930669., 16640427., 17316260., 17941576., 18498874., 18970686.,\n",
       "       19340972., 19596132., 19726266., 19726266., 19596132., 19340972.,\n",
       "       18970686., 18498874., 17941576., 17316260., 16640427., 15930669.,\n",
       "       15202084., 14467699., 13738546., 13023299., 12855276., 13613262.,\n",
       "       14397884., 15202084., 16016367., 16828748., 17624482., 18386234.,\n",
       "       19094530., 19728716., 20267832., 20692330., 20985548., 21135298.,\n",
       "       21135298., 20985548., 20692330., 20267832., 19728716., 19094530.,\n",
       "       18386234., 17624482., 16828748., 16016367., 15202084., 14397884.,\n",
       "       13613304., 12855276., 12584765., 13369570., 14192450., 15048564.,\n",
       "       15930669., 16828748., 17729670., 18617070., 19471086., 20269372.,\n",
       "       20987474., 21600464., 22084842., 22420246., 22591906., 22591906.,\n",
       "       22420246., 22084842., 21600464., 20987474., 20269372., 19471086.,\n",
       "       18617070., 17729670., 16828748., 15930669., 15048564., 14192450.,\n",
       "       13369570., 12584765., 13020142., 13862931., 14750768., 15679047.,\n",
       "       16640427., 17624482., 18617070., 19600010., 20551234., 21444892.,\n",
       "       22252702., 22945170., 23494326., 23875650., 24071026., 24071026.,\n",
       "       23875650., 23494326., 22945170., 22252702., 21444892., 20551234.,\n",
       "       19600010., 18617070., 17624482., 16640427., 15679047., 14750768.,\n",
       "       13862931., 13020142., 12582004., 13426854., 14325872., 15277140.,\n",
       "       16276310., 17316260., 18386234., 19471086., 20551234., 21601954.,\n",
       "       22594194., 23495284., 24271120., 24888478., 25318330., 25538990.,\n",
       "       25538990., 25318330., 24888478., 24271120., 23495284., 22594194.,\n",
       "       21601954., 20551234., 19471086., 18386234., 17316260., 16276310.,\n",
       "       15277140., 14325872., 13426854., 12582004., 12905338., 13796470.,\n",
       "       14748311., 15759535., 16826252., 17941624., 19094530., 20269372.,\n",
       "       21444892., 22594194., 23684734., 24679648., 25539806., 26226692.,\n",
       "       26706054., 26952644., 26952644., 26706054., 26226692., 25539806.,\n",
       "       24679648., 23684734., 22594194., 21444892., 20269372., 19094530.,\n",
       "       17941624., 16826252., 15759535., 14748311., 13796470., 12905338.,\n",
       "       13187936., 14120585., 15120069., 16185766., 17314206., 18498874.,\n",
       "       19728716., 20987474., 22252702., 23495284., 24679648., 25764878.,\n",
       "       26706544., 27460878., 27988756., 28260670., 28260670., 27988756.,\n",
       "       27460878., 26706544., 25764878., 24679648., 23495284., 22252702.,\n",
       "       20987474., 19728716., 18498874., 17314206., 16185766., 15120069.,\n",
       "       14120585., 13187936., 12525722., 13423165., 14391174., 15431461.,\n",
       "       16543923., 17725786., 18970686., 20267832., 21600464., 22945170.,\n",
       "       24271120., 25539806., 26706544., 27722302., 28538346., 29110698.,\n",
       "       29405832., 29405832., 29110698., 28538346., 27722302., 26706544.,\n",
       "       25539806., 24271120., 22945170., 21600464., 20267832., 18970686.,\n",
       "       17725786., 16543923., 15431461., 14391174., 13423165., 12525722.,\n",
       "       12683784., 13605218., 14601122., 15673639., 16823314., 18047718.,\n",
       "       19340972., 20692330., 22084842., 23494326., 24888478., 26226626.,\n",
       "       27460878., 28538346., 29405982., 30015518., 30330168., 30330168.,\n",
       "       30015518., 29405982., 28538346., 27460878., 26226626., 24888478.,\n",
       "       23494326., 22084842., 20692330., 19340972., 18047718., 16823314.,\n",
       "       15673639., 14601122., 13605218., 12683784., 12791406., 13729366.,\n",
       "       14744534., 15839435., 17014908., 18269010., 19596132., 20985548.,\n",
       "       22420246., 23875584., 25318330., 26706054., 27988756., 29110622.,\n",
       "       30015518., 30651956., 30980898., 30980898., 30651956., 30015518.,\n",
       "       29110622., 27988756., 26706054., 25318330., 23875584., 22420246.,\n",
       "       20985548., 19596132., 18269010., 17014908., 15839435., 14744534.,\n",
       "       13729366., 12791406., 12845898., 13792317., 14817298., 15923649.,\n",
       "       17112412., 18381760., 19726266., 21135298., 22591906., 24071026.,\n",
       "       25538990., 26952644., 28260598., 29405832., 30330168., 30980898.,\n",
       "       31317262., 31317262., 30980898., 30330168., 29405832., 28260598.,\n",
       "       26952644., 25538990., 24071088., 22591906., 21135298., 19726266.,\n",
       "       18381760., 17112412., 15923649., 14817298., 13792317., 12845898.,\n",
       "       12845898., 13792317., 14817298., 15923649., 17112412., 18381760.,\n",
       "       19726266., 21135298., 22591906., 24071026., 25538990., 26952644.,\n",
       "       28260598., 29405832., 30330168., 30980898., 31317262., 31317262.,\n",
       "       30980898., 30330168., 29405832., 28260598., 26952644., 25538990.,\n",
       "       24071088., 22591906., 21135298., 19726266., 18381760., 17112412.,\n",
       "       15923649., 14817298., 13792317., 12845898., 12791406., 13729366.,\n",
       "       14744534., 15839435., 17014908., 18269010., 19596132., 20985548.,\n",
       "       22420246., 23875584., 25318330., 26706054., 27988756., 29110622.,\n",
       "       30015518., 30651956., 30980898., 30980898., 30651956., 30015518.,\n",
       "       29110622., 27988756., 26706054., 25318330., 23875584., 22420246.,\n",
       "       20985548., 19596132., 18269010., 17014908., 15839435., 14744534.,\n",
       "       13729366., 12791406., 12683784., 13605218., 14601122., 15673639.,\n",
       "       16823314., 18047718., 19340972., 20692330., 22084842., 23494326.,\n",
       "       24888478., 26226626., 27460878., 28538346., 29405982., 30015518.,\n",
       "       30330168., 30330168., 30015518., 29405982., 28538346., 27460878.,\n",
       "       26226626., 24888478., 23494326., 22084842., 20692330., 19340972.,\n",
       "       18047718., 16823314., 15673639., 14601122., 13605218., 12683784.,\n",
       "       12525722., 13423165., 14391174., 15431461., 16543923., 17725786.,\n",
       "       18970686., 20267832., 21600464., 22945170., 24271120., 25539806.,\n",
       "       26706544., 27722302., 28538346., 29110698., 29405832., 29405832.,\n",
       "       29110698., 28538346., 27722302., 26706544., 25539806., 24271120.,\n",
       "       22945170., 21600464., 20267832., 18970686., 17725786., 16543923.,\n",
       "       15431461., 14391174., 13423165., 12525722., 13187936., 14120585.,\n",
       "       15120069., 16185766., 17314206., 18498874., 19728716., 20987474.,\n",
       "       22252702., 23495284., 24679648., 25764878., 26706544., 27460878.,\n",
       "       27988756., 28260670., 28260670., 27988756., 27460878., 26706544.,\n",
       "       25764878., 24679648., 23495284., 22252702., 20987474., 19728716.,\n",
       "       18498874., 17314206., 16185766., 15120069., 14120585., 13187936.,\n",
       "       12905338., 13796470., 14748311., 15759535., 16826252., 17941624.,\n",
       "       19094530., 20269372., 21444892., 22594194., 23684734., 24679648.,\n",
       "       25539806., 26226692., 26706054., 26952644., 26952644., 26706054.,\n",
       "       26226692., 25539806., 24679648., 23684734., 22594194., 21444892.,\n",
       "       20269372., 19094530., 17941624., 16826252., 15759535., 14748311.,\n",
       "       13796470., 12905338., 12582004., 13426854., 14325872., 15277140.,\n",
       "       16276310., 17316260., 18386234., 19471086., 20551234., 21601954.,\n",
       "       22594194., 23495284., 24271120., 24888478., 25318330., 25538990.,\n",
       "       25538990., 25318330., 24888478., 24271120., 23495284., 22594194.,\n",
       "       21601954., 20551234., 19471086., 18386234., 17316260., 16276310.,\n",
       "       15277140., 14325872., 13426854., 12582004., 13020142., 13862931.,\n",
       "       14750768., 15679047., 16640427., 17624482., 18617070., 19600010.,\n",
       "       20551234., 21444892., 22252702., 22945170., 23494326., 23875650.,\n",
       "       24071026., 24071026., 23875650., 23494326., 22945170., 22252702.,\n",
       "       21444892., 20551234., 19600010., 18617070., 17624482., 16640427.,\n",
       "       15679047., 14750768., 13862931., 13020142., 12584765., 13369570.,\n",
       "       14192450., 15048564., 15930669., 16828748., 17729670., 18617070.,\n",
       "       19471086., 20269372., 20987474., 21600464., 22084842., 22420246.,\n",
       "       22591906., 22591906., 22420246., 22084842., 21600464., 20987474.,\n",
       "       20269372., 19471086., 18617070., 17729670., 16828748., 15930669.,\n",
       "       15048564., 14192450., 13369570., 12584765., 12855276., 13613262.,\n",
       "       14397884., 15202084., 16016367., 16828748., 17624482., 18386234.,\n",
       "       19094530., 19728716., 20267832., 20692330., 20985548., 21135298.,\n",
       "       21135298., 20985548., 20692330., 20267832., 19728716., 19094530.,\n",
       "       18386234., 17624482., 16828748., 16016367., 15202084., 14397884.,\n",
       "       13613304., 12855276., 13023299., 13738546., 14467699., 15202084.,\n",
       "       15930669., 16640427., 17316260., 17941576., 18498874., 18970686.,\n",
       "       19340972., 19596132., 19726266., 19726266., 19596132., 19340972.,\n",
       "       18970686., 18498874., 17941576., 17316260., 16640427., 15930669.,\n",
       "       15202084., 14467699., 13738546., 13023299., 12431224., 13080308.,\n",
       "       13738546., 14397884., 15048564., 15679047., 16276310., 16826252.,\n",
       "       17314206., 17725786., 18047718., 18269010., 18381760., 18381760.,\n",
       "       18269010., 18047718., 17725786., 17314206., 16826252., 16276310.,\n",
       "       15679047., 15048564., 14397884., 13738546., 13080308., 12431224.,\n",
       "       12431224., 13023299., 13613262., 14192450., 14750768., 15277140.,\n",
       "       15759487., 16185721., 16543923., 16823314., 17014908., 17112412.,\n",
       "       17112412., 17014908., 16823314., 16543923., 16185721., 15759487.,\n",
       "       15277140., 14750768., 14192450., 13613262., 13023299., 12431224.,\n",
       "       12855276., 13369570., 13862931., 14325872., 14748311., 15120069.,\n",
       "       15431461., 15673639., 15839435., 15923649., 15923649., 15839435.,\n",
       "       15673639., 15431461., 15120069., 14748311., 14325872., 13862931.,\n",
       "       13369570., 12855276., 12584765., 13020142., 13426854., 13796470.,\n",
       "       14120585., 14391174., 14601122., 14744534., 14817298., 14817298.,\n",
       "       14744534., 14601122., 14391174., 14120585., 13796470., 13426854.,\n",
       "       13020142., 12584765., 12582004., 12905338., 13187936., 13423123.,\n",
       "       13605218., 13729366., 13792317., 13792317., 13729366., 13605218.,\n",
       "       13423123., 13187936., 12905338., 12582004., 12525722., 12683784.,\n",
       "       12791406., 12845898., 12845898., 12791406., 12683784., 12525722.],      dtype=float32)"
      ]
     },
     "execution_count": 89,
     "metadata": {},
     "output_type": "execute_result"
    }
   ],
   "source": [
    "# Satellite paramterse\n",
    "satellite_height = 600  # in km\n",
    "number_of_beams_per_satellite = 19\n",
    "satellite_bandwidth = 30e6 # in Hz n256\n",
    "satellite_bandwidth_per_beam = satellite_bandwidth # in Hz\n",
    "sky_temperature = 290 # in K\n",
    "satellite_gain = 30 # in dBi\n",
    "satellite_central_frequency = 2 # in GHz\n",
    "satellite_power_per_beam = 75.4 # in W\n",
    "\n",
    "# Full frequency reuse\n",
    "\n",
    "snr = jax.vmap(pl.calculate_snr, in_axes=(None,None,None,0,None))(satellite_power_per_beam, satellite_gain, satellite_bandwidth, distance, 0)\n",
    "\n",
    "rates = jax.vmap(pl.calculate_capacity, in_axes=(0,None))(snr, satellite_bandwidth)\n",
    "\n",
    "rates"
   ]
  },
  {
   "cell_type": "code",
   "execution_count": 107,
   "id": "7882b094",
   "metadata": {},
   "outputs": [
    {
     "data": {
      "text/plain": [
       "1"
      ]
     },
     "execution_count": 107,
     "metadata": {},
     "output_type": "execute_result"
    }
   ],
   "source": [
    "# Setup the optimization window\n",
    "import numpy as np\n",
    "\n",
    "\n",
    "window = 30\n",
    "time_step = 0.25\n",
    "\n",
    "R = np.array(rates)\n",
    "D = np.array(demand)\n",
    "\n",
    "T = int(window/time_step)\n",
    "I = np.arange(T)\n",
    "B = number_of_beams_per_satellite\n",
    "cell_visible_ids = np.arange(len(distance))\n",
    "\n",
    "problem = pulp.LpProblem(\"Satellite_optimization\", pulp.LpMaximize)\n",
    "\n",
    "t = pulp.LpVariable(\"t\", lowBound=0, cat='Continuous')\n",
    "x = pulp.LpVariable.dicts(\"x\", (I, cell_visible_ids), cat='Binary')\n",
    "\n",
    "# Objective\n",
    "problem += t \n",
    "\n",
    "# Constraints\n",
    "for k in cell_visible_ids:\n",
    "    problem += t <= (R / (T * D[k])) * pulp.lpSum(x[i][k] for i in I)\n",
    "\n",
    "for i in I:\n",
    "    problem += B >= pulp.lpSum(x[i][k] for k in cell_visible_ids) \n",
    "\n",
    "\n",
    "problem.solve(pulp.PULP_CBC_CMD(msg=1, maxNodes= 1000))\n"
   ]
  },
  {
   "cell_type": "code",
   "execution_count": 99,
   "id": "4101cdad",
   "metadata": {},
   "outputs": [
    {
     "name": "stdout",
     "output_type": "stream",
     "text": [
      "Status: Optimal\n",
      "Optimal t: 0.0\n",
      "Selected (i, k) pairs where x[i][k] = 1:\n"
     ]
    }
   ],
   "source": [
    "# Results\n",
    "print(\"Status:\", pulp.LpStatus[problem.status])\n",
    "print(\"Optimal t:\", pulp.value(t))\n",
    "print(\"Selected (i, k) pairs where x[i][k] = 1:\")"
   ]
  },
  {
   "cell_type": "code",
   "execution_count": 100,
   "id": "0e7cb520",
   "metadata": {},
   "outputs": [],
   "source": [
    "schedule = np.zeros((T, cell_visible_ids.shape[0]))\n",
    "for i in I:\n",
    "    for k in cell_visible_ids:\n",
    "        if pulp.value(x[i][k]) == 1:\n",
    "            schedule[i][k] = 1"
   ]
  },
  {
   "cell_type": "code",
   "execution_count": 101,
   "id": "179f8959",
   "metadata": {},
   "outputs": [
    {
     "data": {
      "text/plain": [
       "Text(0.5, 1.0, 'Beam Allocation Schedule')"
      ]
     },
     "execution_count": 101,
     "metadata": {},
     "output_type": "execute_result"
    },
    {
     "data": {
      "image/png": "[encoded data removed]",
      "text/plain": [
       "<Figure size 640x480 with 2 Axes>"
      ]
     },
     "metadata": {},
     "output_type": "display_data"
    }
   ],
   "source": [
    "plt.imshow(schedule, cmap='gray', aspect='auto', interpolation='none')\n",
    "plt.colorbar(label='Beam allocation (0 or 1)')\n",
    "plt.title(\"Beam Allocation Schedule\")"
   ]
  },
  {
   "cell_type": "code",
   "execution_count": 102,
   "id": "137eba76",
   "metadata": {},
   "outputs": [
    {
     "name": "stdout",
     "output_type": "stream",
     "text": [
      "C/D for each area: [0.41752407 0.60398972 0.42638019 1.07049155 0.53524578 0.7106337\n",
      " 0.70465469 1.04381013 0.34950012 0.         1.09899461 0.27964926\n",
      " 1.1337682  1.14411378 0.76623982 0.76623982 0.65377933 0.5668841\n",
      " 0.74573141 0.54949731 1.07544482 0.         0.59927452 1.08501184\n",
      " 0.55945224 0.76647055 0.78447694 0.         0.69529152 1.22871113\n",
      " 1.23477483 0.         0.70212066 1.21676016 0.79950738 0.58835769\n",
      " 0.76647055 0.55945224 0.         0.         0.         0.74275386\n",
      " 0.         0.79588175 0.61451298 1.26000571 0.64297754 0.8707577\n",
      " 0.75425881 0.         0.88464719 0.65997648 0.43537885 0.73483145\n",
      " 0.         0.70230055 0.         0.57762212 0.         0.71418202\n",
      " 0.51796764 0.         1.13443851 0.59135211 0.         0.63654751\n",
      " 0.         0.77074862 0.         1.40194285 0.         0.95068955\n",
      " 0.81487674 0.56716359 0.80111021 0.6893301  0.67440504 0.6566453\n",
      " 0.63654751 1.22923064 0.59135211 0.         1.08527493 0.69062358\n",
      " 0.59196305 0.54501283 0.76325256 0.2999559  1.25404704 0.\n",
      " 0.         1.05164075 0.         0.49238294 0.85941511 0.\n",
      " 0.         0.76590669 0.43497643 1.00265098 0.84408504 0.82448602\n",
      " 0.8012501  1.35635912 0.65329361 0.83603132 0.68561351 0.76325256\n",
      " 0.62287182 0.51796764 0.86821991 0.57243943 0.80376107 0.72390878\n",
      " 1.32755578 0.55468088 0.82458383 0.99675423 1.02771521 0.\n",
      " 0.92099869 0.81650549 0.93934602 0.82192773 1.08867395 0.92099869\n",
      " 1.05392694 1.02771521 0.99675423 0.82458383 0.         0.88503718\n",
      " 0.63342017 0.         0.         1.08527493 0.61215597 0.75629234\n",
      " 1.19982362 0.         0.66734862 0.46746522 0.58748275 0.51072872\n",
      " 1.06080723 0.54801989 0.96513486 0.98534906 1.16586375 0.70450991\n",
      " 1.17418325 1.16586375 1.72436082 1.12599063 0.82202983 0.79560542\n",
      " 1.02145743 0.73435342 0.80136895 0.76268417 1.26684034 0.\n",
      " 0.56722099 1.07127297 0.6991536  0.55706543 0.78846943 0.62702352\n",
      " 0.88503718 0.80136895 0.73873627 0.         0.9271946  0.96520817\n",
      " 1.1659708  0.90001935 0.92020178 1.86835384 0.75306356 1.07580507\n",
      " 1.06763077 1.22693563 1.02859354 1.7489562  0.56303811 0.\n",
      " 1.03428161 0.73873627 0.70119786 0.         0.         0.78846943\n",
      " 0.74275386 1.04873037 0.72334123 0.57762212 0.81948709 0.87105817\n",
      " 0.         0.9791379  1.03428161 0.93333381 1.71260285 0.89353716\n",
      " 1.85439181 0.         1.95786047 0.99481875 0.57311964 1.14623928\n",
      " 1.70540357 1.11877739 1.27473164 1.05965245 0.89353716 1.1417352\n",
      " 0.81666708 1.03428161 1.46870685 0.69335115 0.43552908 0.81948709\n",
      " 0.77016282 0.54250592 0.59914303 0.74593633 1.19382262 0.63654751\n",
      " 2.71271825 1.44302166 0.87553495 0.         1.1417352  0.\n",
      " 1.25523305 1.30529356 1.34839559 1.03701997 1.05493045 2.12824917\n",
      " 1.41883278 1.05493045 4.14807987 0.         0.         1.88284945\n",
      " 1.02866447 1.1417352  0.9271946  1.02145743 0.82458383 0.\n",
      " 0.         0.59691131 0.55945224 0.         0.53772241 0.65697473\n",
      " 0.70230055 0.87552971 0.9347918  0.49837846 0.79560542 0.96520817\n",
      " 1.02118528 1.6138711  0.65790927 1.17522132 2.12831712 1.0927788\n",
      " 1.27171683 1.49736917 1.49736917 1.1127522  2.1855576  0.\n",
      " 1.17522132 0.65790927 0.94142473 0.         0.96520817 1.06080723\n",
      " 1.49513531 0.8012501  1.31329453 0.8193506  0.         0.\n",
      " 0.73266309 0.58835769 0.84000385 0.67440695 0.96190035 0.88089877\n",
      " 0.         0.         0.         1.30529356 0.         0.\n",
      " 1.48369694 0.         1.33279788 1.34574616 1.34574616 0.77746546\n",
      " 1.30766082 1.1127727  1.07353663 0.6855458  0.97897017 1.05965245\n",
      " 0.         0.54801989 0.88089877 0.72142524 0.         0.42000192\n",
      " 0.         0.54949731 0.52190506 0.37286571 0.39975482 0.85730338\n",
      " 0.         0.         0.         0.         1.02859354 0.95604873\n",
      " 1.01129663 1.21618128 0.         2.31019187 1.58546364 1.2129457\n",
      " 4.90097189 1.40027773 2.4258914  2.37819552 1.15509593 1.2717402\n",
      " 2.12831712 1.01129663 1.91209745 1.02859354 0.         0.\n",
      " 1.47714889 0.6893301  1.28595507 0.68529397 0.63919836 0.41752407\n",
      " 1.05698204 0.         0.69529152 0.6530683  0.80111021 0.75198823\n",
      " 1.07449841 1.14957392 1.22693563 0.97893023 1.03701997 1.24888694\n",
      " 1.30766082 1.35896885 2.45049858 1.25064659 1.68500936 1.44429374\n",
      " 2.50129318 1.63366568 0.         1.52560437 2.18555212 1.38269317\n",
      " 1.11877739 0.61346781 0.         0.92099869 0.85941511 0.80111021\n",
      " 0.43537885 0.81117344 0.37792271 0.70465469 0.35531685 0.\n",
      " 0.         0.87996858 0.81023371 0.86995286 0.         0.\n",
      " 0.         0.         1.05493045 0.         1.16619813 1.3862201\n",
      " 1.25064659 0.         1.72116101 1.47528088 2.55432963 1.42931032\n",
      " 0.80862838 0.         0.         1.20563471 1.13693261 1.86835384\n",
      " 0.58293188 1.08867395 1.52241755 0.81023371 0.         0.49148446\n",
      " 0.38137129 0.         0.61170942 0.38311991 0.         1.3269707\n",
      " 0.         0.76590669 0.82192773 1.00644279 1.07580507 0.50147969\n",
      " 0.         2.2460537  1.17752492 0.         0.         0.73764044\n",
      " 1.7398479  0.7456491  2.58174157 0.         1.22524297 0.67287135\n",
      " 1.49736917 0.60807121 0.         0.         0.88063741 0.82192773\n",
      " 1.02120888 0.57041371 1.3269707  0.         0.65677702 0.53524578\n",
      " 0.61170942 0.65677702 1.23477483 0.75826901 0.         0.\n",
      " 0.82192773 0.         0.         0.6686396  1.41883278 1.12302685\n",
      " 1.57003319 1.22524297 2.52751398 2.58174157 0.86992395 1.7398479\n",
      " 0.         0.         0.         1.17752492 1.12302685 0.85129964\n",
      " 0.         1.25510585 0.50322139 1.64385545 0.87532192 0.\n",
      " 0.         0.         0.         1.07049155 0.60911459 0.65377933\n",
      " 0.81914079 0.65997648 0.94527268 0.         0.         1.16586375\n",
      " 1.86835384 0.99481601 0.         1.48366964 4.66479254 0.\n",
      " 2.50129318 1.27716482 0.         1.47528088 1.27716482 0.\n",
      " 1.2129426  1.33279788 0.         2.1098609  0.         1.06763077\n",
      " 0.9993118  0.         0.76120877 0.94527268 0.87996858 0.4095704\n",
      " 0.57205689 0.53297526 0.35232735 0.         0.60838008 0.74636376\n",
      " 0.80111021 0.75198823 0.         3.44872165 1.84040356 0.\n",
      " 0.         2.18555212 0.         0.         0.9801994  0.\n",
      " 1.26375699 0.         1.42931032 2.45049858 1.35896885 0.76280218\n",
      " 0.         0.         0.78314418 0.         0.98534906 1.61174762\n",
      " 3.00795293 0.80111021 0.43537885 0.60838008 1.1337682  0.60398972\n",
      " 0.52190506 0.55929852 0.59963226 0.42865169 0.91910684 0.84408504\n",
      " 1.05392694 0.84449297 0.         1.09262717 1.34839559 2.12831712\n",
      " 2.22554541 1.15509593 0.         1.61726105 2.45048594 1.22524297\n",
      " 0.         0.         1.15509593 0.         0.         0.\n",
      " 0.63736582 1.02859354 1.68898594 0.         0.73857445 0.91910684\n",
      " 0.64297754 1.19926453 0.31959918 1.04381013 0.54949731 0.\n",
      " 1.26000571 0.         1.44285047 0.         0.         0.8744781\n",
      " 0.92719591 1.30529356 0.         1.22689891 0.         1.14420331\n",
      " 1.16619813 1.1775279  1.34574616 1.16619813 2.28840661 0.\n",
      " 1.07353663 0.         0.65264678 0.92719591 0.         1.09603977\n",
      " 1.54157281 0.96190035 0.77075076 1.26000571 1.17671537 0.62799698\n",
      " 1.07544482 1.14970589 0.70230055 0.37522703 0.40062505 0.\n",
      " 0.79560542 0.96520817 0.59569144 0.         0.98686391 0.\n",
      " 0.         0.         2.2255044  1.28345919 0.         1.1127522\n",
      " 2.1855576  0.         0.         0.65790927 0.94142473 1.78707433\n",
      " 0.         0.79560542 0.74756765 0.40062505 0.65664726 2.45805192\n",
      " 0.         0.61453992 0.34950012 0.63937402 0.79588175 0.\n",
      " 0.90423942 0.72151083 0.         0.81129527 1.71260285 1.80016279\n",
      " 0.         1.95794034 1.15576756 0.69134659 2.1098609  0.\n",
      " 2.12824917 1.05493045 0.         0.67419779 0.97897017 1.07591403\n",
      " 1.80016279 1.71260285 0.9271946  0.76609308 1.44302166 0.77506238\n",
      " 0.63654751 0.         0.55945224 0.         0.72334123 0.57762212\n",
      " 0.70241755 0.         1.3867023  0.83926105 0.         1.63333416\n",
      " 1.1417352  1.02118528 0.         0.95604873 0.97893023 0.\n",
      " 0.         0.6686396  0.         0.         1.91209745 0.\n",
      " 1.19138288 0.85630143 0.93333381 1.03428161 0.73435342 0.\n",
      " 0.74662131 0.         1.15524423 0.62000674 0.52436519 0.\n",
      " 0.67583096 0.83603132 2.65511155 0.80136895 0.73873627 0.77571124\n",
      " 0.81129527 0.84455717 1.7489562  1.02859354 1.05165911 0.93417692\n",
      " 0.         1.25510585 1.24556923 0.         1.2000258  0.8744781\n",
      " 1.12607622 0.         0.51714081 0.98498166 0.46746522 0.\n",
      " 1.25404704 1.18270421 0.         0.         0.61215597 0.75629234\n",
      " 0.34280676 0.         0.88979816 0.         0.83926105 0.76609308\n",
      " 1.06080723 0.82202983 0.96513486 0.         1.74879563 0.88063741\n",
      " 0.88063741 0.87439781 0.         1.68898594 1.64405966 0.\n",
      " 0.87553495 0.9791379  0.         0.88979816 0.63342017 2.39964724\n",
      " 0.56722099 0.         0.         0.57243943 0.         0.63342017\n",
      " 0.75860327 0.79240131 0.96201444 0.         0.7707864  0.\n",
      " 0.92099869 1.63301098 0.54795182 0.         0.         0.80587381\n",
      " 0.79044527 0.         1.49513137 1.44302166 0.46223408 0.66377789\n",
      " 0.         0.60282081 0.         0.         0.69062358 0.\n",
      " 0.57243943 0.         1.25404704 0.         0.67817956 0.\n",
      " 1.44285047 1.26612759 0.85941511 0.43497643 0.         0.76590669\n",
      " 1.01494503 0.         0.         0.         0.4673959  0.45211971\n",
      " 0.74662131 0.62702352 0.59991181 0.76325256 0.7266838  0.51796764\n",
      " 0.51796764 0.36175829 0.56721926 0.         0.70241755 0.63654751\n",
      " 0.         0.8992067  0.         0.         0.70895451 0.95068955\n",
      " 0.71301717 0.70895451 1.40194285 0.6893301  0.         1.3132906\n",
      " 0.         1.22923064 0.78846943 0.75629234 0.         0.\n",
      " 0.         0.         0.66013956 0.79588175 0.         1.00800455\n",
      " 0.85730338 0.6530683  1.31995296 0.         1.3269707  0.\n",
      " 0.         0.64297754 1.26000571 0.         1.19382262 0.77016282\n",
      " 0.74275386 0.35709101 1.04873037 0.72334123 0.         0.65697473\n",
      " 0.39223847 1.19926453 0.69529152 1.22871113 0.92608118 0.\n",
      " 0.81914079 1.21676016 0.59963226 0.39223847 0.86227936 0.\n",
      " 0.62000674 0.         0.69900024 0.         1.09899461 0.\n",
      " 0.         0.85808533 0.86201984 0.38311991 0.76274258 0.32393375\n",
      " 0.63919634 0.         0.71696323 0.69900024 0.69587344 0.70465469\n",
      " 0.         0.71366102 2.1409831  0.79946285 0.70465469 0.69587344]\n",
      "C/D mean: 0.7714889438724831\n"
     ]
    }
   ],
   "source": [
    "# Calculate the C/D for each area\n",
    "C_D = np.zeros(len(demand))\n",
    "for i in range(len(demand)):\n",
    "    C_D[i] = rates[i] * np.sum(schedule[:, i]) / (demand[i]*T)\n",
    "print(\"C/D for each area:\", C_D)\n",
    "print(\"C/D mean:\", np.mean(C_D))"
   ]
  },
  {
   "cell_type": "code",
   "execution_count": 104,
   "id": "c34237a7",
   "metadata": {},
   "outputs": [
    {
     "data": {
      "text/plain": [
       "Array(18967318., dtype=float32)"
      ]
     },
     "execution_count": 104,
     "metadata": {},
     "output_type": "execute_result"
    }
   ],
   "source": [
    "np.mean(rates)"
   ]
  },
  {
   "cell_type": "code",
   "execution_count": 97,
   "id": "e5002257",
   "metadata": {},
   "outputs": [
    {
     "data": {
      "text/plain": [
       "(30, 912)"
      ]
     },
     "execution_count": 97,
     "metadata": {},
     "output_type": "execute_result"
    }
   ],
   "source": [
    "schedule.shape"
   ]
  },
  {
   "cell_type": "markdown",
   "id": "b602e2ba",
   "metadata": {},
   "source": []
  }
 ],
 "metadata": {
  "kernelspec": {
   "display_name": "venv",
   "language": "python",
   "name": "python3"
  },
  "language_info": {
   "codemirror_mode": {
    "name": "ipython",
    "version": 3
   },
   "file_extension": ".py",
   "mimetype": "text/x-python",
   "name": "python",
   "nbconvert_exporter": "python",
   "pygments_lexer": "ipython3",
   "version": "3.10.11"
  }
 },
 "nbformat": 4,
 "nbformat_minor": 5
}
