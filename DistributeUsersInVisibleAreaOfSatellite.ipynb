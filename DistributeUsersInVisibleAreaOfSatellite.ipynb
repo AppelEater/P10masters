{
 "cells": [
  {
   "cell_type": "code",
   "execution_count": 56,
   "id": "dfc9dff5",
   "metadata": {},
   "outputs": [],
   "source": [
    "import Project_library as pl\n",
    "import jax\n",
    "import jax.numpy as jnp\n",
    "\n",
    "import cvxpy as cp"
   ]
  },
  {
   "cell_type": "code",
   "execution_count": 57,
   "id": "7789ca83",
   "metadata": {},
   "outputs": [],
   "source": [
    "min_observation = jnp.deg2rad(30)\n",
    "# Calculate the visible area, given the minimum observational angle\n",
    "\n",
    "# Only works when at equator\n",
    "def visible_angle(min_observation, satellite_position : jnp.ndarray) -> tuple[float, float, float, float, float, float]:\n",
    "    \"\"\"Calculate the visible angle area of a satellite given its position.\n",
    "\n",
    "    Args:\n",
    "        min_observation (float): The minimum observational angle in radians.\n",
    "        satellite_position (jnp.ndarray): The position of the satellite in Cartesian coordinates.\n",
    "\n",
    "    Returns:\n",
    "        tuple: A tuple containing the visible area and the radius of the visible area.\n",
    "    \"\"\"\n",
    "    # Calculate the distance from the satellite to the center of the Earth\n",
    "    distance = jnp.linalg.norm(satellite_position)\n",
    "    # Calculate the radius of the Earth\n",
    "    earth_radius = 6371  # in km\n",
    "\n",
    "    #\n",
    "    bing = jnp.sin(min_observation+jnp.pi/2)\n",
    "\n",
    "    print(bing)\n",
    "\n",
    "    # Calculate the angle of the satellite\n",
    "    alpha = jnp.arcsin(earth_radius*bing/distance)\n",
    "    # Calculate the angle from the center of the earth\n",
    "    lat_width = jnp.pi/2 - alpha - min_observation\n",
    "\n",
    "    # Calculate the spherical value of the satellite\n",
    "    radius, longitude, latitude = pl.cartesian_to_spherical(*satellite_position)\n",
    "    \n",
    "    # Define the ranges of the visible area\n",
    "    lat_range = (latitude.item() - lat_width, latitude.item() + lat_width)\n",
    "    lon_range = (longitude.item() - lat_width, longitude.item() + lat_width)\n",
    "\n",
    "    print(longitude, latitude, lat_range, lon_range)\n",
    "\n",
    "\n",
    "    return lat_range, lon_range, radius, alpha, distance, lat_width"
   ]
  },
  {
   "cell_type": "code",
   "execution_count": 58,
   "id": "ebb8da3f",
   "metadata": {},
   "outputs": [
    {
     "name": "stdout",
     "output_type": "stream",
     "text": [
      "0.8660254\n",
      "0.0 0.0 (Array(-0.13396132, dtype=float32), Array(0.13396132, dtype=float32)) (Array(-0.13396132, dtype=float32), Array(0.13396132, dtype=float32))\n",
      "0.007848061528802385\n"
     ]
    }
   ],
   "source": [
    "radius_earth = 6371 # in km\n",
    "satellite_altitude = 600 # in km\n",
    "\n",
    "# Set satellite above the equator\n",
    "satellite_position = jnp.array([radius_earth + satellite_altitude, 0, 0]) # in km\n",
    "\n",
    "\n",
    "# Calculate the visible area\n",
    "lat_range, lon_range, radius, alpha, distance, lat_width = visible_angle(min_observation, satellite_position)\n",
    "\n",
    "# Generate the grid of points to evaluate the visible area, given a grid size of 50 km\n",
    "grid_size = 50 # in km\n",
    "\n",
    "angle_of_cell_size = grid_size/radius_earth\n",
    "print(angle_of_cell_size)\n",
    "\n",
    "# Calculate the number of cells in the grid\n",
    "num_cells_lat = int((lat_range[1] - lat_range[0]) / angle_of_cell_size)\n",
    "num_cells_lon = int((lon_range[1] - lon_range[0]) / angle_of_cell_size)\n",
    "\n",
    "# Generate the grid of points\n",
    "mesh_grid = jnp.stack(pl.generate_latitude_longitude_points(num_cells_lat, num_cells_lon,lat_range, lon_range), axis=-1)\n",
    "\n",
    "# Print the mesh grid"
   ]
  },
  {
   "cell_type": "code",
   "execution_count": 59,
   "id": "62a5ab88",
   "metadata": {},
   "outputs": [],
   "source": [
    "# Create a random distribution of demand of the grid points, as the points represent an agregate user.\n",
    "r = 0.5\n",
    "demand = jax.random.uniform(jax.random.PRNGKey(0), shape=(num_cells_lat, num_cells_lon), minval=r*200e3, maxval=r*750e3)\n",
    "\n",
    "users = []\n",
    "\n",
    "# Create a user with the demand on the set point in the grid\n",
    "for i in range(num_cells_lat):\n",
    "    mini_user = []\n",
    "    for j in range(num_cells_lon):\n",
    "        if demand[i,j] > 0:\n",
    "            # Create a user with the demand on the set point in the grid\n",
    "            mini_user.append(pl.User(mesh_grid[i,j][0]\n",
    "                                    ,mesh_grid[i,j][1],\n",
    "                                     i*num_cells_lat+j\n",
    "                                     ,demand[i,j],\n",
    "                                      position=pl.spherical_to_cartesian(radius_earth, mesh_grid[i,j][0], mesh_grid[i,j][1])))\n",
    "            \n",
    "    users.append(mini_user)\n"
   ]
  },
  {
   "cell_type": "code",
   "execution_count": 60,
   "id": "ec22129a",
   "metadata": {},
   "outputs": [
    {
     "name": "stdout",
     "output_type": "stream",
     "text": [
      "(Array(6263.9004, dtype=float32), Array(-819.0611, dtype=float32), Array(-826.03357, dtype=float32))\n"
     ]
    }
   ],
   "source": [
    "print(users[0][0].position)"
   ]
  },
  {
   "cell_type": "code",
   "execution_count": 61,
   "id": "61ae7c55",
   "metadata": {},
   "outputs": [],
   "source": [
    "# Calculate the distance between users and the satellite\n",
    "d = []\n",
    "for i in range(num_cells_lat):\n",
    "    dm  = []\n",
    "    for j in range(num_cells_lon):\n",
    "        if demand[i,j] > 0:\n",
    "            # Calculate the distance between the user and the satellite\n",
    "            dm.append(jnp.linalg.norm(jnp.asarray(users[i][j].position )- satellite_position))\n",
    "    d.append(dm)\n",
    "\n",
    "d = jnp.array(d).flatten()\n",
    "\n",
    "           "
   ]
  },
  {
   "cell_type": "code",
   "execution_count": null,
   "id": "88bff6eb",
   "metadata": {},
   "outputs": [
    {
     "data": {
      "text/plain": [
       "Array([3871235. , 4053856.8, 4241521.5, ..., 4241521.5, 4053856.8,\n",
       "       3871235. ], dtype=float32)"
      ]
     },
     "execution_count": 62,
     "metadata": {},
     "output_type": "execute_result"
    }
   ],
   "source": [
    "# Satellite def\n",
    "Satellite_power_per_beam = 75 # in W\n",
    "Satellite_beams = 40 # Number of beams\n",
    "Satellite_bandwidth = 30e6 # in Hz\n",
    "Sky_temperature = 290 # in K\n",
    "Satellite_gain = 30 # in dB\n",
    "Satellite_central_frequency = 2 # in GHz\n",
    "\n",
    "snr = jax.vmap(pl.calculate_snr, in_axes=(None,None,None,0,None))(Satellite_power_per_beam, Satellite_gain, Satellite_bandwidth, d, 0)\n",
    "\n",
    "# Calculate the rate\n",
    "Rates = jax.vmap(pl.calculate_capacity, in_axes=(0,None))(snr, Satellite_bandwidth)\n",
    "\n",
    "Rates"
   ]
  },
  {
   "cell_type": "code",
   "execution_count": 63,
   "id": "72a70ec6",
   "metadata": {},
   "outputs": [
    {
     "data": {
      "text/plain": [
       "Array(369109.47, dtype=float32)"
      ]
     },
     "execution_count": 63,
     "metadata": {},
     "output_type": "execute_result"
    }
   ],
   "source": [
    "# Flatten the users\n",
    "#users = [user for sublist in users for user in sublist]\n",
    "i = 1\n",
    "users[i//num_cells_lon][i%num_cells_lon].demand"
   ]
  },
  {
   "cell_type": "code",
   "execution_count": 64,
   "id": "9b46309c",
   "metadata": {},
   "outputs": [
    {
     "name": "stdout",
     "output_type": "stream",
     "text": [
      "Schedule:\n",
      "[[1 0 0 ... 0 0 1]\n",
      " [0 0 0 ... 0 0 0]\n",
      " [0 0 0 ... 1 0 0]\n",
      " ...\n",
      " [0 0 0 ... 0 0 0]\n",
      " [0 0 0 ... 0 0 0]\n",
      " [0 0 0 ... 0 1 0]]\n"
     ]
    }
   ],
   "source": [
    "\n",
    "\n",
    "# Setup the optimization problem\n",
    "\n",
    "# Define the variables\n",
    "time_slot = 1 # in seconds\n",
    "time_window = 10 # in seconds\n",
    "\n",
    "\n",
    "x = cp.Variable((time_window, len(d)), boolean=True) # Binary variable for the user assignment\n",
    "\n",
    "constraints = []\n",
    "\n",
    "# Constraints for the user assignment\n",
    "# (C1) Each user can be assigned to only one satellite beam\n",
    "for i in range(len(d)):\n",
    "    constraints.append(cp.sum(x[:,i]) <= 1)\n",
    "\n",
    "# (C2) The demand of the users must be satisfied\n",
    "for i in range(len(d)):\n",
    "    constraints.append(cp.sum(x[:,i] * Rates[i] * time_slot) >= users[i//num_cells_lon][i%num_cells_lon].demand)\n",
    "\n",
    "# (C3) The value can only be binary\n",
    "constraints.append(x >= 0)\n",
    "constraints.append(x <= 1)\n",
    "\n",
    "\n",
    "objective = cp.Minimize(0) # Dummy objective function, as we are only interested in the feasibility\n",
    "\n",
    "\n",
    "problem = cp.Problem(objective, constraints)\n",
    "problem.solve()\n",
    "\n",
    "if x.value is not None:\n",
    "    schedule = jnp.round(x.value).astype(int)\n",
    "    print(\"Schedule:\")\n",
    "    print(schedule)\n",
    "else:\n",
    "    print(\"No feasible solution found.\")"
   ]
  },
  {
   "cell_type": "code",
   "execution_count": 65,
   "id": "a67548a2",
   "metadata": {},
   "outputs": [
    {
     "data": {
      "image/png": "[encoded data removed]",
      "text/plain": [
       "<Figure size 1500x500 with 2 Axes>"
      ]
     },
     "metadata": {},
     "output_type": "display_data"
    }
   ],
   "source": [
    "import matplotlib.pyplot as plt\n",
    "\n",
    "jnp.round(x.value).astype(int).shape\n",
    "\n",
    "\n",
    "\n",
    "plt.figure(figsize=(15, 5))\n",
    "plt.imshow(schedule, aspect='auto', cmap='Greys', interpolation='nearest')\n",
    "plt.colorbar(label='Activity (1=On, 0=Off)')\n",
    "plt.xlabel('Time Slot')\n",
    "plt.ylabel('Entity')\n",
    "plt.title('Schedule Visualization')\n",
    "plt.tight_layout()\n",
    "plt.show()"
   ]
  },
  {
   "cell_type": "code",
   "execution_count": null,
   "id": "ab8aad26",
   "metadata": {},
   "outputs": [],
   "source": [
    "# Less strict optimisation\n"
   ]
  }
 ],
 "metadata": {
  "kernelspec": {
   "display_name": "venv",
   "language": "python",
   "name": "python3"
  },
  "language_info": {
   "codemirror_mode": {
    "name": "ipython",
    "version": 3
   },
   "file_extension": ".py",
   "mimetype": "text/x-python",
   "name": "python",
   "nbconvert_exporter": "python",
   "pygments_lexer": "ipython3",
   "version": "3.10.11"
  }
 },
 "nbformat": 4,
 "nbformat_minor": 5
}
