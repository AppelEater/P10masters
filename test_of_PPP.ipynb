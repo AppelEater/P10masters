{
 "cells": [
  {
   "cell_type": "code",
   "execution_count": 4,
   "id": "e1f5e608",
   "metadata": {},
   "outputs": [],
   "source": [
    "import jax\n",
    "import jax.numpy as jnp\n",
    "import jax.random as jrandom\n",
    "\n",
    "import timeit\n",
    "\n",
    "import matplotlib.pyplot as plt"
   ]
  },
  {
   "cell_type": "code",
   "execution_count": null,
   "id": "86df6b19",
   "metadata": {},
   "outputs": [
    {
     "name": "stdout",
     "output_type": "stream",
     "text": [
      "3.85 s ± 138 ms per loop (mean ± std. dev. of 7 runs, 1 loop each)\n",
      "4.05 s ± 132 ms per loop (mean ± std. dev. of 7 runs, 1 loop each)\n"
     ]
    }
   ],
   "source": [
    "# Define a key\n",
    "key = jrandom.PRNGKey(0)\n",
    "\n",
    "# Make a poisson draw\n",
    "key, subkey = jrandom.split(key)\n",
    "draw = jrandom.poisson(subkey, 5.0, shape=(1000,2000))\n",
    "\n",
    "binomial_draw = jrandom.binomial(subkey, 5, 0.8, shape=(2000,2000))\n",
    "\n",
    "%timeit  jrandom.poisson(key, binomial_draw).block_until_ready()\n"
   ]
  },
  {
   "cell_type": "code",
   "execution_count": 30,
   "id": "afb10aad",
   "metadata": {},
   "outputs": [
    {
     "name": "stdout",
     "output_type": "stream",
     "text": [
      "<class 'int'> 183\n"
     ]
    },
    {
     "data": {
      "image/png": "[encoded data removed]",
      "text/plain": [
       "<Figure size 600x600 with 1 Axes>"
      ]
     },
     "metadata": {},
     "output_type": "display_data"
    }
   ],
   "source": [
    "# 1. Define domain\n",
    "x_min, x_max = 0, 1\n",
    "y_min, y_max = 0, 1\n",
    "\n",
    "\n",
    "# Define a random key\n",
    "key = jax.random.PRNGKey(123)\n",
    "subkey, key = jrandom.split(key)\n",
    "\n",
    "\n",
    "# 2. Define the population density function λ(x, y)\n",
    "def lambda_density(x, y):\n",
    "    # Example: peak at the center (Gaussian-like)\n",
    "    return 200 * jnp.exp(-10 * ((x - 0.5)**2 + (y - 0.5)**2))\n",
    "\n",
    "# 3. Find maximum density (safe upper bound)\n",
    "lambda_max = 200  # we know this is the maximum from the function\n",
    "\n",
    "# 4. Simulate a homogeneous PPP with intensity λ_max\n",
    "area_total = (x_max - x_min) * (y_max - y_min)\n",
    "n_points = jax.random.poisson(key, lambda_max * area_total).item()\n",
    "print(type(n_points), n_points)\n",
    "\n",
    "subkey, key = jrandom.split(key)\n",
    "\n",
    "# Generate uniformly random points\n",
    "x_points = jax.random.uniform(key, n_points, minval=x_min, maxval=x_max)\n",
    "\n",
    "subkey, key = jrandom.split(key)\n",
    "\n",
    "y_points = jax.random.uniform(key,  n_points, minval=y_min, maxval=y_max)\n",
    "\n",
    "subkey, key = jrandom.split(key)\n",
    "\n",
    "# 5. Thinning: keep points with probability λ(x, y) / λ_max\n",
    "keep_prob = lambda_density(x_points, y_points) / lambda_max\n",
    "uniform_random = jax.random.uniform(key,n_points, float, 0, 1)\n",
    "\n",
    "# Keep points where uniform_random < keep_prob\n",
    "kept_indices = uniform_random < keep_prob\n",
    "x_kept = x_points[kept_indices]\n",
    "y_kept = y_points[kept_indices]\n",
    "\n",
    "# 6. Plot the result\n",
    "plt.figure(figsize=(6,6))\n",
    "plt.scatter(x_kept, y_kept, s=5)\n",
    "plt.title('Non-Homogeneous Poisson Point Process')\n",
    "plt.xlabel('x')\n",
    "plt.ylabel('y')\n",
    "plt.xlim(x_min, x_max)\n",
    "plt.ylim(y_min, y_max)\n",
    "plt.grid(True)\n",
    "plt.show()\n"
   ]
  },
  {
   "cell_type": "code",
   "execution_count": null,
   "id": "3b087448",
   "metadata": {},
   "outputs": [],
   "source": []
  }
 ],
 "metadata": {
  "kernelspec": {
   "display_name": "venv",
   "language": "python",
   "name": "python3"
  },
  "language_info": {
   "codemirror_mode": {
    "name": "ipython",
    "version": 3
   },
   "file_extension": ".py",
   "mimetype": "text/x-python",
   "name": "python",
   "nbconvert_exporter": "python",
   "pygments_lexer": "ipython3",
   "version": "3.10.11"
  }
 },
 "nbformat": 4,
 "nbformat_minor": 5
}
