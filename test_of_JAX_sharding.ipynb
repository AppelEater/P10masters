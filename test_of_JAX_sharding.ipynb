{
 "cells": [
  {
   "cell_type": "code",
   "execution_count": 1,
   "id": "bfb610d0",
   "metadata": {},
   "outputs": [],
   "source": [
    "import jax\n",
    "import jax.numpy as jnp"
   ]
  },
  {
   "cell_type": "code",
   "execution_count": 6,
   "id": "55553498",
   "metadata": {},
   "outputs": [
    {
     "data": {
      "text/html": [
       "<pre style=\"white-space:pre;overflow-x:auto;line-height:normal;font-family:Menlo,'DejaVu Sans Mono',consolas,'Courier New',monospace\"><span style=\"color: #ffffff; text-decoration-color: #ffffff; background-color: #393b79\">                                     </span>\n",
       "<span style=\"color: #ffffff; text-decoration-color: #ffffff; background-color: #393b79\">                                     </span>\n",
       "<span style=\"color: #ffffff; text-decoration-color: #ffffff; background-color: #393b79\">                                     </span>\n",
       "<span style=\"color: #ffffff; text-decoration-color: #ffffff; background-color: #393b79\">                                     </span>\n",
       "<span style=\"color: #ffffff; text-decoration-color: #ffffff; background-color: #393b79\">                                     </span>\n",
       "<span style=\"color: #ffffff; text-decoration-color: #ffffff; background-color: #393b79\">                CPU 0                </span>\n",
       "<span style=\"color: #ffffff; text-decoration-color: #ffffff; background-color: #393b79\">                                     </span>\n",
       "<span style=\"color: #ffffff; text-decoration-color: #ffffff; background-color: #393b79\">                                     </span>\n",
       "<span style=\"color: #ffffff; text-decoration-color: #ffffff; background-color: #393b79\">                                     </span>\n",
       "<span style=\"color: #ffffff; text-decoration-color: #ffffff; background-color: #393b79\">                                     </span>\n",
       "<span style=\"color: #ffffff; text-decoration-color: #ffffff; background-color: #393b79\">                                     </span>\n",
       "</pre>\n"
      ],
      "text/plain": [
       "\u001b[38;2;255;255;255;48;2;57;59;121m                                     \u001b[0m\n",
       "\u001b[38;2;255;255;255;48;2;57;59;121m                                     \u001b[0m\n",
       "\u001b[38;2;255;255;255;48;2;57;59;121m                                     \u001b[0m\n",
       "\u001b[38;2;255;255;255;48;2;57;59;121m                                     \u001b[0m\n",
       "\u001b[38;2;255;255;255;48;2;57;59;121m                                     \u001b[0m\n",
       "\u001b[38;2;255;255;255;48;2;57;59;121m                \u001b[0m\u001b[38;2;255;255;255;48;2;57;59;121mCPU 0\u001b[0m\u001b[38;2;255;255;255;48;2;57;59;121m                \u001b[0m\n",
       "\u001b[38;2;255;255;255;48;2;57;59;121m                                     \u001b[0m\n",
       "\u001b[38;2;255;255;255;48;2;57;59;121m                                     \u001b[0m\n",
       "\u001b[38;2;255;255;255;48;2;57;59;121m                                     \u001b[0m\n",
       "\u001b[38;2;255;255;255;48;2;57;59;121m                                     \u001b[0m\n",
       "\u001b[38;2;255;255;255;48;2;57;59;121m                                     \u001b[0m\n"
      ]
     },
     "metadata": {},
     "output_type": "display_data"
    }
   ],
   "source": [
    "arr = jnp.arange(24).reshape(4,6)\n",
    "\n",
    "arr.devices()\n",
    "\n",
    "jax.debug.visualize_array_sharding(arr)\n"
   ]
  },
  {
   "cell_type": "code",
   "execution_count": null,
   "id": "93c61040",
   "metadata": {},
   "outputs": [
    {
     "data": {
      "text/plain": [
       "[CpuDevice(id=0)]"
      ]
     },
     "execution_count": 15,
     "metadata": {},
     "output_type": "execute_result"
    }
   ],
   "source": [
    "from jax.sharding import PartitionSpec as P\n",
    "\n",
    "jax.devices"
   ]
  }
 ],
 "metadata": {
  "kernelspec": {
   "display_name": "venv",
   "language": "python",
   "name": "python3"
  },
  "language_info": {
   "codemirror_mode": {
    "name": "ipython",
    "version": 3
   },
   "file_extension": ".py",
   "mimetype": "text/x-python",
   "name": "python",
   "nbconvert_exporter": "python",
   "pygments_lexer": "ipython3",
   "version": "3.10.11"
  }
 },
 "nbformat": 4,
 "nbformat_minor": 5
}
