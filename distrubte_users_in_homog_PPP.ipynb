{
 "cells": [
  {
   "cell_type": "code",
   "execution_count": 85,
   "id": "ab32d82f",
   "metadata": {},
   "outputs": [],
   "source": [
    "import jax\n",
    "import jax.numpy as jnp\n",
    "import jax.random as jrandom\n",
    "\n",
    "import typing\n",
    "\n",
    "import matplotlib.pyplot as plt\n",
    "\n",
    "import Project_library"
   ]
  },
  {
   "cell_type": "code",
   "execution_count": 86,
   "id": "4d59f9da",
   "metadata": {},
   "outputs": [
    {
     "name": "stdout",
     "output_type": "stream",
     "text": [
      "This is a test function from the core module.\n"
     ]
    }
   ],
   "source": [
    "Project_library.test()"
   ]
  },
  {
   "cell_type": "code",
   "execution_count": null,
   "id": "d658322e",
   "metadata": {},
   "outputs": [],
   "source": [
    "# Define the user class\n",
    "\n",
    "class User(typing.NamedTuple):\n",
    "    \"\"\"A user class that represents a user with a unique ID and a list of items.\"\"\"\n",
    "    latitude: float\n",
    "    longitude: float\n",
    "    id: int\n",
    "    throughput: float = 0.0 # Consider making a secondary class that is only for all QoS. You kinda just need to add more information to the state of the user.\n",
    "    position: jax.typing.ArrayLike = jnp.array([0.0, 0.0, 0.0])\n",
    "\n",
    "    def __repr__(self):\n",
    "        return f\"User(id={self.id} \\n lat={self.latitude} \\n lon={self.longitude})\"\n",
    "    \n",
    "# Define the function to create users\n",
    "\n",
    "@jax.jit\n",
    "def create_user(id, lat_range, longi_range, key : jax.typing.ArrayLike) -> User:\n",
    "    \"\"\"Creates a list of users with random latitude and longitude.\"\"\"\n",
    "    # Generate a random key for the user\n",
    "    key, subkey = jrandom.split(key, 2)\n",
    "\n",
    "    latitude = jrandom.uniform(key, minval=lat_range[0], maxval=lat_range[1])\n",
    "    key = jrandom.split(key, 1)[0]\n",
    "    # Split the key for the next random number generation\n",
    "    longitude = jrandom.uniform(key, minval=longi_range[0], maxval=longi_range[1])\n",
    "\n",
    "    position = Project_library.spherical_to_cartesian(6378,latitude, longitude)\n",
    "\n",
    "    return User(\n",
    "        latitude=latitude,\n",
    "        longitude=longitude,\n",
    "        position=position,\n",
    "        id=id\n",
    "    )\n",
    "\n",
    "# Define the function to create multiple users\n",
    "create_users = jax.vmap(create_user, in_axes=(0, None, None, 0))\n"
   ]
  },
  {
   "cell_type": "code",
   "execution_count": 88,
   "id": "801547a7",
   "metadata": {},
   "outputs": [
    {
     "name": "stdout",
     "output_type": "stream",
     "text": [
      "Time taken to create 10 users: 0.36763691902160645\n"
     ]
    }
   ],
   "source": [
    "import time\n",
    "\n",
    "start = time.time()\n",
    "for i in range(20):\n",
    "    create_user(i, (0, 10), (0, 10), jrandom.PRNGKey(0))\n",
    "\n",
    "stop = time.time()\n",
    "\n",
    "print(\"Time taken to create 10 users:\", stop - start)\n",
    "\n",
    "start = time.time()\n",
    "lats = jnp.array([0, 10])\n",
    "long = jnp.array([0, 10])\n",
    "ids = jnp.arange(20)\n",
    "jrandom_key = jrandom.split(jrandom.PRNGKey(0), 20)\n",
    "# Create 10 users with random latitude and longitude\n",
    "users = create_users(ids, lats, long, jrandom_key)\n",
    "\n",
    "\n",
    "\n",
    "#start = time.time()\n",
    "#create_users(ids, lats, longs, jrandom.PRNGKey(0))\n",
    "#stop = time.time()\n",
    "\n",
    "#start = time.time()\n",
    "#users_list_test = create_users(ids, lats, longs, jrandom.PRNGKey(0))\n",
    "#stop = time.time()\n",
    "\n",
    "#print(\"Time taken to create 10 users with vmap:\", stop - start)\n",
    "\n",
    "\n",
    "#print(users_list_test)"
   ]
  },
  {
   "cell_type": "code",
   "execution_count": 89,
   "id": "386e1e4f",
   "metadata": {},
   "outputs": [
    {
     "name": "stdout",
     "output_type": "stream",
     "text": [
      "[2.8271997  5.788324   0.68850994 9.536983   8.066345   5.116377\n",
      " 1.5063298  2.7780986  9.560162   1.6895592  7.120054   7.125561\n",
      " 1.8494904  1.6308415  2.6688766  4.2351856  4.116026   1.3831294\n",
      " 5.8395185  8.0540085 ]\n",
      "User(id=[ 0  1  2  3  4  5  6  7  8  9 10 11 12 13 14 15 16 17 18 19] \n",
      " lat=[2.8271997  5.788324   0.68850994 9.536983   8.066345   5.116377\n",
      " 1.5063298  2.7780986  9.560162   1.6895592  7.120054   7.125561\n",
      " 1.8494904  1.6308415  2.6688766  4.2351856  4.116026   1.3831294\n",
      " 5.8395185  8.0540085 ] \n",
      " lon=[0.71745753 6.251626   4.858401   9.478201   6.5973616  7.7300167\n",
      " 8.439302   4.218855   0.8808291  8.056244   7.55505    9.911102\n",
      " 4.568754   9.737341   9.891549   4.0398192  4.074993   0.63726425\n",
      " 2.099477   0.07335663])\n"
     ]
    }
   ],
   "source": [
    "print(users[0])\n",
    "print(users)"
   ]
  },
  {
   "cell_type": "code",
   "execution_count": 90,
   "id": "ac5f919a",
   "metadata": {},
   "outputs": [
    {
     "name": "stdout",
     "output_type": "stream",
     "text": [
      "-0.17453292 0.17453292\n",
      "-0.17453292 0.17453292\n",
      "Width of latitude: 0.17453292\n",
      "Width of longitude: 0.08726646\n",
      "Density mesh shape: [[[ 0.         -0.08726646  5.        ]\n",
      "  [ 0.          0.08726647  5.        ]]]\n"
     ]
    }
   ],
   "source": [
    "class square_cell(typing.NamedTuple):\n",
    "    \"\"\"A class representing a square cell.\"\"\"\n",
    "    # Define the fields of the named tuple\n",
    "    lat: float  # Latitude of the cell center\n",
    "    longi: float  # Longitude of the cell center\n",
    "    lat_width : typing.List[float]  # Latitude range of the cell\n",
    "    longi_width : typing.List[float]  # Longitude range of the cell\n",
    "    density: float  # Density of users in the cell\n",
    "    id: int  # ID of the cell\n",
    "    users_amount : int = 0  # Number of users in the cell\n",
    "    users: User = 0  # List of users in the cell\n",
    "\n",
    "\n",
    "\n",
    "Number_of_zones_latitude = 1\n",
    "Number_of_zones_longitude = 2\n",
    "\n",
    "# Define the latitude and longitude ranges for the grid\n",
    "lat_range = (jnp.deg2rad(-10), jnp.deg2rad(10))\n",
    "longi_range = (jnp.deg2rad(-10), jnp.deg2rad(10))\n",
    "\n",
    "print(jnp.deg2rad(-10), jnp.deg2rad(10))\n",
    "print(jnp.deg2rad(-10), jnp.deg2rad(10))\n",
    "\n",
    "# Generate a grid of latitude and longitude points\n",
    "point_grid_of_cells = Project_library.generate_latitude_longitude_points( Number_of_zones_latitude, Number_of_zones_longitude,lat_range, longi_range)\n",
    "\n",
    "# Add an extra dimension according to the density of the cell\n",
    "density_mesh = jnp.ones((Number_of_zones_latitude, Number_of_zones_longitude)) * 5\n",
    "\n",
    "# Add an extra dimension to the density mesh to match the shape of the point grid\n",
    "cell_density_mesh = jnp.stack((*point_grid_of_cells, density_mesh), axis=-1)\n",
    "\n",
    "width_of_latitude = jnp.abs(lat_range[1] - lat_range[0]) / (Number_of_zones_latitude*2)\n",
    "width_of_longitude = jnp.abs(longi_range[1] - longi_range[0]) / (Number_of_zones_longitude*2)\n",
    "\n",
    "print(\"Width of latitude:\", width_of_latitude)\n",
    "print(\"Width of longitude:\", width_of_longitude)\n",
    "print(\"Density mesh shape:\", cell_density_mesh)\n"
   ]
  },
  {
   "cell_type": "code",
   "execution_count": 91,
   "id": "03b71f16",
   "metadata": {},
   "outputs": [
    {
     "name": "stdout",
     "output_type": "stream",
     "text": [
      "[ 0.         -0.08726646  5.        ]\n",
      "[Array(-0.17453292, dtype=float32), Array(0., dtype=float32)] [Array(-0.17453292, dtype=float32), Array(0.17453292, dtype=float32)] 5.0 0\n",
      "Area of cell: [2465736.2]\n",
      "[[1797259609 2579123966]\n",
      " [ 928981903 3453687069]\n",
      " [4146024105 2718843009]\n",
      " [2467461003 3840466878]\n",
      " [2285895361  433833334]]\n",
      "[12323492]\n",
      "[0.         0.08726647 5.        ]\n",
      "[Array(7.450581e-09, dtype=float32), Array(0.17453292, dtype=float32)] [Array(-0.17453292, dtype=float32), Array(0.17453292, dtype=float32)] 5.0 1\n",
      "Area of cell: [2465736.2]\n",
      "[[2799984767 1105366846]\n",
      " [3777617834  145086855]\n",
      " [ 915694800 1641710144]\n",
      " ...\n",
      " [1411171344 1532011838]\n",
      " [ 719547843 2037078956]\n",
      " [1079085352 2481610848]]\n",
      "[12330025]\n"
     ]
    }
   ],
   "source": [
    "cells = []\n",
    "\n",
    "key = jrandom.split(jrandom.PRNGKey(0), 5)\n",
    "# Populate each cell with users\n",
    "for i in range(cell_density_mesh.shape[0]):\n",
    "    for j in range(cell_density_mesh.shape[1]):\n",
    "        print(cell_density_mesh[i, j])\n",
    "        long_borders = [cell_density_mesh[i, j, 1]-width_of_longitude, cell_density_mesh[i, j, 1]+width_of_longitude]\n",
    "        lat_borders = [cell_density_mesh[i, j, 0]-width_of_latitude, cell_density_mesh[i, j, 0]+width_of_latitude]\n",
    "        density = cell_density_mesh[i, j, 2]\n",
    "        cell_id = i * cell_density_mesh.shape[1] + j\n",
    "        print(long_borders, lat_borders, density, cell_id)\n",
    "        # Calculate area of the cell\n",
    "        cell_area = Project_library.calculate_area_on_sphere(6378,lat_borders, long_borders)\n",
    "        print(\"Area of cell:\", cell_area)\n",
    "        print(key)\n",
    "        amount_of_users = jax.random.poisson(key[0], density * cell_area)\n",
    "        print(amount_of_users)\n",
    "        key = jrandom.split(key[2], amount_of_users.item())\n",
    "        \n",
    "        # Create users for the cell\n",
    "        users = create_users(jnp.arange(amount_of_users.item()), lat_borders, long_borders, key)\n",
    "        # Create the cell\n",
    "        cells.append(square_cell(\n",
    "            lat=cell_density_mesh[i, j, 0],\n",
    "            longi=cell_density_mesh[i, j, 1],\n",
    "            lat_width=lat_borders,\n",
    "            longi_width=long_borders,\n",
    "            density=density,\n",
    "            id=cell_id,\n",
    "            users_amount=amount_of_users.item(),\n",
    "            users=users\n",
    "        ))\n",
    "        "
   ]
  },
  {
   "cell_type": "code",
   "execution_count": null,
   "id": "d32adda3",
   "metadata": {},
   "outputs": [],
   "source": [
    "# Calculate distance between users and a satellite.\n",
    "satellite_position = jnp.array([6730+600, 0.0, 0.0])\n",
    "\n",
    "@jax.jit\n",
    "def calculate_distance(x_user, y_user, z_user, satellite_position: jax.typing.ArrayLike) -> float:\n",
    "    \"\"\"Calculate the distance between a user and a satellite.\"\"\"\n",
    "    # Calculate the distance using the Euclidean formula\n",
    "    return jnp.sqrt((satellite_position[0] - x_user) ** 2 + (satellite_position[1] - y_user) ** 2 + (satellite_position[2] - z_user) ** 2)\n",
    "\n",
    "# Calculate the elevation angle of the satellite\n",
    "@jax.jit\n",
    "def calculate_elevation(x_user, y_user, z_user, satellite_position : jax.typing.ArrayLike) -> float:\n",
    "    user_pos = jnp.asarray((x_user, y_user, z_user))\n",
    "    elev = jnp.arcsin(jnp.dot(satellite_position-user_pos, user_pos/jnp.linalg.norm(user_pos))/jnp.linalg.norm(satellite_position-user_pos))\n",
    "    return elev\n",
    "\n",
    "# Calculate the distance between users and the satellite\n",
    "calculate_distances = jax.vmap(calculate_distance, in_axes=(0,0,0, None))\n",
    "calculate_elevations = jax.vmap(calculate_elevation, in_axes=(0,0,0, None))"
   ]
  },
  {
   "cell_type": "code",
   "execution_count": 101,
   "id": "b6a42f9d",
   "metadata": {},
   "outputs": [
    {
     "data": {
      "text/plain": [
       "Array(87.798325, dtype=float32)"
      ]
     },
     "execution_count": 101,
     "metadata": {},
     "output_type": "execute_result"
    }
   ],
   "source": [
    "calculate_distance(users.position[0][0], users.position[1][0], users.position[2][0], satellite_position)\n",
    "jnp.rad2deg(calculate_elevation(users.position[0][0], users.position[1][0], users.position[2][0], satellite_position))"
   ]
  },
  {
   "cell_type": "code",
   "execution_count": 108,
   "id": "0d819303",
   "metadata": {},
   "outputs": [
    {
     "data": {
      "text/plain": [
       "Array([1.5323699, 1.3952194, 1.3879647, ..., 1.4723645, 1.4073749,\n",
       "       1.3908669], dtype=float32)"
      ]
     },
     "execution_count": 108,
     "metadata": {},
     "output_type": "execute_result"
    }
   ],
   "source": [
    "calculate_distances(users.position[0], users.position[1], users.position[2], satellite_position).block_until_ready()\n",
    "calculate_elevations(users.position[0], users.position[1], users.position[2], satellite_position).block_until_ready()"
   ]
  }
 ],
 "metadata": {
  "kernelspec": {
   "display_name": "venv",
   "language": "python",
   "name": "python3"
  },
  "language_info": {
   "codemirror_mode": {
    "name": "ipython",
    "version": 3
   },
   "file_extension": ".py",
   "mimetype": "text/x-python",
   "name": "python",
   "nbconvert_exporter": "python",
   "pygments_lexer": "ipython3",
   "version": "3.10.11"
  }
 },
 "nbformat": 4,
 "nbformat_minor": 5
}
