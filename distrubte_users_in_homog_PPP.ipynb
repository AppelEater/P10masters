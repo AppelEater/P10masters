{
 "cells": [
  {
   "cell_type": "code",
   "execution_count": 1,
   "id": "ab32d82f",
   "metadata": {},
   "outputs": [],
   "source": [
    "import jax\n",
    "import jax.numpy as jnp\n",
    "import jax.random as jrandom\n",
    "\n",
    "import typing\n",
    "\n",
    "import matplotlib.pyplot as plt\n",
    "\n",
    "import Project_library"
   ]
  },
  {
   "cell_type": "code",
   "execution_count": 2,
   "id": "4d59f9da",
   "metadata": {},
   "outputs": [
    {
     "name": "stdout",
     "output_type": "stream",
     "text": [
      "This is a test function from the core module.\n"
     ]
    },
    {
     "data": {
      "text/plain": [
       "True"
      ]
     },
     "execution_count": 2,
     "metadata": {},
     "output_type": "execute_result"
    }
   ],
   "source": [
    "Project_library.test()"
   ]
  },
  {
   "cell_type": "code",
   "execution_count": 3,
   "id": "d658322e",
   "metadata": {},
   "outputs": [],
   "source": [
    "# Define the user class\n",
    "\n",
    "class User(typing.NamedTuple):\n",
    "    \"\"\"A user class that represents a user with a unique ID and a list of items.\"\"\"\n",
    "    latitude: float\n",
    "    longitude: float\n",
    "    id: int\n",
    "    throughput: float = 0.0 # Consider making a secondary class that is only for all QoS. You kinda just need to add more information to the state of the user.\n",
    "    position: jax.typing.ArrayLike = jnp.array([0.0, 0.0, 0.0])\n",
    "\n",
    "    def __repr__(self):\n",
    "        return f\"User(id={self.id} \\n lat={self.latitude} \\n lon={self.longitude})\"\n",
    "    \n",
    "# Define the function to create users\n",
    "\n",
    "@jax.jit\n",
    "def create_user(id, lat_range, longi_range, key : jax.typing.ArrayLike) -> User:\n",
    "    \"\"\"Creates a list of users with random latitude and longitude.\"\"\"\n",
    "    # Generate a random key for the user\n",
    "    key, subkey = jrandom.split(key, 2)\n",
    "\n",
    "    latitude = jrandom.uniform(key, minval=lat_range[0], maxval=lat_range[1])\n",
    "    key = jrandom.split(key, 1)[0]\n",
    "    # Split the key for the next random number generation\n",
    "    longitude = jrandom.uniform(key, minval=longi_range[0], maxval=longi_range[1])\n",
    "\n",
    "    position = Project_library.spherical_to_cartesian(latitude, longitude)\n",
    "\n",
    "    return User(\n",
    "        latitude=latitude,\n",
    "        longitude=longitude,\n",
    "        position=position,\n",
    "        id=id\n",
    "    )\n",
    "\n",
    "# Define the function to create multiple users\n",
    "create_users = jax.vmap(create_user, in_axes=(0, 0, 0, None))\n"
   ]
  },
  {
   "cell_type": "code",
   "execution_count": 4,
   "id": "801547a7",
   "metadata": {},
   "outputs": [
    {
     "name": "stdout",
     "output_type": "stream",
     "text": [
      "Time taken to create 10 users: 0.8307781219482422\n",
      "Time taken to create 10 users with vmap: 0.0029926300048828125\n",
      "User(id=[ 0  1  2  3  4  5  6  7  8  9 10 11 12 13 14 15 16 17 18 19] \n",
      " lat=[1. 1. 1. 1. 1. 1. 1. 1. 1. 1. 1. 1. 1. 1. 1. 1. 1. 1. 1. 1.] \n",
      " lon=[1. 1. 1. 1. 1. 1. 1. 1. 1. 1. 1. 1. 1. 1. 1. 1. 1. 1. 1. 1.])\n"
     ]
    }
   ],
   "source": [
    "import time\n",
    "\n",
    "start = time.time()\n",
    "for i in range(20):\n",
    "    create_user(i, (0, 10), (0, 10), jrandom.PRNGKey(0))\n",
    "\n",
    "stop = time.time()\n",
    "\n",
    "print(\"Time taken to create 10 users:\", stop - start)\n",
    "\n",
    "start = time.time()\n",
    "lats = jnp.ones((20, 2))\n",
    "longs = jnp.ones((20, 2))\n",
    "\n",
    "for i in range(10):\n",
    "    lats.at[i].set([0, 10])\n",
    "    longs.at[i].set([0, 10])\n",
    "\n",
    "ids = jnp.arange(20)\n",
    "\n",
    "start = time.time()\n",
    "create_users(ids, lats, longs, jrandom.PRNGKey(0))\n",
    "stop = time.time()\n",
    "\n",
    "start = time.time()\n",
    "users_list_test = create_users(ids, lats, longs, jrandom.PRNGKey(0))\n",
    "stop = time.time()\n",
    "\n",
    "print(\"Time taken to create 10 users with vmap:\", stop - start)\n",
    "\n",
    "\n",
    "print(users_list_test)"
   ]
  },
  {
   "cell_type": "code",
   "execution_count": null,
   "id": "ac5f919a",
   "metadata": {},
   "outputs": [
    {
     "ename": "SyntaxError",
     "evalue": "expected ':' (1410344310.py, line 1)",
     "output_type": "error",
     "traceback": [
      "\u001b[1;36m  Cell \u001b[1;32mIn[1], line 1\u001b[1;36m\u001b[0m\n\u001b[1;33m    class square_cell(typing.NamedTuple)\u001b[0m\n\u001b[1;37m                                        ^\u001b[0m\n\u001b[1;31mSyntaxError\u001b[0m\u001b[1;31m:\u001b[0m expected ':'\n"
     ]
    }
   ],
   "source": [
    "class square_cell(typing.NamedTuple):\n",
    "    \"\"\"A class representing a square cell.\"\"\"\n",
    "    # Define the fields of the named tuple\n",
    "    lat: float  # Latitude of the cell center\n",
    "    longi: float  # Longitude of the cell center\n",
    "    density: float  # Density of users in the cell\n",
    "    id: int  # ID of the cell\n",
    "    users: typing.List[User]  # List of users in the cell\n",
    "\n",
    "Number_of_zones_latitude = 10\n",
    "Number_of_zones_longitude = 10\n",
    "\n",
    "# Define the latitude and longitude ranges for the grid\n",
    "lat_range = (jnp.deg2rad(-10), jnp.deg2rad(10))\n",
    "longi_range = (jnp.deg2rad(-10), jnp.deg2rad(10))\n",
    "\n",
    "# Generate a grid of latitude and longitude points\n",
    "density_grid = Project_library.generate_latitude_longitude_points( Number_of_zones_latitude, Number_of_zones_longitude,lat_range, longi_range)\n",
    "\n",
    "\n",
    "\n",
    "def poisson_draw_users(density, lattitude_range, longitude_range, key) -> int:\n",
    "    \"\"\"Draws users from a Poisson distribution.\"\"\"\n",
    "    # Generate a random key for the user\n",
    "    key, subkey = jrandom.split(key, 2)\n",
    "\n",
    "    # Calculate the number of users to draw based on the density\n",
    "    num_users = jnp.random.poisson(density)\n",
    "\n",
    "    return num_users\n",
    "\n",
    "\n"
   ]
  }
 ],
 "metadata": {
  "kernelspec": {
   "display_name": "venv",
   "language": "python",
   "name": "python3"
  },
  "language_info": {
   "codemirror_mode": {
    "name": "ipython",
    "version": 3
   },
   "file_extension": ".py",
   "mimetype": "text/x-python",
   "name": "python",
   "nbconvert_exporter": "python",
   "pygments_lexer": "ipython3",
   "version": "3.10.11"
  }
 },
 "nbformat": 4,
 "nbformat_minor": 5
}
