{
 "cells": [
  {
   "cell_type": "code",
   "execution_count": 7,
   "id": "50351650",
   "metadata": {},
   "outputs": [],
   "source": [
    "import Project_library as pl\n",
    "import pickle as pkl\n",
    "import matplotlib.pyplot as plt"
   ]
  },
  {
   "cell_type": "code",
   "execution_count": null,
   "id": "85b2b38f",
   "metadata": {},
   "outputs": [
    {
     "data": {
      "text/plain": [
       "{'Config': {'reconfig_period': [1, 5, 10],\n",
       "  'time_step': [0.1, 0.25, 0.5],\n",
       "  'rmin': [1, 10000],\n",
       "  'iterations': 5}}"
      ]
     },
     "execution_count": 8,
     "metadata": {},
     "output_type": "execute_result"
    }
   ],
   "source": [
    "with open(r'../evaluation/results_sweep1747837390', 'rb') as f:\n",
    "    config = pkl.load(f)\n",
    "\n",
    "    "
   ]
  }
 ],
 "metadata": {
  "kernelspec": {
   "display_name": "venv",
   "language": "python",
   "name": "python3"
  },
  "language_info": {
   "codemirror_mode": {
    "name": "ipython",
    "version": 3
   },
   "file_extension": ".py",
   "mimetype": "text/x-python",
   "name": "python",
   "nbconvert_exporter": "python",
   "pygments_lexer": "ipython3",
   "version": "3.10.11"
  }
 },
 "nbformat": 4,
 "nbformat_minor": 5
}
