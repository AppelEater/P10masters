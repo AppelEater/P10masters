{
 "cells": [
  {
   "cell_type": "code",
   "execution_count": 38,
   "id": "0dcbf595",
   "metadata": {},
   "outputs": [],
   "source": [
    "import jax.numpy as jnp\n",
    "import jax\n",
    "import jax.lax as lax"
   ]
  },
  {
   "cell_type": "code",
   "execution_count": 10,
   "id": "db635b71",
   "metadata": {},
   "outputs": [
    {
     "data": {
      "text/plain": [
       "(Array([[0. , 0. , 0. , 0.4, 0. , 0.1],\n",
       "        [0.3, 0. , 0.2, 0. , 0.2, 0. ],\n",
       "        [0. , 0.1, 0. , 0. , 0. , 0.6],\n",
       "        [0. , 0. , 0. , 0. , 0. , 0. ],\n",
       "        [0. , 0.6, 0.6, 0. , 0.6, 0. ]], dtype=float32, weak_type=True),\n",
       " Array([[False, False, False,  True, False,  True],\n",
       "        [ True, False,  True, False,  True, False],\n",
       "        [False,  True, False, False, False,  True],\n",
       "        [False, False, False, False, False, False],\n",
       "        [False,  True,  True, False,  True, False]], dtype=bool))"
      ]
     },
     "execution_count": 10,
     "metadata": {},
     "output_type": "execute_result"
    }
   ],
   "source": [
    "\n",
    "schedule = jnp.array([[0,1,0,0,0,1],\n",
    "                      [0,0,1,0,1,0],\n",
    "                      [0,1,0,0,1,0],\n",
    "                      [1,0,0,0,0,1],\n",
    "                      [0,1,0,0,1,0],\n",
    "                      [1,0,1,0,0,0]]).T\n",
    "\n",
    "\n",
    "@jax.jit\n",
    "def all_disconnect_durations(schedule: jnp.ndarray,\n",
    "                             time_step: float,\n",
    "                             T: int):\n",
    "    \"\"\"\n",
    "    schedule:   (T, K) array of 0/1 or booleans\n",
    "    time_step:  scalar float\n",
    "    T:          number of timesteps in `schedule`\n",
    "    returns: \n",
    "      durations:        (T-1, K) float array\n",
    "      disconnect_mask:  (T-1, K) bool array\n",
    "    \"\"\"\n",
    "    # 1) diff along time → shape (T-1, K)\n",
    "    diff = jnp.diff(schedule.astype(jnp.int32), axis=0)\n",
    "    T1, K = diff.shape\n",
    "\n",
    "    # 2) build an index grid [0,1,...,T1-1] along axis-0\n",
    "    idx = jnp.arange(T1)[:, None]                        # (T1,1)\n",
    "\n",
    "    # 3) for each (i,k): pos_idx = i if diff[i,k]==+1 else sentinel=T1\n",
    "    pos_idx = jnp.where(diff ==  1, idx, T1)             # (T1,K)\n",
    "\n",
    "    # 4) compute suffix‐minimum over pos_idx by doing a prefix‐min on the reversed array:\n",
    "    #    suffix_min_rev[j,:] = min(pos_idx_rev[:j+1, :], axis=0)\n",
    "    suffix_min_rev = jax.lax.associative_scan(\n",
    "        lambda x, y: jnp.minimum(x, y),\n",
    "        pos_idx[::-1, :],\n",
    "        axis=0\n",
    "    )\n",
    "    suffix_min = suffix_min_rev[::-1, :]                 # (T1,K)\n",
    "\n",
    "    # 5) we only care about “next reconnect AFTER index i”, so shift up one:\n",
    "    sentinel_row = jnp.full((1, K), T1)\n",
    "    suffix_after = jnp.concatenate([suffix_min[1:], sentinel_row], axis=0)  # (T1,K)\n",
    "\n",
    "    # 6) mask where we actually disconnected\n",
    "    disconnect_mask = (diff == -1)                       # (T1,K)\n",
    "\n",
    "    # 7) did we see a reconnect for each (i,k)?\n",
    "    reconnected = (suffix_after < T1)\n",
    "\n",
    "    # 8) build raw durations and apply fallbacks:\n",
    "    raw_dur  = (suffix_after - idx) * time_step\n",
    "    fallback = T * time_step\n",
    "    # if disconnected & reconnected → raw_dur\n",
    "    # if disconnected & NOT reconnected → fallback\n",
    "    # else → 0\n",
    "    durations = jnp.where(disconnect_mask & reconnected,\n",
    "                          raw_dur,\n",
    "                          0.0)\n",
    "    durations = jnp.where(disconnect_mask & ~reconnected,\n",
    "                          fallback,\n",
    "                          durations)\n",
    "\n",
    "    return durations, disconnect_mask\n",
    "\n",
    "all_disconnect_durations(schedule, time_step=0.1, T=schedule.shape[0])"
   ]
  },
  {
   "cell_type": "code",
   "execution_count": 63,
   "id": "9a556608",
   "metadata": {},
   "outputs": [],
   "source": [
    "key = jax.random.PRNGKey(0)\n",
    "v = jax.random.choice(key, jnp.array([0,1]), shape=(1000,420), p=jnp.array([0.9, 0.1]))\n",
    "\n",
    "def disconnect_time(v: jnp.ndarray, time_step) -> jnp.ndarray:\n",
    "    # Boolean mask for zeros\n",
    "    is_zero = (v == 0)\n",
    "\n",
    "    # Scanning function to compute lengths of consecutive zeros\n",
    "    def scan_fn(carry, x):\n",
    "        current_run = jnp.where(x, carry + 1, 0)\n",
    "        return current_run, current_run\n",
    "\n",
    "    # Scan over the boolean mask to get lengths of runs of zeros\n",
    "    _, runs = lax.scan(scan_fn, jnp.array(0), is_zero)\n",
    "\n",
    "    \n",
    "    # Check the shifted version of the boolean mask to find run-ends, where a run of zeros ends\n",
    "    shifted = jnp.concatenate([is_zero[1:], jnp.array([False])])\n",
    "    run_ends = is_zero & (~shifted)\n",
    "\n",
    "    # Zero out everything except at run-ends\n",
    "    run_lengths = runs * run_ends\n",
    "\n",
    "    return run_lengths*time_step\n",
    "\n",
    "\n",
    "disconnect_times = jax.jit(jax.vmap(disconnect_time, in_axes=(0, None)))(v.T, 0.1)\n"
   ]
  },
  {
   "cell_type": "code",
   "execution_count": null,
   "id": "397eed5a",
   "metadata": {},
   "outputs": [
    {
     "data": {
      "text/plain": [
       "Array([[0.1       , 1.        , 1.        , ..., 1.        , 1.        ,\n",
       "        0.3       ],\n",
       "       [1.        , 0.2       , 1.        , ..., 1.        , 1.        ,\n",
       "        1.2       ],\n",
       "       [0.1       , 1.        , 1.        , ..., 1.        , 1.        ,\n",
       "        1.2       ],\n",
       "       ...,\n",
       "       [1.        , 0.2       , 1.        , ..., 1.        , 1.        ,\n",
       "        0.8       ],\n",
       "       [0.1       , 1.        , 1.        , ..., 1.        , 1.        ,\n",
       "        1.1       ],\n",
       "       [1.        , 1.        , 1.        , ..., 1.        , 1.        ,\n",
       "        0.90000004]], dtype=float32, weak_type=True)"
      ]
     },
     "execution_count": 66,
     "metadata": {},
     "output_type": "execute_result"
    }
   ],
   "source": []
  }
 ],
 "metadata": {
  "kernelspec": {
   "display_name": ".venv",
   "language": "python",
   "name": "python3"
  },
  "language_info": {
   "codemirror_mode": {
    "name": "ipython",
    "version": 3
   },
   "file_extension": ".py",
   "mimetype": "text/x-python",
   "name": "python",
   "nbconvert_exporter": "python",
   "pygments_lexer": "ipython3",
   "version": "3.10.0"
  }
 },
 "nbformat": 4,
 "nbformat_minor": 5
}
